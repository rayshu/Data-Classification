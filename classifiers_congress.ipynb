{
 "cells": [
  {
   "cell_type": "code",
   "execution_count": 40,
   "metadata": {},
   "outputs": [],
   "source": [
    "import pandas as pd\n",
    "import numpy as np\n",
    "import matplotlib.pyplot as plt\n",
    "import seaborn as sns\n",
    "from sklearn.feature_extraction.text import TfidfVectorizer\n",
    "from sklearn import model_selection, svm\n",
    "from sklearn.naive_bayes import MultinomialNB\n",
    "from sklearn.metrics import confusion_matrix"
   ]
  },
  {
   "cell_type": "markdown",
   "metadata": {},
   "source": [
    "# Loading the Data"
   ]
  },
  {
   "cell_type": "code",
   "execution_count": 2,
   "metadata": {},
   "outputs": [
    {
     "data": {
      "text/html": [
       "<div>\n",
       "<style scoped>\n",
       "    .dataframe tbody tr th:only-of-type {\n",
       "        vertical-align: middle;\n",
       "    }\n",
       "\n",
       "    .dataframe tbody tr th {\n",
       "        vertical-align: top;\n",
       "    }\n",
       "\n",
       "    .dataframe thead th {\n",
       "        text-align: right;\n",
       "    }\n",
       "</style>\n",
       "<table border=\"1\" class=\"dataframe\">\n",
       "  <thead>\n",
       "    <tr style=\"text-align: right;\">\n",
       "      <th></th>\n",
       "      <th>Text</th>\n",
       "      <th>DocType</th>\n",
       "      <th>DocType_id</th>\n",
       "    </tr>\n",
       "  </thead>\n",
       "  <tbody>\n",
       "    <tr>\n",
       "      <td>0</td>\n",
       "      <td>august p l protect america act sign law presid...</td>\n",
       "      <td>Private</td>\n",
       "      <td>1</td>\n",
       "    </tr>\n",
       "    <tr>\n",
       "      <td>1</td>\n",
       "      <td>ass recent international development leader nu...</td>\n",
       "      <td>Private</td>\n",
       "      <td>1</td>\n",
       "    </tr>\n",
       "    <tr>\n",
       "      <td>2</td>\n",
       "      <td>h r senate judiciary committee amendment natur...</td>\n",
       "      <td>Private</td>\n",
       "      <td>1</td>\n",
       "    </tr>\n",
       "    <tr>\n",
       "      <td>3</td>\n",
       "      <td>relies comprehensive set data capital flow rep...</td>\n",
       "      <td>Private</td>\n",
       "      <td>1</td>\n",
       "    </tr>\n",
       "    <tr>\n",
       "      <td>4</td>\n",
       "      <td>provide overview role foreign investment play ...</td>\n",
       "      <td>Private</td>\n",
       "      <td>1</td>\n",
       "    </tr>\n",
       "    <tr>\n",
       "      <td>...</td>\n",
       "      <td>...</td>\n",
       "      <td>...</td>\n",
       "      <td>...</td>\n",
       "    </tr>\n",
       "    <tr>\n",
       "      <td>8741</td>\n",
       "      <td>congressional record online government publish...</td>\n",
       "      <td>Public</td>\n",
       "      <td>0</td>\n",
       "    </tr>\n",
       "    <tr>\n",
       "      <td>8742</td>\n",
       "      <td>mr wittman madam speaker rise today recognitio...</td>\n",
       "      <td>Public</td>\n",
       "      <td>0</td>\n",
       "    </tr>\n",
       "    <tr>\n",
       "      <td>8743</td>\n",
       "      <td>christensen retire extensive noteworthy career</td>\n",
       "      <td>Public</td>\n",
       "      <td>0</td>\n",
       "    </tr>\n",
       "    <tr>\n",
       "      <td>8744</td>\n",
       "      <td>service assistant inspector general audit</td>\n",
       "      <td>Public</td>\n",
       "      <td>0</td>\n",
       "    </tr>\n",
       "    <tr>\n",
       "      <td>8745</td>\n",
       "      <td>evaluation office inspector general oig</td>\n",
       "      <td>Public</td>\n",
       "      <td>0</td>\n",
       "    </tr>\n",
       "  </tbody>\n",
       "</table>\n",
       "<p>8746 rows × 3 columns</p>\n",
       "</div>"
      ],
      "text/plain": [
       "                                                   Text  DocType  DocType_id\n",
       "0     august p l protect america act sign law presid...  Private           1\n",
       "1     ass recent international development leader nu...  Private           1\n",
       "2     h r senate judiciary committee amendment natur...  Private           1\n",
       "3     relies comprehensive set data capital flow rep...  Private           1\n",
       "4     provide overview role foreign investment play ...  Private           1\n",
       "...                                                 ...      ...         ...\n",
       "8741  congressional record online government publish...   Public           0\n",
       "8742  mr wittman madam speaker rise today recognitio...   Public           0\n",
       "8743     christensen retire extensive noteworthy career   Public           0\n",
       "8744          service assistant inspector general audit   Public           0\n",
       "8745            evaluation office inspector general oig   Public           0\n",
       "\n",
       "[8746 rows x 3 columns]"
      ]
     },
     "execution_count": 2,
     "metadata": {},
     "output_type": "execute_result"
    }
   ],
   "source": [
    "df = pd.read_csv(\"Data/congress/NewCongressClean.csv\")\n",
    "np.random.seed(1000)\n",
    "df['DocType_id'] = df['DocType'].map({\"Public\":0, \"Private\":1})\n",
    "df"
   ]
  },
  {
   "cell_type": "code",
   "execution_count": 43,
   "metadata": {},
   "outputs": [],
   "source": [
    "doctype_id_df = pd.DataFrame({'DocType':[\"Public\", \"Private\"], 'doctype_id': [0, 1]} ) "
   ]
  },
  {
   "cell_type": "markdown",
   "metadata": {},
   "source": [
    "## Data Distribution"
   ]
  },
  {
   "cell_type": "code",
   "execution_count": 3,
   "metadata": {},
   "outputs": [
    {
     "data": {
      "image/png": "[encoded data removed]",
      "text/plain": [
       "<Figure size 576x432 with 1 Axes>"
      ]
     },
     "metadata": {
      "needs_background": "light"
     },
     "output_type": "display_data"
    }
   ],
   "source": [
    "fig = plt.figure(figsize=(8,6))\n",
    "graph = df.groupby('DocType').Text.count().plot.bar(ylim=0)\n",
    "\n",
    "for p in graph.patches:\n",
    "        graph.annotate('{:.0f}'.format(p.get_height()), (p.get_x()+0.3, p.get_height()))\n",
    "graph.set_title('Data Distribution') \n",
    "plt.show()"
   ]
  },
  {
   "cell_type": "markdown",
   "metadata": {},
   "source": [
    "## Train-Test Split"
   ]
  },
  {
   "cell_type": "code",
   "execution_count": 82,
   "metadata": {},
   "outputs": [
    {
     "name": "stdout",
     "output_type": "stream",
     "text": [
      "Size of Training data:  6996\n",
      "Size of Test data :   1750\n"
     ]
    }
   ],
   "source": [
    "Train_X, Test_X, Train_Y, Test_Y = model_selection.train_test_split(df['Text'],df['DocType'],test_size=0.2)\n",
    "print('Size of Training data: ', Train_X.shape[0])\n",
    "print('Size of Test data :  ', Test_X.shape[0])"
   ]
  },
  {
   "cell_type": "code",
   "execution_count": 91,
   "metadata": {},
   "outputs": [
    {
     "name": "stdout",
     "output_type": "stream",
     "text": [
      "Train Data Distribution\n",
      "Public     6183\n",
      "Private     813\n",
      "Name: a, dtype: int64\n",
      "\n",
      "\n",
      "Test Data Distribution\n",
      "Public     1563\n",
      "Private     187\n",
      "Name: a, dtype: int64\n"
     ]
    }
   ],
   "source": [
    "Train_counts = pd.DataFrame(Train_Y.values, columns = list('a'))\n",
    "print('Train Data Distribution')\n",
    "print(Train_counts['a'].value_counts())\n",
    "\n",
    "Test_counts = pd.DataFrame(Test_Y.values, columns = list('a'))\n",
    "print('\\n\\nTest Data Distribution')\n",
    "print(Test_counts['a'].value_counts())"
   ]
  },
  {
   "cell_type": "markdown",
   "metadata": {},
   "source": [
    "# Extracting Features"
   ]
  },
  {
   "cell_type": "markdown",
   "metadata": {},
   "source": [
    "## TF-IDF\n",
    "tf-idf (term frequency–inverse document frequency), is a numerical statistic that is intended to reflect how important a word is to a document in a collection or corpus.\n",
    "\n",
    "* **Term Frequency tf**, is the raw count of a term in a document.\n",
    "* **Inverse Document Frequency idf**, is a measure of how much information the word provides, i.e., if it's common or rare across all documents.  \n",
    "\n"
   ]
  },
  {
   "cell_type": "markdown",
   "metadata": {},
   "source": [
    "### TfidfVectorizer\n",
    "* **ngram_range=(min, max):** Boundary for different n-grams to be extracted. (1,1)=unigrams only, (1,2)=unigrams and bigrams, (2,2)=bigrams only.\n",
    "* **max_df=<float in range[0.0, 1.0] or int default=1.0>:** Ignore terms with document frequency higher than max_df.\n",
    "* **min_df=<float in range[0.0, 1.0] or int default=1.0>:** Ignore terms with document frequency lower than min_df.\n",
    "* **max_features=int:** limits the features to be extracted to top max_features value\n",
    "* **use_idf=bool(default=True):** Enable inverse-document-reweighting.\n",
    "* **sublinear_tf=bool(default=False):** Apply sublinear tf scaling i.e. replace tf with 1+log(tf)"
   ]
  },
  {
   "cell_type": "code",
   "execution_count": 92,
   "metadata": {},
   "outputs": [
    {
     "name": "stdout",
     "output_type": "stream",
     "text": [
      "Train Data (n_samples, n_features): (6996, 610)\n",
      "Test Data (Text, Features): (1750, 610)\n"
     ]
    }
   ],
   "source": [
    "# Tfidf_vect = TfidfVectorizer(sublinear_tf=True, min_df=5, ngram_range=(3,3))\n",
    "Tfidf_vect = TfidfVectorizer(ngram_range=(3,3), max_features=20000, min_df=5)\n",
    "#Learn the vocabulary\n",
    "Tfidf_vect.fit(df['Text'])\n",
    "\n",
    "Train_X_Tfidf = Tfidf_vect.transform(Train_X)\n",
    "print(\"Train Data (n_samples, n_features):\", Train_X_Tfidf.shape)\n",
    "Test_X_Tfidf = Tfidf_vect.transform(Test_X)\n",
    "print(\"Test Data (Text, Features):\", Test_X_Tfidf.shape)"
   ]
  },
  {
   "cell_type": "markdown",
   "metadata": {},
   "source": [
    "### Top if-idf features"
   ]
  },
  {
   "cell_type": "code",
   "execution_count": 93,
   "metadata": {},
   "outputs": [
    {
     "name": "stdout",
     "output_type": "stream",
     "text": [
      "Features for public train data (7746, 488)\n",
      "Features for private train data (1000, 93)\n"
     ]
    }
   ],
   "source": [
    "df_public = df.loc[df[\"DocType\"]==\"Public\",:]\n",
    "df_private = df.loc[df[\"DocType\"]==\"Private\"]\n",
    "features_public = Tfidf_vect.fit_transform(df_public.Text)\n",
    "features_private = Tfidf_vect.fit_transform(df_private.Text)\n",
    "labels_public = df_public.DocType\n",
    "labels_private = df_private.DocType\n",
    "print(\"Features for public train data\", features_public.shape)\n",
    "print(\"Features for private train data\", features_private.shape)"
   ]
  },
  {
   "cell_type": "code",
   "execution_count": 94,
   "metadata": {},
   "outputs": [
    {
     "name": "stdout",
     "output_type": "stream",
     "text": [
      "# Public\n",
      ". young men woman\n",
      ". exclusive right respective\n",
      ". exercise exclusive legislation\n",
      ". exercise like authority\n",
      ". export control act\n",
      ". export defense article\n",
      ". express sense senate\n",
      ". federal aviation administration\n",
      ". finance authorize meet\n",
      ". first second time\n",
      ". fiscal year committee\n",
      ". fiscal year end\n",
      ". fishery service department\n",
      ". fix standard weight\n",
      ". follow bill joint\n",
      ". follow bill read\n",
      ". follow committee authorize\n",
      ". follow communication laid\n",
      ". follow concurrent resolution\n",
      ". follow report committee\n"
     ]
    }
   ],
   "source": [
    "N = 20\n",
    "\n",
    "#Public data\n",
    "features_public = Tfidf_vect.fit_transform(df_public.Text)\n",
    "feature_names = np.array(Tfidf_vect.get_feature_names())\n",
    "tfidf_sorting = np.argsort(features_public.toarray()).flatten()[::-1]\n",
    "top_public = feature_names[tfidf_sorting][:N]\n",
    "# print(Tfidf_vect.vocabulary_)\n",
    "print('# Public')\n",
    "print(\". {}\".format('\\n. '.join(top_public)))"
   ]
  },
  {
   "cell_type": "code",
   "execution_count": 95,
   "metadata": {},
   "outputs": [
    {
     "name": "stdout",
     "output_type": "stream",
     "text": [
      "\n",
      "# Private\n",
      ". year design supplement\n",
      ". include united state\n",
      ". free trade agreement\n",
      ". full time position\n",
      ". funding level related\n",
      ". fy budget request\n",
      ". gross domestic product\n",
      ". guide one regular\n",
      ". house senate appropriation\n",
      ". house senate pass\n",
      ". improvement reauthorization act\n",
      ". information provide house\n",
      ". major issue funding\n",
      ". intellectual property right\n",
      ". intelligence surveillance act\n",
      ". international monetary fund\n",
      ". introduce th congress\n",
      ". issue congress include\n",
      ". issue funding level\n",
      ". law enforcement intelligence\n"
     ]
    }
   ],
   "source": [
    "#Private data\n",
    "features_private = Tfidf_vect.fit_transform(df_private.Text)\n",
    "feature_names = np.array(Tfidf_vect.get_feature_names())\n",
    "tfidf_sorting = np.argsort(features_private.toarray()).flatten()[::-1]\n",
    "top_private = feature_names[tfidf_sorting][:N]\n",
    "# print(Tfidf_vect.vocabulary_)\n",
    "# features_private_dict = {'Features':Tfidf_vect.vocabulary_.keys(), 'Values': Tfidf_vect.vocabulary_.values()} \n",
    "print('\\n# Private')\n",
    "print(\". {}\".format('\\n. '.join(top_private)))\n",
    "# features_private_dict"
   ]
  },
  {
   "cell_type": "markdown",
   "metadata": {},
   "source": [
    "# Running ML algorithms"
   ]
  },
  {
   "cell_type": "markdown",
   "metadata": {},
   "source": [
    "## Naive Bayes"
   ]
  },
  {
   "cell_type": "code",
   "execution_count": 87,
   "metadata": {},
   "outputs": [],
   "source": [
    "NB = MultinomialNB().fit(Train_X_Tfidf, Train_Y)"
   ]
  },
  {
   "cell_type": "code",
   "execution_count": 88,
   "metadata": {},
   "outputs": [],
   "source": [
    "predicted = NB.predict(Test_X_Tfidf)\n",
    "df_test = pd.DataFrame(Test_X)\n",
    "df_test['Predicted'] = predicted \n",
    "df_test['Actual'] = Test_Y"
   ]
  },
  {
   "cell_type": "markdown",
   "metadata": {},
   "source": [
    "### Misclassified Data"
   ]
  },
  {
   "cell_type": "code",
   "execution_count": 116,
   "metadata": {},
   "outputs": [
    {
     "data": {
      "text/html": [
       "<div>\n",
       "<style scoped>\n",
       "    .dataframe tbody tr th:only-of-type {\n",
       "        vertical-align: middle;\n",
       "    }\n",
       "\n",
       "    .dataframe tbody tr th {\n",
       "        vertical-align: top;\n",
       "    }\n",
       "\n",
       "    .dataframe thead th {\n",
       "        text-align: right;\n",
       "    }\n",
       "</style>\n",
       "<table border=\"1\" class=\"dataframe\">\n",
       "  <thead>\n",
       "    <tr style=\"text-align: right;\">\n",
       "      <th></th>\n",
       "      <th>Text</th>\n",
       "      <th>Predicted</th>\n",
       "      <th>Actual</th>\n",
       "      <th>match</th>\n",
       "    </tr>\n",
       "  </thead>\n",
       "  <tbody>\n",
       "    <tr>\n",
       "      <td>669</td>\n",
       "      <td>provide background international military educ...</td>\n",
       "      <td>Public</td>\n",
       "      <td>Private</td>\n",
       "      <td>Not Match</td>\n",
       "    </tr>\n",
       "    <tr>\n",
       "      <td>720</td>\n",
       "      <td>explains first u antidumping countervail duty ...</td>\n",
       "      <td>Public</td>\n",
       "      <td>Private</td>\n",
       "      <td>Not Match</td>\n",
       "    </tr>\n",
       "    <tr>\n",
       "      <td>717</td>\n",
       "      <td>government agency humanitarian organization id...</td>\n",
       "      <td>Public</td>\n",
       "      <td>Private</td>\n",
       "      <td>Not Match</td>\n",
       "    </tr>\n",
       "    <tr>\n",
       "      <td>465</td>\n",
       "      <td>united state respond world food program wfp ap...</td>\n",
       "      <td>Public</td>\n",
       "      <td>Private</td>\n",
       "      <td>Not Match</td>\n",
       "    </tr>\n",
       "    <tr>\n",
       "      <td>239</td>\n",
       "      <td>american disability act ada provide broad nond...</td>\n",
       "      <td>Public</td>\n",
       "      <td>Private</td>\n",
       "      <td>Not Match</td>\n",
       "    </tr>\n",
       "    <tr>\n",
       "      <td>...</td>\n",
       "      <td>...</td>\n",
       "      <td>...</td>\n",
       "      <td>...</td>\n",
       "      <td>...</td>\n",
       "    </tr>\n",
       "    <tr>\n",
       "      <td>745</td>\n",
       "      <td>war crime integral part bosnian war u european...</td>\n",
       "      <td>Public</td>\n",
       "      <td>Private</td>\n",
       "      <td>Not Match</td>\n",
       "    </tr>\n",
       "    <tr>\n",
       "      <td>22</td>\n",
       "      <td>federal budget return persistent deficit fisca...</td>\n",
       "      <td>Public</td>\n",
       "      <td>Private</td>\n",
       "      <td>Not Match</td>\n",
       "    </tr>\n",
       "    <tr>\n",
       "      <td>116</td>\n",
       "      <td>several reason congress might address estate t...</td>\n",
       "      <td>Public</td>\n",
       "      <td>Private</td>\n",
       "      <td>Not Match</td>\n",
       "    </tr>\n",
       "    <tr>\n",
       "      <td>460</td>\n",
       "      <td>provide brief discussion post employment restr...</td>\n",
       "      <td>Public</td>\n",
       "      <td>Private</td>\n",
       "      <td>Not Match</td>\n",
       "    </tr>\n",
       "    <tr>\n",
       "      <td>533</td>\n",
       "      <td>prime minister helen clark first elect prime m...</td>\n",
       "      <td>Public</td>\n",
       "      <td>Private</td>\n",
       "      <td>Not Match</td>\n",
       "    </tr>\n",
       "  </tbody>\n",
       "</table>\n",
       "<p>149 rows × 4 columns</p>\n",
       "</div>"
      ],
      "text/plain": [
       "                                                  Text Predicted   Actual  \\\n",
       "669  provide background international military educ...    Public  Private   \n",
       "720  explains first u antidumping countervail duty ...    Public  Private   \n",
       "717  government agency humanitarian organization id...    Public  Private   \n",
       "465  united state respond world food program wfp ap...    Public  Private   \n",
       "239  american disability act ada provide broad nond...    Public  Private   \n",
       "..                                                 ...       ...      ...   \n",
       "745  war crime integral part bosnian war u european...    Public  Private   \n",
       "22   federal budget return persistent deficit fisca...    Public  Private   \n",
       "116  several reason congress might address estate t...    Public  Private   \n",
       "460  provide brief discussion post employment restr...    Public  Private   \n",
       "533  prime minister helen clark first elect prime m...    Public  Private   \n",
       "\n",
       "         match  \n",
       "669  Not Match  \n",
       "720  Not Match  \n",
       "717  Not Match  \n",
       "465  Not Match  \n",
       "239  Not Match  \n",
       "..         ...  \n",
       "745  Not Match  \n",
       "22   Not Match  \n",
       "116  Not Match  \n",
       "460  Not Match  \n",
       "533  Not Match  \n",
       "\n",
       "[149 rows x 4 columns]"
      ]
     },
     "execution_count": 116,
     "metadata": {},
     "output_type": "execute_result"
    }
   ],
   "source": [
    "df_test['match'] = np.where((df_test['Predicted'] != df_test['Actual']), 'Not Match', 'Match')\n",
    "df_test.loc[df_test[\"match\"]==\"Not Match\",:]"
   ]
  },
  {
   "cell_type": "code",
   "execution_count": 117,
   "metadata": {},
   "outputs": [
    {
     "name": "stdout",
     "output_type": "stream",
     "text": [
      "[[  44  143]\n",
      " [   6 1557]]\n"
     ]
    },
    {
     "data": {
      "image/png": "[encoded data removed]",
      "text/plain": [
       "<Figure size 432x288 with 2 Axes>"
      ]
     },
     "metadata": {},
     "output_type": "display_data"
    }
   ],
   "source": [
    "conf_mat = confusion_matrix(Test_Y, predicted)\n",
    "print(conf_mat)\n",
    "\n",
    "heat_map = sns.heatmap(conf_mat, xticklabels=['Public', 'Private'], yticklabels=False, cmap=\"cubehelix\", annot=True, fmt='d')\n",
    "\n",
    "\n",
    "plt.xlabel(\"Predicted\")\n",
    "plt.ylabel(\"Actual\\nPrivate             Public\")\n",
    "plt.show()"
   ]
  },
  {
   "cell_type": "markdown",
   "metadata": {},
   "source": [
    "## SVM"
   ]
  },
  {
   "cell_type": "code",
   "execution_count": null,
   "metadata": {},
   "outputs": [],
   "source": [
    "SVM = svm.SVC(C=1.0, kernel='linear', degree=3, gamma='auto',random_state=0)"
   ]
  }
 ],
 "metadata": {
  "kernelspec": {
   "display_name": "Python 3",
   "language": "python",
   "name": "python3"
  },
  "language_info": {
   "codemirror_mode": {
    "name": "ipython",
    "version": 3
   },
   "file_extension": ".py",
   "mimetype": "text/x-python",
   "name": "python",
   "nbconvert_exporter": "python",
   "pygments_lexer": "ipython3",
   "version": "3.7.4"
  }
 },
 "nbformat": 4,
 "nbformat_minor": 2
}
