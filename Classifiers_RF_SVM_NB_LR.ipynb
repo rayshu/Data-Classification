{
  "nbformat": 4,
  "nbformat_minor": 0,
  "metadata": {
    "colab": {
      "name": "Classifiers_RF_SVM_NB_LR.ipynb",
      "provenance": [],
      "collapsed_sections": [],
      "authorship_tag": "ABX9TyMPl9grtOsUnRnoBrqv47D+",
      "include_colab_link": true
    },
    "kernelspec": {
      "name": "python3",
      "display_name": "Python 3"
    }
  },
  "cells": [
    {
      "cell_type": "markdown",
      "metadata": {
        "id": "view-in-github",
        "colab_type": "text"
      },
      "source": [
        "<a href=\"https://colab.research.google.com/github/rayshu/Data-Classification/blob/master/Classifiers_RF_SVM_NB_LR.ipynb\" target=\"_parent\"><img src=\"https://colab.research.google.com/assets/colab-badge.svg\" alt=\"Open In Colab\"/></a>"
      ]
    },
    {
      "cell_type": "code",
      "metadata": {
        "id": "H1brz9Rt1qa3",
        "colab_type": "code",
        "outputId": "a1f7849a-be7c-4d31-cb8d-2dc2d479b8f5",
        "colab": {
          "base_uri": "https://localhost:8080/",
          "height": 122
        }
      },
      "source": [
        "from google.colab import drive\n",
        "drive.mount('/content/drive')"
      ],
      "execution_count": 1,
      "outputs": [
        {
          "output_type": "stream",
          "text": [
            "Go to this URL in a browser: https://accounts.google.com/o/oauth2/auth?client_id=947318989803-6bn6qk8qdgf4n4g3pfee6491hc0brc4i.apps.googleusercontent.com&redirect_uri=urn%3aietf%3awg%3aoauth%3a2.0%3aoob&response_type=code&scope=email%20https%3a%2f%2fwww.googleapis.com%2fauth%2fdocs.test%20https%3a%2f%2fwww.googleapis.com%2fauth%2fdrive%20https%3a%2f%2fwww.googleapis.com%2fauth%2fdrive.photos.readonly%20https%3a%2f%2fwww.googleapis.com%2fauth%2fpeopleapi.readonly\n",
            "\n",
            "Enter your authorization code:\n",
            "··········\n",
            "Mounted at /content/drive\n"
          ],
          "name": "stdout"
        }
      ]
    },
    {
      "cell_type": "markdown",
      "metadata": {
        "id": "2ZN1GnGH2ZvR",
        "colab_type": "text"
      },
      "source": [
        "# import packages"
      ]
    },
    {
      "cell_type": "code",
      "metadata": {
        "id": "DklO98Ae17XS",
        "colab_type": "code",
        "colab": {}
      },
      "source": [
        "import pandas as pd\n",
        "import numpy as np\n",
        "from sklearn.feature_extraction.text import TfidfVectorizer\n",
        "from sklearn import model_selection, svm\n",
        "from sklearn.metrics import accuracy_score\n",
        "import matplotlib.pyplot as plt\n",
        "import seaborn as sns\n",
        "# from sklearn.feature_selection import chi2\n",
        "from sklearn.metrics import confusion_matrix\n",
        "from sklearn.ensemble import RandomForestClassifier\n",
        "from sklearn.linear_model import LogisticRegression\n",
        "from sklearn.naive_bayes import MultinomialNB\n",
        "from sklearn.svm import LinearSVC\n",
        "from sklearn.model_selection import cross_val_score"
      ],
      "execution_count": 0,
      "outputs": []
    },
    {
      "cell_type": "code",
      "metadata": {
        "id": "w5tc-1I32q7u",
        "colab_type": "code",
        "colab": {}
      },
      "source": [
        "df = pd.read_csv(\"/content/drive/My Drive/Data/cleaneddata.csv\")\n",
        "np.random.seed(1000)"
      ],
      "execution_count": 0,
      "outputs": []
    },
    {
      "cell_type": "code",
      "metadata": {
        "id": "c43YYfBd3OjF",
        "colab_type": "code",
        "outputId": "ba52005a-9fd3-4e5a-b57a-c94a3712d94c",
        "colab": {
          "base_uri": "https://localhost:8080/",
          "height": 623
        }
      },
      "source": [
        "df_ent = df.loc[(df['DocType']==\"Public\") | (df[\"DocType\"]==\"Private\"),:]\n",
        "df_ent.loc[:,'DocType_id'] = df_ent['DocType'].map({\"Public\":0, \"Private\":1})\n",
        "df_ent"
      ],
      "execution_count": 94,
      "outputs": [
        {
          "output_type": "stream",
          "text": [
            "/usr/local/lib/python3.6/dist-packages/pandas/core/indexing.py:376: SettingWithCopyWarning: \n",
            "A value is trying to be set on a copy of a slice from a DataFrame.\n",
            "Try using .loc[row_indexer,col_indexer] = value instead\n",
            "\n",
            "See the caveats in the documentation: http://pandas.pydata.org/pandas-docs/stable/user_guide/indexing.html#returning-a-view-versus-a-copy\n",
            "  self.obj[key] = _infer_fill_value(value)\n",
            "/usr/local/lib/python3.6/dist-packages/pandas/core/indexing.py:494: SettingWithCopyWarning: \n",
            "A value is trying to be set on a copy of a slice from a DataFrame.\n",
            "Try using .loc[row_indexer,col_indexer] = value instead\n",
            "\n",
            "See the caveats in the documentation: http://pandas.pydata.org/pandas-docs/stable/user_guide/indexing.html#returning-a-view-versus-a-copy\n",
            "  self.obj[item] = s\n"
          ],
          "name": "stderr"
        },
        {
          "output_type": "execute_result",
          "data": {
            "text/html": [
              "<div>\n",
              "<style scoped>\n",
              "    .dataframe tbody tr th:only-of-type {\n",
              "        vertical-align: middle;\n",
              "    }\n",
              "\n",
              "    .dataframe tbody tr th {\n",
              "        vertical-align: top;\n",
              "    }\n",
              "\n",
              "    .dataframe thead th {\n",
              "        text-align: right;\n",
              "    }\n",
              "</style>\n",
              "<table border=\"1\" class=\"dataframe\">\n",
              "  <thead>\n",
              "    <tr style=\"text-align: right;\">\n",
              "      <th></th>\n",
              "      <th>Text</th>\n",
              "      <th>DocType</th>\n",
              "      <th>DocType_id</th>\n",
              "    </tr>\n",
              "  </thead>\n",
              "  <tbody>\n",
              "    <tr>\n",
              "      <th>0</th>\n",
              "      <td>confirm usf mnd significant action mnc mnd eve...</td>\n",
              "      <td>Private</td>\n",
              "      <td>1</td>\n",
              "    </tr>\n",
              "    <tr>\n",
              "      <th>1</th>\n",
              "      <td>joint defense operation center receive report ...</td>\n",
              "      <td>Private</td>\n",
              "      <td>1</td>\n",
              "    </tr>\n",
              "    <tr>\n",
              "      <th>2</th>\n",
              "      <td>c small arm fire attack contractor set convoy ...</td>\n",
              "      <td>Private</td>\n",
              "      <td>1</td>\n",
              "    </tr>\n",
              "    <tr>\n",
              "      <th>3</th>\n",
              "      <td>c small arm fire attack contractor set convoy ...</td>\n",
              "      <td>Private</td>\n",
              "      <td>1</td>\n",
              "    </tr>\n",
              "    <tr>\n",
              "      <th>4</th>\n",
              "      <td>personal security detail travel north along ma...</td>\n",
              "      <td>Private</td>\n",
              "      <td>1</td>\n",
              "    </tr>\n",
              "    <tr>\n",
              "      <th>...</th>\n",
              "      <td>...</td>\n",
              "      <td>...</td>\n",
              "      <td>...</td>\n",
              "    </tr>\n",
              "    <tr>\n",
              "      <th>480</th>\n",
              "      <td>fifth year run dyncorp international llc di re...</td>\n",
              "      <td>Public</td>\n",
              "      <td>0</td>\n",
              "    </tr>\n",
              "    <tr>\n",
              "      <th>481</th>\n",
              "      <td>dyncorp international di gain important govern...</td>\n",
              "      <td>Public</td>\n",
              "      <td>0</td>\n",
              "    </tr>\n",
              "    <tr>\n",
              "      <th>482</th>\n",
              "      <td>january dyncorp international di one first com...</td>\n",
              "      <td>Public</td>\n",
              "      <td>0</td>\n",
              "    </tr>\n",
              "    <tr>\n",
              "      <th>483</th>\n",
              "      <td>november g job magazine ranked dyncorp interna...</td>\n",
              "      <td>Public</td>\n",
              "      <td>0</td>\n",
              "    </tr>\n",
              "    <tr>\n",
              "      <th>484</th>\n",
              "      <td>fall washington business journal recognize dyn...</td>\n",
              "      <td>Public</td>\n",
              "      <td>0</td>\n",
              "    </tr>\n",
              "  </tbody>\n",
              "</table>\n",
              "<p>485 rows × 3 columns</p>\n",
              "</div>"
            ],
            "text/plain": [
              "                                                  Text  DocType  DocType_id\n",
              "0    confirm usf mnd significant action mnc mnd eve...  Private           1\n",
              "1    joint defense operation center receive report ...  Private           1\n",
              "2    c small arm fire attack contractor set convoy ...  Private           1\n",
              "3    c small arm fire attack contractor set convoy ...  Private           1\n",
              "4    personal security detail travel north along ma...  Private           1\n",
              "..                                                 ...      ...         ...\n",
              "480  fifth year run dyncorp international llc di re...   Public           0\n",
              "481  dyncorp international di gain important govern...   Public           0\n",
              "482  january dyncorp international di one first com...   Public           0\n",
              "483  november g job magazine ranked dyncorp interna...   Public           0\n",
              "484  fall washington business journal recognize dyn...   Public           0\n",
              "\n",
              "[485 rows x 3 columns]"
            ]
          },
          "metadata": {
            "tags": []
          },
          "execution_count": 94
        }
      ]
    },
    {
      "cell_type": "code",
      "metadata": {
        "id": "ZcUsitAL5oVi",
        "colab_type": "code",
        "outputId": "a7670485-e896-4301-fdbf-285cf656c804",
        "colab": {
          "base_uri": "https://localhost:8080/",
          "height": 623
        }
      },
      "source": [
        "df_nent = df.loc[df[\"DocType\"]==\"NE\",:]\n",
        "df_nent.loc[:,'DocType_id'] = df_nent['DocType'].map({\"NE\":0})\n",
        "df_nent"
      ],
      "execution_count": 95,
      "outputs": [
        {
          "output_type": "stream",
          "text": [
            "/usr/local/lib/python3.6/dist-packages/pandas/core/indexing.py:376: SettingWithCopyWarning: \n",
            "A value is trying to be set on a copy of a slice from a DataFrame.\n",
            "Try using .loc[row_indexer,col_indexer] = value instead\n",
            "\n",
            "See the caveats in the documentation: http://pandas.pydata.org/pandas-docs/stable/user_guide/indexing.html#returning-a-view-versus-a-copy\n",
            "  self.obj[key] = _infer_fill_value(value)\n",
            "/usr/local/lib/python3.6/dist-packages/pandas/core/indexing.py:494: SettingWithCopyWarning: \n",
            "A value is trying to be set on a copy of a slice from a DataFrame.\n",
            "Try using .loc[row_indexer,col_indexer] = value instead\n",
            "\n",
            "See the caveats in the documentation: http://pandas.pydata.org/pandas-docs/stable/user_guide/indexing.html#returning-a-view-versus-a-copy\n",
            "  self.obj[item] = s\n"
          ],
          "name": "stderr"
        },
        {
          "output_type": "execute_result",
          "data": {
            "text/html": [
              "<div>\n",
              "<style scoped>\n",
              "    .dataframe tbody tr th:only-of-type {\n",
              "        vertical-align: middle;\n",
              "    }\n",
              "\n",
              "    .dataframe tbody tr th {\n",
              "        vertical-align: top;\n",
              "    }\n",
              "\n",
              "    .dataframe thead th {\n",
              "        text-align: right;\n",
              "    }\n",
              "</style>\n",
              "<table border=\"1\" class=\"dataframe\">\n",
              "  <thead>\n",
              "    <tr style=\"text-align: right;\">\n",
              "      <th></th>\n",
              "      <th>Text</th>\n",
              "      <th>DocType</th>\n",
              "      <th>DocType_id</th>\n",
              "    </tr>\n",
              "  </thead>\n",
              "  <tbody>\n",
              "    <tr>\n",
              "      <th>485</th>\n",
              "      <td>idaho vandal idaho vandal intercollegiate athl...</td>\n",
              "      <td>NE</td>\n",
              "      <td>0</td>\n",
              "    </tr>\n",
              "    <tr>\n",
              "      <th>486</th>\n",
              "      <td>robert l may robert lewis may july august crea...</td>\n",
              "      <td>NE</td>\n",
              "      <td>0</td>\n",
              "    </tr>\n",
              "    <tr>\n",
              "      <th>487</th>\n",
              "      <td>indycar series izod indycar series premier lev...</td>\n",
              "      <td>NE</td>\n",
              "      <td>0</td>\n",
              "    </tr>\n",
              "    <tr>\n",
              "      <th>488</th>\n",
              "      <td>philippine nationality law philippine national...</td>\n",
              "      <td>NE</td>\n",
              "      <td>0</td>\n",
              "    </tr>\n",
              "    <tr>\n",
              "      <th>489</th>\n",
              "      <td>takeichi nishi colonel baron imperial japanese...</td>\n",
              "      <td>NE</td>\n",
              "      <td>0</td>\n",
              "    </tr>\n",
              "    <tr>\n",
              "      <th>...</th>\n",
              "      <td>...</td>\n",
              "      <td>...</td>\n",
              "      <td>...</td>\n",
              "    </tr>\n",
              "    <tr>\n",
              "      <th>10487</th>\n",
              "      <td>dice los angeles dice los angeles formerly kno...</td>\n",
              "      <td>NE</td>\n",
              "      <td>0</td>\n",
              "    </tr>\n",
              "    <tr>\n",
              "      <th>10488</th>\n",
              "      <td>spirit radio spirit radio song release canadia...</td>\n",
              "      <td>NE</td>\n",
              "      <td>0</td>\n",
              "    </tr>\n",
              "    <tr>\n",
              "      <th>10489</th>\n",
              "      <td>gm degree v engine general motor opel subsidia...</td>\n",
              "      <td>NE</td>\n",
              "      <td>0</td>\n",
              "    </tr>\n",
              "    <tr>\n",
              "      <th>10490</th>\n",
              "      <td>muzaffarabad muzaffarabad pahari potwari capit...</td>\n",
              "      <td>NE</td>\n",
              "      <td>0</td>\n",
              "    </tr>\n",
              "    <tr>\n",
              "      <th>10491</th>\n",
              "      <td>fender jag stang fender jag stang electric gui...</td>\n",
              "      <td>NE</td>\n",
              "      <td>0</td>\n",
              "    </tr>\n",
              "  </tbody>\n",
              "</table>\n",
              "<p>10007 rows × 3 columns</p>\n",
              "</div>"
            ],
            "text/plain": [
              "                                                    Text DocType  DocType_id\n",
              "485    idaho vandal idaho vandal intercollegiate athl...      NE           0\n",
              "486    robert l may robert lewis may july august crea...      NE           0\n",
              "487    indycar series izod indycar series premier lev...      NE           0\n",
              "488    philippine nationality law philippine national...      NE           0\n",
              "489    takeichi nishi colonel baron imperial japanese...      NE           0\n",
              "...                                                  ...     ...         ...\n",
              "10487  dice los angeles dice los angeles formerly kno...      NE           0\n",
              "10488  spirit radio spirit radio song release canadia...      NE           0\n",
              "10489  gm degree v engine general motor opel subsidia...      NE           0\n",
              "10490  muzaffarabad muzaffarabad pahari potwari capit...      NE           0\n",
              "10491  fender jag stang fender jag stang electric gui...      NE           0\n",
              "\n",
              "[10007 rows x 3 columns]"
            ]
          },
          "metadata": {
            "tags": []
          },
          "execution_count": 95
        }
      ]
    },
    {
      "cell_type": "markdown",
      "metadata": {
        "id": "JaVspmwC3kdT",
        "colab_type": "text"
      },
      "source": [
        "## data distribution"
      ]
    },
    {
      "cell_type": "code",
      "metadata": {
        "id": "kpFcSTcf5uDl",
        "colab_type": "code",
        "outputId": "274d7df4-3547-42b7-a3c8-1ff27bd03021",
        "colab": {
          "base_uri": "https://localhost:8080/",
          "height": 429
        }
      },
      "source": [
        "import matplotlib.pyplot as plt\n",
        "fig = plt.figure(figsize=(8,6))\n",
        "graph = df.groupby('DocType').Text.count().plot.bar(ylim=0)\n",
        "\n",
        "for p in graph.patches:\n",
        "        graph.annotate('{:.0f}'.format(p.get_height()), (p.get_x()+0.3, p.get_height()))\n",
        "graph.set_title('Data Distribution') \n",
        "plt.show()"
      ],
      "execution_count": 96,
      "outputs": [
        {
          "output_type": "display_data",
          "data": {
            "image/png": "[encoded data removed]",
            "text/plain": [
              "<Figure size 576x432 with 1 Axes>"
            ]
          },
          "metadata": {
            "tags": []
          }
        }
      ]
    },
    {
      "cell_type": "markdown",
      "metadata": {
        "id": "V9HfNn3v5vBz",
        "colab_type": "text"
      },
      "source": [
        "# Training Data"
      ]
    },
    {
      "cell_type": "code",
      "metadata": {
        "id": "4ywdp-6G3YM5",
        "colab_type": "code",
        "outputId": "c6268039-bb4e-4d4f-dcdf-e24353b66592",
        "colab": {
          "base_uri": "https://localhost:8080/",
          "height": 429
        }
      },
      "source": [
        "fig = plt.figure(figsize=(8,6))\n",
        "graph = df_ent.groupby('DocType').Text.count().plot.bar(ylim=0)\n",
        "\n",
        "for p in graph.patches:\n",
        "        graph.annotate('{:.0f}'.format(p.get_height()), (p.get_x()+0.3, p.get_height()))\n",
        "graph.set_title('Data distribution after undersampling') \n",
        "plt.show()"
      ],
      "execution_count": 97,
      "outputs": [
        {
          "output_type": "display_data",
          "data": {
            "image/png": "[encoded data removed]",
            "text/plain": [
              "<Figure size 576x432 with 1 Axes>"
            ]
          },
          "metadata": {
            "tags": []
          }
        }
      ]
    },
    {
      "cell_type": "code",
      "metadata": {
        "id": "C6p9jopv-h88",
        "colab_type": "code",
        "colab": {}
      },
      "source": [
        "doctype_to_id = {'DocType':[\"Public\", \"Private\"], 'doctype_id': [0, 1]} \n",
        "doctype_id_df = pd.DataFrame(doctype_to_id) "
      ],
      "execution_count": 0,
      "outputs": []
    },
    {
      "cell_type": "markdown",
      "metadata": {
        "id": "06U_fztn3rmD",
        "colab_type": "text"
      },
      "source": [
        "## Train Test Split"
      ]
    },
    {
      "cell_type": "code",
      "metadata": {
        "id": "jazccJbt3nMP",
        "colab_type": "code",
        "outputId": "7d206dd3-680a-4514-8bc1-f80fc18822b1",
        "colab": {
          "base_uri": "https://localhost:8080/",
          "height": 85
        }
      },
      "source": [
        "Train_X, Test_X, Train_Y, Test_Y = model_selection.train_test_split(df_ent['Text'],df_ent['DocType_id'],test_size=0.2)\n",
        "print('Train_X: ', Train_X.shape[0])\n",
        "print('Train_Y: ', Train_Y.shape[0])\n",
        "print('Test_X :  ', Test_X.shape[0])\n",
        "print('Test_Y :  ', Test_Y.shape[0])"
      ],
      "execution_count": 101,
      "outputs": [
        {
          "output_type": "stream",
          "text": [
            "Train_X:  388\n",
            "Train_Y:  388\n",
            "Test_X :   97\n",
            "Test_Y :   97\n"
          ],
          "name": "stdout"
        }
      ]
    },
    {
      "cell_type": "code",
      "metadata": {
        "id": "1NebGNHlS2m5",
        "colab_type": "code",
        "outputId": "298324ae-59d5-408a-8489-d7df5afdbec0",
        "colab": {
          "base_uri": "https://localhost:8080/",
          "height": 187
        }
      },
      "source": [
        "Train_counts = pd.DataFrame(Train_Y.values, columns = list('a'))\n",
        "print('Train Data Distribution')\n",
        "print(Train_counts['a'].value_counts())\n",
        "\n",
        "Test_counts = pd.DataFrame(Test_Y.values, columns = list('a'))\n",
        "print('\\n\\nTest Data Distribution')\n",
        "print(Test_counts['a'].value_counts())"
      ],
      "execution_count": 102,
      "outputs": [
        {
          "output_type": "stream",
          "text": [
            "Train Data Distribution\n",
            "0    310\n",
            "1     78\n",
            "Name: a, dtype: int64\n",
            "\n",
            "\n",
            "Test Data Distribution\n",
            "0    73\n",
            "1    24\n",
            "Name: a, dtype: int64\n"
          ],
          "name": "stdout"
        }
      ]
    },
    {
      "cell_type": "markdown",
      "metadata": {
        "id": "8HM38dWJ303s",
        "colab_type": "text"
      },
      "source": [
        "## tf-idf Vectors"
      ]
    },
    {
      "cell_type": "code",
      "metadata": {
        "id": "eu31q-kC3uEN",
        "colab_type": "code",
        "outputId": "70f759bc-c31c-46d2-d3c2-d5519ee1d203",
        "colab": {
          "base_uri": "https://localhost:8080/",
          "height": 68
        }
      },
      "source": [
        "# Tfidf_vect = TfidfVectorizer(sublinear_tf=True, min_df=5, norm='l2', encoding='ISO-8859-1', ngram_range=(1, 2))\n",
        "Tfidf_vect = TfidfVectorizer(ngram_range=(1,2))\n",
        "#Learn the vocabulary\n",
        "Tfidf_vect.fit(df_ent['Text'])\n",
        "\n",
        "Train_X_Tfidf = Tfidf_vect.transform(Train_X)\n",
        "print(\"Train Data (Text, Features):\", Train_X_Tfidf.shape)\n",
        "Test_X_Tfidf = Tfidf_vect.transform(Test_X)\n",
        "print(\"Test Data (Text, Features):\", Test_X_Tfidf.shape)\n",
        "\n",
        "Test_X_Tfidf_Nent = Tfidf_vect.transform(df_nent['Text'])\n",
        "print(\"Wikipedia Data (Text, Features):\", Test_X_Tfidf_Nent.shape)\n",
        "Test_Y_Nent = df_nent['DocType_id']"
      ],
      "execution_count": 103,
      "outputs": [
        {
          "output_type": "stream",
          "text": [
            "Train Data (Text, Features): (388, 63918)\n",
            "Test Data (Text, Features): (97, 63918)\n",
            "Wikipedia Data (Text, Features): (10007, 63918)\n"
          ],
          "name": "stdout"
        }
      ]
    },
    {
      "cell_type": "markdown",
      "metadata": {
        "id": "EVzTKhHwpbKA",
        "colab_type": "text"
      },
      "source": [
        "### Top tf-idf features"
      ]
    },
    {
      "cell_type": "code",
      "metadata": {
        "id": "g5yoa5Xjparz",
        "colab_type": "code",
        "colab": {
          "base_uri": "https://localhost:8080/",
          "height": 51
        },
        "outputId": "53775ba9-87af-4b8c-8d13-5e0f2bbf0bfc"
      },
      "source": [
        "df_public = df_ent.loc[df_ent[\"DocType\"]==\"Public\",:]\n",
        "df_private = df_ent.loc[df_ent[\"DocType\"]==\"Private\"]\n",
        "features_public = Tfidf_vect.fit_transform(df_public.Text)\n",
        "features_private = Tfidf_vect.fit_transform(df_private.Text)\n",
        "labels_public = df_public.DocType_id\n",
        "labels_private = df_private.DocType_id\n",
        "print(\"Features for public train data\", features_public.shape)\n",
        "print(\"Features for private train data\", features_private.shape)"
      ],
      "execution_count": 104,
      "outputs": [
        {
          "output_type": "stream",
          "text": [
            "Features for public train data (383, 50080)\n",
            "Features for private train data (102, 16061)\n"
          ],
          "name": "stdout"
        }
      ]
    },
    {
      "cell_type": "code",
      "metadata": {
        "id": "y9bO7AjPqzUZ",
        "colab_type": "code",
        "colab": {
          "base_uri": "https://localhost:8080/",
          "height": 374
        },
        "outputId": "14c094bd-f8b3-4fdd-b395-6137204f787e"
      },
      "source": [
        "N = 20\n",
        "\n",
        "#Public data\n",
        "features_public = Tfidf_vect.fit_transform(df_public.Text)\n",
        "feature_names = np.array(Tfidf_vect.get_feature_names())\n",
        "tfidf_sorting = np.argsort(features_public.toarray()).flatten()[::-1]\n",
        "top_public = feature_names[tfidf_sorting][:N]\n",
        "# print(Tfidf_vect.vocabulary_)\n",
        "print('# Public')\n",
        "print(\". {}\".format('\\n. '.join(top_public)))\n",
        "\n",
        "# features_public_dict = {}\n",
        "# for key in sorted(Tfidf_vect.vocabulary_.keys()):\n",
        "#     # print (key, Tfidf_vect.vocabulary_[key])\n",
        "#     features_public_dict.update( {key : Tfidf_vect.vocabulary_[key]} )"
      ],
      "execution_count": 105,
      "outputs": [
        {
          "output_type": "stream",
          "text": [
            "# Public\n",
            ". grow\n",
            ". list\n",
            ". washington business\n",
            ". business journal\n",
            ". continue grow\n",
            ". growth\n",
            ". teamwork\n",
            ". company\n",
            ". deal\n",
            ". journal\n",
            ". high\n",
            ". rank\n",
            ". washington\n",
            ". region\n",
            ". elite list\n",
            ". always demonstrate\n",
            ". deal hard\n",
            ". great recession\n",
            ". result great\n",
            ". impose great\n"
          ],
          "name": "stdout"
        }
      ]
    },
    {
      "cell_type": "code",
      "metadata": {
        "id": "8EQ1QTmw8PGn",
        "colab_type": "code",
        "colab": {
          "base_uri": "https://localhost:8080/",
          "height": 391
        },
        "outputId": "dd29cab2-702d-40c2-9032-ee2198a9d058"
      },
      "source": [
        "#Private data\n",
        "features_private = Tfidf_vect.fit_transform(df_private.Text)\n",
        "feature_names = np.array(Tfidf_vect.get_feature_names())\n",
        "tfidf_sorting = np.argsort(features_private.toarray()).flatten()[::-1]\n",
        "top_private = feature_names[tfidf_sorting][:N]\n",
        "# print(Tfidf_vect.vocabulary_)\n",
        "# features_private_dict = {'Features':Tfidf_vect.vocabulary_.keys(), 'Values': Tfidf_vect.vocabulary_.values()} \n",
        "print('\\n# Private')\n",
        "print(\". {}\".format('\\n. '.join(top_private)))\n",
        "# features_private_dict"
      ],
      "execution_count": 106,
      "outputs": [
        {
          "output_type": "stream",
          "text": [
            "\n",
            "# Private\n",
            ". line\n",
            ". line line\n",
            ". phoenix\n",
            ". infarction\n",
            ". camp phoenix\n",
            ". camp\n",
            ". civilian\n",
            ". helo\n",
            ". scalpel line\n",
            ". anterior\n",
            ". yo\n",
            ". yo civilian\n",
            ". patient medical\n",
            ". sat\n",
            ". helo pad\n",
            ". sat med\n",
            ". bagram millimeter\n",
            ". consider anterior\n",
            ". acute myocardial\n",
            ". abnormality consider\n"
          ],
          "name": "stdout"
        }
      ]
    },
    {
      "cell_type": "markdown",
      "metadata": {
        "id": "r5ZAuEAWpYA-",
        "colab_type": "text"
      },
      "source": [
        "## Top 10 features for SVM classifier"
      ]
    },
    {
      "cell_type": "code",
      "metadata": {
        "id": "RaFVfVek33zz",
        "colab_type": "code",
        "outputId": "2fcb52ad-2a3b-4652-ab3d-19c37bb80262",
        "colab": {
          "base_uri": "https://localhost:8080/",
          "height": 85
        }
      },
      "source": [
        "clf = svm.SVC(C=1.0, kernel='linear', degree=3, gamma='auto',random_state=0)\n",
        "clf.fit(Train_X_Tfidf,Train_Y)"
      ],
      "execution_count": 107,
      "outputs": [
        {
          "output_type": "execute_result",
          "data": {
            "text/plain": [
              "SVC(C=1.0, break_ties=False, cache_size=200, class_weight=None, coef0=0.0,\n",
              "    decision_function_shape='ovr', degree=3, gamma='auto', kernel='linear',\n",
              "    max_iter=-1, probability=False, random_state=0, shrinking=True, tol=0.001,\n",
              "    verbose=False)"
            ]
          },
          "metadata": {
            "tags": []
          },
          "execution_count": 107
        }
      ]
    },
    {
      "cell_type": "code",
      "metadata": {
        "id": "azujbJRO9f6o",
        "colab_type": "code",
        "outputId": "ba29770a-1cdf-4907-af80-a0e27fadadec",
        "colab": {
          "base_uri": "https://localhost:8080/",
          "height": 727
        }
      },
      "source": [
        "N = 10\n",
        "def feature_plot(classifier, feature_names, top_features=N):\n",
        " coef = classifier.coef_.toarray()[0]\n",
        " top_positive_coefficients = np.argsort(coef)[-top_features:]\n",
        " top_negative_coefficients = np.argsort(coef)[:top_features]\n",
        " top_coefficients = np.hstack([top_negative_coefficients, top_positive_coefficients])\n",
        " plt.figure(figsize=(7, 7))\n",
        " colors = ['green' if c < 0 else 'blue' for c in coef[top_coefficients]]\n",
        " plt.bar(np.arange(2 * top_features), coef[top_coefficients], color=colors)\n",
        " feature_names = np.array(feature_names)\n",
        " plt.xticks(np.arange(1 + 2 * top_features), feature_names[top_coefficients], rotation=45, ha='right')\n",
        " plt.show()\n",
        "\n",
        "#  print(\"Most corelated terms: \\n. {}\".format('\\n'.join(feature_names[top_coefficients])))\n",
        "#  unigrams = [v for v in feature_names[top_coefficients] if len(v.split(' ')) == 1]\n",
        "#  bigrams = [v for v in feature_names[top_coefficients] if len(v.split(' ')) == 2]\n",
        "#  print(\"Most correlated unigrams:\\n. {}\".format('\\n. '.join(unigrams[:N])))\n",
        "#  print(\"Most correlated bigrams:\\n. {}\".format('\\n. '.join(bigrams[-N:])))\n",
        "\n",
        "feature_plot(clf, Tfidf_vect.get_feature_names())\n"
      ],
      "execution_count": 108,
      "outputs": [
        {
          "output_type": "error",
          "ename": "IndexError",
          "evalue": "ignored",
          "traceback": [
            "\u001b[0;31m---------------------------------------------------------------------------\u001b[0m",
            "\u001b[0;31mIndexError\u001b[0m                                Traceback (most recent call last)",
            "\u001b[0;32m<ipython-input-108-4887ed16597a>\u001b[0m in \u001b[0;36m<module>\u001b[0;34m()\u001b[0m\n\u001b[1;32m     18\u001b[0m \u001b[0;31m#  print(\"Most correlated bigrams:\\n. {}\".format('\\n. '.join(bigrams[-N:])))\u001b[0m\u001b[0;34m\u001b[0m\u001b[0;34m\u001b[0m\u001b[0;34m\u001b[0m\u001b[0m\n\u001b[1;32m     19\u001b[0m \u001b[0;34m\u001b[0m\u001b[0m\n\u001b[0;32m---> 20\u001b[0;31m \u001b[0mfeature_plot\u001b[0m\u001b[0;34m(\u001b[0m\u001b[0mclf\u001b[0m\u001b[0;34m,\u001b[0m \u001b[0mTfidf_vect\u001b[0m\u001b[0;34m.\u001b[0m\u001b[0mget_feature_names\u001b[0m\u001b[0;34m(\u001b[0m\u001b[0;34m)\u001b[0m\u001b[0;34m)\u001b[0m\u001b[0;34m\u001b[0m\u001b[0;34m\u001b[0m\u001b[0m\n\u001b[0m",
            "\u001b[0;32m<ipython-input-108-4887ed16597a>\u001b[0m in \u001b[0;36mfeature_plot\u001b[0;34m(classifier, feature_names, top_features)\u001b[0m\n\u001b[1;32m      9\u001b[0m  \u001b[0mplt\u001b[0m\u001b[0;34m.\u001b[0m\u001b[0mbar\u001b[0m\u001b[0;34m(\u001b[0m\u001b[0mnp\u001b[0m\u001b[0;34m.\u001b[0m\u001b[0marange\u001b[0m\u001b[0;34m(\u001b[0m\u001b[0;36m2\u001b[0m \u001b[0;34m*\u001b[0m \u001b[0mtop_features\u001b[0m\u001b[0;34m)\u001b[0m\u001b[0;34m,\u001b[0m \u001b[0mcoef\u001b[0m\u001b[0;34m[\u001b[0m\u001b[0mtop_coefficients\u001b[0m\u001b[0;34m]\u001b[0m\u001b[0;34m,\u001b[0m \u001b[0mcolor\u001b[0m\u001b[0;34m=\u001b[0m\u001b[0mcolors\u001b[0m\u001b[0;34m)\u001b[0m\u001b[0;34m\u001b[0m\u001b[0;34m\u001b[0m\u001b[0m\n\u001b[1;32m     10\u001b[0m  \u001b[0mfeature_names\u001b[0m \u001b[0;34m=\u001b[0m \u001b[0mnp\u001b[0m\u001b[0;34m.\u001b[0m\u001b[0marray\u001b[0m\u001b[0;34m(\u001b[0m\u001b[0mfeature_names\u001b[0m\u001b[0;34m)\u001b[0m\u001b[0;34m\u001b[0m\u001b[0;34m\u001b[0m\u001b[0m\n\u001b[0;32m---> 11\u001b[0;31m  \u001b[0mplt\u001b[0m\u001b[0;34m.\u001b[0m\u001b[0mxticks\u001b[0m\u001b[0;34m(\u001b[0m\u001b[0mnp\u001b[0m\u001b[0;34m.\u001b[0m\u001b[0marange\u001b[0m\u001b[0;34m(\u001b[0m\u001b[0;36m1\u001b[0m \u001b[0;34m+\u001b[0m \u001b[0;36m2\u001b[0m \u001b[0;34m*\u001b[0m \u001b[0mtop_features\u001b[0m\u001b[0;34m)\u001b[0m\u001b[0;34m,\u001b[0m \u001b[0mfeature_names\u001b[0m\u001b[0;34m[\u001b[0m\u001b[0mtop_coefficients\u001b[0m\u001b[0;34m]\u001b[0m\u001b[0;34m,\u001b[0m \u001b[0mrotation\u001b[0m\u001b[0;34m=\u001b[0m\u001b[0;36m45\u001b[0m\u001b[0;34m,\u001b[0m \u001b[0mha\u001b[0m\u001b[0;34m=\u001b[0m\u001b[0;34m'right'\u001b[0m\u001b[0;34m)\u001b[0m\u001b[0;34m\u001b[0m\u001b[0;34m\u001b[0m\u001b[0m\n\u001b[0m\u001b[1;32m     12\u001b[0m  \u001b[0mplt\u001b[0m\u001b[0;34m.\u001b[0m\u001b[0mshow\u001b[0m\u001b[0;34m(\u001b[0m\u001b[0;34m)\u001b[0m\u001b[0;34m\u001b[0m\u001b[0;34m\u001b[0m\u001b[0m\n\u001b[1;32m     13\u001b[0m \u001b[0;34m\u001b[0m\u001b[0m\n",
            "\u001b[0;31mIndexError\u001b[0m: index 29586 is out of bounds for axis 0 with size 16061"
          ]
        },
        {
          "output_type": "display_data",
          "data": {
            "image/png": "[encoded data removed]",
            "text/plain": [
              "<Figure size 504x504 with 1 Axes>"
            ]
          },
          "metadata": {
            "tags": []
          }
        }
      ]
    },
    {
      "cell_type": "markdown",
      "metadata": {
        "id": "OuCUg777D0k0",
        "colab_type": "text"
      },
      "source": [
        "# Model Selection"
      ]
    },
    {
      "cell_type": "code",
      "metadata": {
        "id": "1YTT4X2JC-IE",
        "colab_type": "code",
        "outputId": "9671cd2a-3e34-41ac-d6c4-f7cb1296b6cf",
        "colab": {
          "base_uri": "https://localhost:8080/",
          "height": 283
        }
      },
      "source": [
        "models = [\n",
        "    RandomForestClassifier(n_estimators=200, max_depth=3, random_state=0),\n",
        "    # LinearSVC(),\n",
        "    svm.SVC(C=1.0, kernel='linear', degree=3, gamma='auto',random_state=0),\n",
        "    MultinomialNB(),\n",
        "    LogisticRegression(random_state=0),\n",
        "]\n",
        "CV = 5\n",
        "cv_df = pd.DataFrame(index=range(CV * len(models)))\n",
        "entries = []\n",
        "for model in models:\n",
        "    model_name = model.__class__.__name__\n",
        "    accuracies = cross_val_score(model, Train_X_Tfidf, Train_Y, scoring='accuracy', cv=CV)\n",
        "    for fold_idx, accuracy in enumerate(accuracies):\n",
        "        entries.append((model_name, fold_idx, accuracy))\n",
        "cv_df = pd.DataFrame(entries, columns=['model_name', 'fold_idx', 'accuracy'])\n",
        "import seaborn as sns\n",
        "sns.boxplot(x='model_name', y='accuracy', data=cv_df)\n",
        "sns.stripplot(x='model_name', y='accuracy', data=cv_df, \n",
        "              size=8, jitter=True, edgecolor=\"gray\", linewidth=2)\n",
        "plt.show()"
      ],
      "execution_count": 109,
      "outputs": [
        {
          "output_type": "display_data",
          "data": {
            "image/png": "[encoded data removed]",
            "text/plain": [
              "<Figure size 432x288 with 1 Axes>"
            ]
          },
          "metadata": {
            "tags": []
          }
        }
      ]
    },
    {
      "cell_type": "code",
      "metadata": {
        "id": "Yn-c8mNYD30u",
        "colab_type": "code",
        "outputId": "e70253f0-df4f-4f61-e568-cb1381b4bd73",
        "colab": {
          "base_uri": "https://localhost:8080/",
          "height": 119
        }
      },
      "source": [
        "cv_df.groupby('model_name').accuracy.mean()"
      ],
      "execution_count": 110,
      "outputs": [
        {
          "output_type": "execute_result",
          "data": {
            "text/plain": [
              "model_name\n",
              "LogisticRegression        0.873859\n",
              "MultinomialNB             0.878954\n",
              "RandomForestClassifier    0.809324\n",
              "SVC                       0.971662\n",
              "Name: accuracy, dtype: float64"
            ]
          },
          "metadata": {
            "tags": []
          },
          "execution_count": 110
        }
      ]
    },
    {
      "cell_type": "markdown",
      "metadata": {
        "id": "2zuJ5l7rEB9D",
        "colab_type": "text"
      },
      "source": [
        "## Model Evaluation"
      ]
    },
    {
      "cell_type": "code",
      "metadata": {
        "id": "suPNGgYpDcCM",
        "colab_type": "code",
        "outputId": "7a2937bd-7908-4bf6-b9aa-38e55e2af116",
        "colab": {
          "base_uri": "https://localhost:8080/",
          "height": 1000
        }
      },
      "source": [
        "precision_public_list = []\n",
        "precision_private_list = []\n",
        "recall_public_list = []\n",
        "recall_private_list = []\n",
        "f1_public_list = []\n",
        "f1_private_list = []\n",
        "\n",
        "for model in models:   \n",
        "    model_name = model.__class__.__name__\n",
        "    model.fit(Train_X_Tfidf,Train_Y)\n",
        "    predictions = model.predict(Test_X_Tfidf)\n",
        "    conf_mat = confusion_matrix(Test_Y, predictions)\n",
        "    \n",
        "    print(model_name, '\\n', conf_mat)\n",
        "    fig, ax = plt.subplots(figsize=(5,5))\n",
        "    sns.heatmap(conf_mat, annot=True, fmt='d',\n",
        "            xticklabels=doctype_id_df.DocType.values, yticklabels=doctype_id_df.DocType.values)\n",
        "    plt.title(model_name)\n",
        "    plt.ylabel('Actual')\n",
        "    plt.xlabel('Predicted')\n",
        "    # fig.savefig('/content/drive/My Drive/Data/' + model_name + '.png')\n",
        "    True_private = conf_mat[0,0]\n",
        "    False_private = conf_mat[0,1]\n",
        "    False_public = conf_mat[1,0]\n",
        "    True_public = conf_mat[1,1]\n",
        "\n",
        "    precision_private = round((True_private) / (True_private + False_private), 2)\n",
        "    recall_private = round((True_private) / (True_private + False_public), 2)\n",
        "    f1_private = round((2 * precision_private * recall_private) / (precision_private + recall_private), 2)\n",
        "\n",
        "    precision_public = round((True_public) / (True_public + False_public), 2)\n",
        "    recall_public = round((True_public) / (True_public + False_private), 2)\n",
        "    f1_public = round((2 * precision_public * recall_public)/(precision_public + recall_public), 2)\n",
        "\n",
        "\n",
        "    #writing to list\n",
        "    precision_private_list.append(precision_private)\n",
        "    recall_private_list.append(recall_private)\n",
        "    f1_private_list.append(f1_private)\n",
        "\n",
        "    precision_public_list.append(precision_public)\n",
        "    recall_public_list.append(recall_public)\n",
        "    f1_public_list.append(f1_public)"
      ],
      "execution_count": 111,
      "outputs": [
        {
          "output_type": "stream",
          "text": [
            "RandomForestClassifier \n",
            " [[73  0]\n",
            " [23  1]]\n",
            "SVC \n",
            " [[73  0]\n",
            " [ 1 23]]\n",
            "MultinomialNB \n",
            " [[73  0]\n",
            " [ 8 16]]\n",
            "LogisticRegression \n",
            " [[73  0]\n",
            " [12 12]]\n"
          ],
          "name": "stdout"
        },
        {
          "output_type": "display_data",
          "data": {
            "image/png": "[encoded data removed]",
            "text/plain": [
              "<Figure size 360x360 with 2 Axes>"
            ]
          },
          "metadata": {
            "tags": []
          }
        },
        {
          "output_type": "display_data",
          "data": {
            "image/png": "[encoded data removed]",
            "text/plain": [
              "<Figure size 360x360 with 2 Axes>"
            ]
          },
          "metadata": {
            "tags": []
          }
        },
        {
          "output_type": "display_data",
          "data": {
            "image/png": "[encoded data removed]",
            "text/plain": [
              "<Figure size 360x360 with 2 Axes>"
            ]
          },
          "metadata": {
            "tags": []
          }
        },
        {
          "output_type": "display_data",
          "data": {
            "image/png": "[encoded data removed]",
            "text/plain": [
              "<Figure size 360x360 with 2 Axes>"
            ]
          },
          "metadata": {
            "tags": []
          }
        }
      ]
    },
    {
      "cell_type": "code",
      "metadata": {
        "id": "esrThnfHEhgs",
        "colab_type": "code",
        "outputId": "8980b2eb-59f0-4722-a65b-3b1d5ae774d3",
        "colab": {
          "base_uri": "https://localhost:8080/",
          "height": 207
        }
      },
      "source": [
        "dict = {'Model':[\"Random Forest\", \"Linear Support Vector Classifier\", \"Multinomial Naive Bayes\", \"Logistic Regression\"], \n",
        "        'Precision (Public Class)': precision_public_list, \n",
        "        'Recall (Public Class)': recall_public_list,\n",
        "        'F1 Score (Public Class)': f1_public_list,\n",
        "        'Precision (Private Class)': precision_private_list,\n",
        "        'Recall (Private Class)': recall_private_list,\n",
        "        'F1 Score (Private Class)': f1_private_list\n",
        "        } \n",
        "    \n",
        "evaluation_df = pd.DataFrame(dict) \n",
        "evaluation_df"
      ],
      "execution_count": 112,
      "outputs": [
        {
          "output_type": "execute_result",
          "data": {
            "text/html": [
              "<div>\n",
              "<style scoped>\n",
              "    .dataframe tbody tr th:only-of-type {\n",
              "        vertical-align: middle;\n",
              "    }\n",
              "\n",
              "    .dataframe tbody tr th {\n",
              "        vertical-align: top;\n",
              "    }\n",
              "\n",
              "    .dataframe thead th {\n",
              "        text-align: right;\n",
              "    }\n",
              "</style>\n",
              "<table border=\"1\" class=\"dataframe\">\n",
              "  <thead>\n",
              "    <tr style=\"text-align: right;\">\n",
              "      <th></th>\n",
              "      <th>Model</th>\n",
              "      <th>Precision (Public Class)</th>\n",
              "      <th>Recall (Public Class)</th>\n",
              "      <th>F1 Score (Public Class)</th>\n",
              "      <th>Precision (Private Class)</th>\n",
              "      <th>Recall (Private Class)</th>\n",
              "      <th>F1 Score (Private Class)</th>\n",
              "    </tr>\n",
              "  </thead>\n",
              "  <tbody>\n",
              "    <tr>\n",
              "      <th>0</th>\n",
              "      <td>Random Forest</td>\n",
              "      <td>0.04</td>\n",
              "      <td>1.0</td>\n",
              "      <td>0.08</td>\n",
              "      <td>1.0</td>\n",
              "      <td>0.76</td>\n",
              "      <td>0.86</td>\n",
              "    </tr>\n",
              "    <tr>\n",
              "      <th>1</th>\n",
              "      <td>Linear Support Vector Classifier</td>\n",
              "      <td>0.96</td>\n",
              "      <td>1.0</td>\n",
              "      <td>0.98</td>\n",
              "      <td>1.0</td>\n",
              "      <td>0.99</td>\n",
              "      <td>0.99</td>\n",
              "    </tr>\n",
              "    <tr>\n",
              "      <th>2</th>\n",
              "      <td>Multinomial Naive Bayes</td>\n",
              "      <td>0.67</td>\n",
              "      <td>1.0</td>\n",
              "      <td>0.80</td>\n",
              "      <td>1.0</td>\n",
              "      <td>0.90</td>\n",
              "      <td>0.95</td>\n",
              "    </tr>\n",
              "    <tr>\n",
              "      <th>3</th>\n",
              "      <td>Logistic Regression</td>\n",
              "      <td>0.50</td>\n",
              "      <td>1.0</td>\n",
              "      <td>0.67</td>\n",
              "      <td>1.0</td>\n",
              "      <td>0.86</td>\n",
              "      <td>0.92</td>\n",
              "    </tr>\n",
              "  </tbody>\n",
              "</table>\n",
              "</div>"
            ],
            "text/plain": [
              "                              Model  ...  F1 Score (Private Class)\n",
              "0                     Random Forest  ...                      0.86\n",
              "1  Linear Support Vector Classifier  ...                      0.99\n",
              "2           Multinomial Naive Bayes  ...                      0.95\n",
              "3               Logistic Regression  ...                      0.92\n",
              "\n",
              "[4 rows x 7 columns]"
            ]
          },
          "metadata": {
            "tags": []
          },
          "execution_count": 112
        }
      ]
    },
    {
      "cell_type": "markdown",
      "metadata": {
        "id": "gfC84F1BrOS4",
        "colab_type": "text"
      },
      "source": [
        "* high precision + high recall = *class pefectly handled by model*\n",
        "* high precision + low recall = *class can't detect the class but highly trustable when it does*\n",
        "* low precision + high recall = *well detected class but it also include points of other class*\n",
        "* low precision + low recall = *class poorly handled by the model* "
      ]
    },
    {
      "cell_type": "markdown",
      "metadata": {
        "id": "bEZJnD2nHbRn",
        "colab_type": "text"
      },
      "source": [
        "# Validation on wikipedia data"
      ]
    },
    {
      "cell_type": "code",
      "metadata": {
        "id": "jPkT0BizI2is",
        "colab_type": "code",
        "outputId": "94ad175f-b867-4c4d-96d9-ac3f17bb2546",
        "colab": {
          "base_uri": "https://localhost:8080/",
          "height": 1000
        }
      },
      "source": [
        "for model in models:\n",
        "    model_name = model.__class__.__name__\n",
        "    model.fit(Train_X_Tfidf,Train_Y)\n",
        "    predictions2 = model.predict(Test_X_Tfidf_Nent)\n",
        "    conf_mat = confusion_matrix(Test_Y_Nent,predictions2)\n",
        "    print(\"\\n\",model_name,\"Accuracy Score: NE Data -> \",accuracy_score(predictions2, Test_Y_Nent)*100)\n",
        "    print(model_name, '\\n', conf_mat)\n",
        "    fig, ax = plt.subplots(figsize=(5,5))\n",
        "    sns.heatmap(conf_mat, annot=True, fmt='d',\n",
        "            xticklabels=doctype_id_df.DocType.values, yticklabels=doctype_id_df.DocType.values)\n",
        "    plt.title(model_name)\n",
        "    plt.ylabel('Actual')\n",
        "    plt.xlabel('Predicted')\n",
        "\n"
      ],
      "execution_count": 113,
      "outputs": [
        {
          "output_type": "stream",
          "text": [
            "\n",
            " RandomForestClassifier Accuracy Score: NE Data ->  100.0\n",
            "RandomForestClassifier \n",
            " [[10007]]\n",
            "\n",
            " SVC Accuracy Score: NE Data ->  99.84011192165484\n",
            "SVC \n",
            " [[9991   16]\n",
            " [   0    0]]\n",
            "\n",
            " MultinomialNB Accuracy Score: NE Data ->  100.0\n",
            "MultinomialNB \n",
            " [[10007]]\n",
            "\n",
            " LogisticRegression Accuracy Score: NE Data ->  100.0\n",
            "LogisticRegression \n",
            " [[10007]]\n"
          ],
          "name": "stdout"
        },
        {
          "output_type": "display_data",
          "data": {
            "image/png": "[encoded data removed]",
            "text/plain": [
              "<Figure size 360x360 with 2 Axes>"
            ]
          },
          "metadata": {
            "tags": []
          }
        },
        {
          "output_type": "display_data",
          "data": {
            "image/png": "[encoded data removed]",
            "text/plain": [
              "<Figure size 360x360 with 2 Axes>"
            ]
          },
          "metadata": {
            "tags": []
          }
        },
        {
          "output_type": "display_data",
          "data": {
            "image/png": "[encoded data removed]",
            "text/plain": [
              "<Figure size 360x360 with 2 Axes>"
            ]
          },
          "metadata": {
            "tags": []
          }
        },
        {
          "output_type": "display_data",
          "data": {
            "image/png": "[encoded data removed]",
            "text/plain": [
              "<Figure size 360x360 with 2 Axes>"
            ]
          },
          "metadata": {
            "tags": []
          }
        }
      ]
    },
    {
      "cell_type": "markdown",
      "metadata": {
        "id": "PITGI59ZM5wF",
        "colab_type": "text"
      },
      "source": [
        "# Random Forest"
      ]
    },
    {
      "cell_type": "code",
      "metadata": {
        "id": "i8WoP8-EMKrj",
        "colab_type": "code",
        "colab": {}
      },
      "source": [
        "RF = RandomForestClassifier(n_estimators=200, max_depth=3, random_state=0)\n",
        "RF.fit(Train_X_Tfidf,Train_Y)\n",
        "predictions_RF = RF.predict(Test_X_Tfidf_Nent)\n"
      ],
      "execution_count": 0,
      "outputs": []
    },
    {
      "cell_type": "markdown",
      "metadata": {
        "id": "3Eh1wgRuN0WL",
        "colab_type": "text"
      },
      "source": [
        "### Correctly classified data"
      ]
    },
    {
      "cell_type": "code",
      "metadata": {
        "id": "YQPaE3eYN3cR",
        "colab_type": "code",
        "outputId": "97b0d83f-6178-4590-f671-6feb7548174a",
        "colab": {
          "base_uri": "https://localhost:8080/",
          "height": 238
        }
      },
      "source": [
        "print(df_nent[predictions_RF==0]['Text'])\n",
        "print('Total data count:', len(df_nent[predictions_RF==0]['Text']))"
      ],
      "execution_count": 115,
      "outputs": [
        {
          "output_type": "stream",
          "text": [
            "485      idaho vandal idaho vandal intercollegiate athl...\n",
            "486      robert l may robert lewis may july august crea...\n",
            "487      indycar series izod indycar series premier lev...\n",
            "488      philippine nationality law philippine national...\n",
            "489      takeichi nishi colonel baron imperial japanese...\n",
            "                               ...                        \n",
            "10487    dice los angeles dice los angeles formerly kno...\n",
            "10488    spirit radio spirit radio song release canadia...\n",
            "10489    gm degree v engine general motor opel subsidia...\n",
            "10490    muzaffarabad muzaffarabad pahari potwari capit...\n",
            "10491    fender jag stang fender jag stang electric gui...\n",
            "Name: Text, Length: 10007, dtype: object\n",
            "Total data count: 10007\n"
          ],
          "name": "stdout"
        }
      ]
    },
    {
      "cell_type": "markdown",
      "metadata": {
        "id": "ibmfvWY9N6tF",
        "colab_type": "text"
      },
      "source": [
        "### Misclassified data"
      ]
    },
    {
      "cell_type": "code",
      "metadata": {
        "id": "2Q4GpZivN9B3",
        "colab_type": "code",
        "outputId": "f5b05dd7-10bf-43d2-8e4e-cba94dda0313",
        "colab": {
          "base_uri": "https://localhost:8080/",
          "height": 51
        }
      },
      "source": [
        "print(df_nent[predictions_RF==1]['Text'])\n",
        "print('Total data count:', len(df_nent[predictions_RF==1]['Text']))"
      ],
      "execution_count": 116,
      "outputs": [
        {
          "output_type": "stream",
          "text": [
            "Series([], Name: Text, dtype: object)\n",
            "Total data count: 0\n"
          ],
          "name": "stdout"
        }
      ]
    },
    {
      "cell_type": "markdown",
      "metadata": {
        "id": "Fw63uKILM8mX",
        "colab_type": "text"
      },
      "source": [
        "# SVM"
      ]
    },
    {
      "cell_type": "code",
      "metadata": {
        "id": "oKUnf_mKM_-D",
        "colab_type": "code",
        "colab": {}
      },
      "source": [
        "SVM = svm.SVC(C=1.0, kernel='linear', degree=3, gamma='auto',random_state=0)\n",
        "SVM.fit(Train_X_Tfidf,Train_Y)\n",
        "predictions_SVM = SVM.predict(Test_X_Tfidf_Nent)"
      ],
      "execution_count": 0,
      "outputs": []
    },
    {
      "cell_type": "markdown",
      "metadata": {
        "id": "ios_0_dAOODU",
        "colab_type": "text"
      },
      "source": [
        "### Correctly classified data"
      ]
    },
    {
      "cell_type": "code",
      "metadata": {
        "id": "ho5JVnr6OQb4",
        "colab_type": "code",
        "outputId": "4043b164-999d-4eef-b6b7-0339b22bc0d1",
        "colab": {
          "base_uri": "https://localhost:8080/",
          "height": 238
        }
      },
      "source": [
        "print(df_nent[predictions_SVM==0]['Text'])\n",
        "print('Total data count:', len(df_nent[predictions_SVM==0]['Text']))\n"
      ],
      "execution_count": 118,
      "outputs": [
        {
          "output_type": "stream",
          "text": [
            "485      idaho vandal idaho vandal intercollegiate athl...\n",
            "486      robert l may robert lewis may july august crea...\n",
            "487      indycar series izod indycar series premier lev...\n",
            "488      philippine nationality law philippine national...\n",
            "489      takeichi nishi colonel baron imperial japanese...\n",
            "                               ...                        \n",
            "10487    dice los angeles dice los angeles formerly kno...\n",
            "10488    spirit radio spirit radio song release canadia...\n",
            "10489    gm degree v engine general motor opel subsidia...\n",
            "10490    muzaffarabad muzaffarabad pahari potwari capit...\n",
            "10491    fender jag stang fender jag stang electric gui...\n",
            "Name: Text, Length: 9991, dtype: object\n",
            "Total data count: 9991\n"
          ],
          "name": "stdout"
        }
      ]
    },
    {
      "cell_type": "markdown",
      "metadata": {
        "id": "JYS4guBFOSW_",
        "colab_type": "text"
      },
      "source": [
        "### misclassified data"
      ]
    },
    {
      "cell_type": "code",
      "metadata": {
        "id": "wrBvC43-OUUa",
        "colab_type": "code",
        "outputId": "d84b9f68-c933-4ffd-b58a-9a34497396c3",
        "colab": {
          "base_uri": "https://localhost:8080/",
          "height": 323
        }
      },
      "source": [
        "print(df_nent[predictions_SVM==1]['Text'])\n",
        "print('Total data count:', len(df_nent[predictions_SVM==1]['Text']))"
      ],
      "execution_count": 119,
      "outputs": [
        {
          "output_type": "stream",
          "text": [
            "952      warren v district columbia warren v district c...\n",
            "1733     phantom vehicle phantom vehicle may refer supp...\n",
            "1853     indore district indore district district madhy...\n",
            "2172     intelligence lead police intelligence lead pol...\n",
            "2229     woo bum kon woo bum kon wou bom kon february a...\n",
            "2314     police commissioner kolkata commissioner polic...\n",
            "3686     ursula sabina eriksson ursula sabina eriksson ...\n",
            "4989     terrorist attack kenya since kenya see upsurge...\n",
            "5376     bart police bay area rapid transit police depa...\n",
            "6126     death lee rigby afternoon may british army sol...\n",
            "6137     stockholm riot may youth riot broke husby subu...\n",
            "6166     timeline protest turkey follow timeline protes...\n",
            "6329     operation century operation century code name ...\n",
            "8587     tetsuya shiroo april shiroo shot iccho itoh ma...\n",
            "9193     peel regional police peel regional police prp ...\n",
            "10273    police riot police riot riot carry police riot...\n",
            "Name: Text, dtype: object\n",
            "Total data count: 16\n"
          ],
          "name": "stdout"
        }
      ]
    },
    {
      "cell_type": "markdown",
      "metadata": {
        "id": "khv3PtVaNAj5",
        "colab_type": "text"
      },
      "source": [
        "# Naive Bayes"
      ]
    },
    {
      "cell_type": "code",
      "metadata": {
        "id": "K0huxda3NCt3",
        "colab_type": "code",
        "colab": {}
      },
      "source": [
        "NB = MultinomialNB()\n",
        "NB.fit(Train_X_Tfidf,Train_Y)\n",
        "predictions_NB = NB.predict(Test_X_Tfidf_Nent)"
      ],
      "execution_count": 0,
      "outputs": []
    },
    {
      "cell_type": "markdown",
      "metadata": {
        "id": "ATyjJhMDOz8R",
        "colab_type": "text"
      },
      "source": [
        "### Correctly classified data"
      ]
    },
    {
      "cell_type": "code",
      "metadata": {
        "id": "cniF3mXVPCFV",
        "colab_type": "code",
        "outputId": "76b764bf-e1cf-4656-8fc9-98b2d19d86ac",
        "colab": {
          "base_uri": "https://localhost:8080/",
          "height": 238
        }
      },
      "source": [
        "print(df_nent[predictions_NB==0]['Text'])\n",
        "print('Total data count:', len(df_nent[predictions_NB==0]['Text']))"
      ],
      "execution_count": 121,
      "outputs": [
        {
          "output_type": "stream",
          "text": [
            "485      idaho vandal idaho vandal intercollegiate athl...\n",
            "486      robert l may robert lewis may july august crea...\n",
            "487      indycar series izod indycar series premier lev...\n",
            "488      philippine nationality law philippine national...\n",
            "489      takeichi nishi colonel baron imperial japanese...\n",
            "                               ...                        \n",
            "10487    dice los angeles dice los angeles formerly kno...\n",
            "10488    spirit radio spirit radio song release canadia...\n",
            "10489    gm degree v engine general motor opel subsidia...\n",
            "10490    muzaffarabad muzaffarabad pahari potwari capit...\n",
            "10491    fender jag stang fender jag stang electric gui...\n",
            "Name: Text, Length: 10007, dtype: object\n",
            "Total data count: 10007\n"
          ],
          "name": "stdout"
        }
      ]
    },
    {
      "cell_type": "markdown",
      "metadata": {
        "id": "AeLUhg68O5YQ",
        "colab_type": "text"
      },
      "source": [
        "### Misclassified data"
      ]
    },
    {
      "cell_type": "code",
      "metadata": {
        "id": "sELFx_3NPBOE",
        "colab_type": "code",
        "outputId": "ca467c1b-3a06-4431-f4d2-226b90735fa1",
        "colab": {
          "base_uri": "https://localhost:8080/",
          "height": 51
        }
      },
      "source": [
        "print(df_nent[predictions_NB==1]['Text'])\n",
        "print('Total data count:', len(df_nent[predictions_NB==1]['Text']))"
      ],
      "execution_count": 122,
      "outputs": [
        {
          "output_type": "stream",
          "text": [
            "Series([], Name: Text, dtype: object)\n",
            "Total data count: 0\n"
          ],
          "name": "stdout"
        }
      ]
    },
    {
      "cell_type": "markdown",
      "metadata": {
        "id": "BczPJPV5NDLD",
        "colab_type": "text"
      },
      "source": [
        "# Logistic Regression"
      ]
    },
    {
      "cell_type": "code",
      "metadata": {
        "id": "XKQwuGkfO_AB",
        "colab_type": "code",
        "colab": {}
      },
      "source": [
        "LR = LogisticRegression(random_state=0)\n",
        "LR.fit(Train_X_Tfidf,Train_Y)\n",
        "predictions_LR = LR.predict(Test_X_Tfidf_Nent)"
      ],
      "execution_count": 0,
      "outputs": []
    },
    {
      "cell_type": "markdown",
      "metadata": {
        "id": "YgEAVAvKO4Se",
        "colab_type": "text"
      },
      "source": [
        "### Correctly classified data"
      ]
    },
    {
      "cell_type": "code",
      "metadata": {
        "id": "R3ievY3hO_hD",
        "colab_type": "code",
        "outputId": "823b9d8c-c042-41ab-aaf8-cd7d3df1b8ee",
        "colab": {
          "base_uri": "https://localhost:8080/",
          "height": 238
        }
      },
      "source": [
        "print(df_nent[predictions_LR==0]['Text'])\n",
        "print('Total data count:', len(df_nent[predictions_LR==0]['Text']))"
      ],
      "execution_count": 124,
      "outputs": [
        {
          "output_type": "stream",
          "text": [
            "485      idaho vandal idaho vandal intercollegiate athl...\n",
            "486      robert l may robert lewis may july august crea...\n",
            "487      indycar series izod indycar series premier lev...\n",
            "488      philippine nationality law philippine national...\n",
            "489      takeichi nishi colonel baron imperial japanese...\n",
            "                               ...                        \n",
            "10487    dice los angeles dice los angeles formerly kno...\n",
            "10488    spirit radio spirit radio song release canadia...\n",
            "10489    gm degree v engine general motor opel subsidia...\n",
            "10490    muzaffarabad muzaffarabad pahari potwari capit...\n",
            "10491    fender jag stang fender jag stang electric gui...\n",
            "Name: Text, Length: 10007, dtype: object\n",
            "Total data count: 10007\n"
          ],
          "name": "stdout"
        }
      ]
    },
    {
      "cell_type": "markdown",
      "metadata": {
        "id": "E3ORza4LO8Ue",
        "colab_type": "text"
      },
      "source": [
        "### Misclassified data"
      ]
    },
    {
      "cell_type": "code",
      "metadata": {
        "id": "87VRV7S7NFSE",
        "colab_type": "code",
        "outputId": "00413613-2255-427e-9c8d-98e017e6b386",
        "colab": {
          "base_uri": "https://localhost:8080/",
          "height": 51
        }
      },
      "source": [
        "print(df_nent[predictions_LR==1]['Text'])\n",
        "print('Total data count:', len(df_nent[predictions_LR==1]['Text']))"
      ],
      "execution_count": 125,
      "outputs": [
        {
          "output_type": "stream",
          "text": [
            "Series([], Name: Text, dtype: object)\n",
            "Total data count: 0\n"
          ],
          "name": "stdout"
        }
      ]
    },
    {
      "cell_type": "code",
      "metadata": {
        "id": "X2moMNQ6QELc",
        "colab_type": "code",
        "colab": {}
      },
      "source": [
        ""
      ],
      "execution_count": 0,
      "outputs": []
    }
  ]
}