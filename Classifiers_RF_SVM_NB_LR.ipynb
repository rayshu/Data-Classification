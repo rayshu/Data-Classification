{
  "nbformat": 4,
  "nbformat_minor": 0,
  "metadata": {
    "colab": {
      "name": "Classifiers_RF_SVM_NB_LR.ipynb",
      "provenance": [],
      "collapsed_sections": [],
      "authorship_tag": "ABX9TyOxITKAnOLhxPNzsuziSFFM",
      "include_colab_link": true
    },
    "kernelspec": {
      "name": "python3",
      "display_name": "Python 3"
    }
  },
  "cells": [
    {
      "cell_type": "markdown",
      "metadata": {
        "id": "view-in-github",
        "colab_type": "text"
      },
      "source": [
        "<a href=\"https://colab.research.google.com/github/rayshu/Data-Classification/blob/master/Classifiers_RF_SVM_NB_LR.ipynb\" target=\"_parent\"><img src=\"https://colab.research.google.com/assets/colab-badge.svg\" alt=\"Open In Colab\"/></a>"
      ]
    },
    {
      "cell_type": "code",
      "metadata": {
        "id": "H1brz9Rt1qa3",
        "colab_type": "code",
        "outputId": "8c557f87-8241-4ae2-f06f-d7d9fec809bc",
        "colab": {
          "base_uri": "https://localhost:8080/",
          "height": 122
        }
      },
      "source": [
        "from google.colab import drive\n",
        "drive.mount('/content/drive')"
      ],
      "execution_count": 1,
      "outputs": [
        {
          "output_type": "stream",
          "text": [
            "Go to this URL in a browser: https://accounts.google.com/o/oauth2/auth?client_id=947318989803-6bn6qk8qdgf4n4g3pfee6491hc0brc4i.apps.googleusercontent.com&redirect_uri=urn%3aietf%3awg%3aoauth%3a2.0%3aoob&response_type=code&scope=email%20https%3a%2f%2fwww.googleapis.com%2fauth%2fdocs.test%20https%3a%2f%2fwww.googleapis.com%2fauth%2fdrive%20https%3a%2f%2fwww.googleapis.com%2fauth%2fdrive.photos.readonly%20https%3a%2f%2fwww.googleapis.com%2fauth%2fpeopleapi.readonly\n",
            "\n",
            "Enter your authorization code:\n",
            "··········\n",
            "Mounted at /content/drive\n"
          ],
          "name": "stdout"
        }
      ]
    },
    {
      "cell_type": "markdown",
      "metadata": {
        "id": "2ZN1GnGH2ZvR",
        "colab_type": "text"
      },
      "source": [
        "# import packages"
      ]
    },
    {
      "cell_type": "code",
      "metadata": {
        "id": "DklO98Ae17XS",
        "colab_type": "code",
        "colab": {}
      },
      "source": [
        "import pandas as pd\n",
        "import numpy as np\n",
        "from sklearn.feature_extraction.text import TfidfVectorizer\n",
        "from sklearn import model_selection, svm\n",
        "from sklearn.metrics import accuracy_score\n",
        "import matplotlib.pyplot as plt\n",
        "import seaborn as sns\n",
        "# from sklearn.feature_selection import chi2\n",
        "from sklearn.metrics import confusion_matrix\n",
        "from sklearn.ensemble import RandomForestClassifier\n",
        "from sklearn.linear_model import LogisticRegression\n",
        "from sklearn.naive_bayes import MultinomialNB\n",
        "from sklearn.svm import LinearSVC\n",
        "from sklearn.model_selection import cross_val_score"
      ],
      "execution_count": 0,
      "outputs": []
    },
    {
      "cell_type": "code",
      "metadata": {
        "id": "w5tc-1I32q7u",
        "colab_type": "code",
        "colab": {}
      },
      "source": [
        "df = pd.read_csv(\"/content/drive/My Drive/Data/cleaneddata.csv\")\n",
        "np.random.seed(1000)"
      ],
      "execution_count": 0,
      "outputs": []
    },
    {
      "cell_type": "code",
      "metadata": {
        "id": "c43YYfBd3OjF",
        "colab_type": "code",
        "outputId": "89da8b6c-cacb-4999-d628-de138c3f426d",
        "colab": {
          "base_uri": "https://localhost:8080/",
          "height": 643
        }
      },
      "source": [
        "df_ent = df.loc[(df['DocType']==\"Public\") | (df[\"DocType\"]==\"Private\"),:]\n",
        "df_ent.loc[:,'DocType_id'] = df_ent['DocType'].map({\"Public\":0, \"Private\":1})\n",
        "df_ent"
      ],
      "execution_count": 4,
      "outputs": [
        {
          "output_type": "stream",
          "text": [
            "/usr/local/lib/python3.6/dist-packages/pandas/core/indexing.py:376: SettingWithCopyWarning: \n",
            "A value is trying to be set on a copy of a slice from a DataFrame.\n",
            "Try using .loc[row_indexer,col_indexer] = value instead\n",
            "\n",
            "See the caveats in the documentation: http://pandas.pydata.org/pandas-docs/stable/user_guide/indexing.html#returning-a-view-versus-a-copy\n",
            "  self.obj[key] = _infer_fill_value(value)\n",
            "/usr/local/lib/python3.6/dist-packages/pandas/core/indexing.py:494: SettingWithCopyWarning: \n",
            "A value is trying to be set on a copy of a slice from a DataFrame.\n",
            "Try using .loc[row_indexer,col_indexer] = value instead\n",
            "\n",
            "See the caveats in the documentation: http://pandas.pydata.org/pandas-docs/stable/user_guide/indexing.html#returning-a-view-versus-a-copy\n",
            "  self.obj[item] = s\n"
          ],
          "name": "stderr"
        },
        {
          "output_type": "execute_result",
          "data": {
            "text/html": [
              "<div>\n",
              "<style scoped>\n",
              "    .dataframe tbody tr th:only-of-type {\n",
              "        vertical-align: middle;\n",
              "    }\n",
              "\n",
              "    .dataframe tbody tr th {\n",
              "        vertical-align: top;\n",
              "    }\n",
              "\n",
              "    .dataframe thead th {\n",
              "        text-align: right;\n",
              "    }\n",
              "</style>\n",
              "<table border=\"1\" class=\"dataframe\">\n",
              "  <thead>\n",
              "    <tr style=\"text-align: right;\">\n",
              "      <th></th>\n",
              "      <th>Text</th>\n",
              "      <th>DocType</th>\n",
              "      <th>DocType_id</th>\n",
              "    </tr>\n",
              "  </thead>\n",
              "  <tbody>\n",
              "    <tr>\n",
              "      <th>0</th>\n",
              "      <td>confirm usf mnd significant action mnc mnd eve...</td>\n",
              "      <td>Private</td>\n",
              "      <td>1</td>\n",
              "    </tr>\n",
              "    <tr>\n",
              "      <th>1</th>\n",
              "      <td>joint defense operation center receive report ...</td>\n",
              "      <td>Private</td>\n",
              "      <td>1</td>\n",
              "    </tr>\n",
              "    <tr>\n",
              "      <th>2</th>\n",
              "      <td>c small arm fire attack contractor set convoy ...</td>\n",
              "      <td>Private</td>\n",
              "      <td>1</td>\n",
              "    </tr>\n",
              "    <tr>\n",
              "      <th>3</th>\n",
              "      <td>c small arm fire attack contractor set convoy ...</td>\n",
              "      <td>Private</td>\n",
              "      <td>1</td>\n",
              "    </tr>\n",
              "    <tr>\n",
              "      <th>4</th>\n",
              "      <td>personal security detail travel north along ma...</td>\n",
              "      <td>Private</td>\n",
              "      <td>1</td>\n",
              "    </tr>\n",
              "    <tr>\n",
              "      <th>...</th>\n",
              "      <td>...</td>\n",
              "      <td>...</td>\n",
              "      <td>...</td>\n",
              "    </tr>\n",
              "    <tr>\n",
              "      <th>480</th>\n",
              "      <td>fifth year run dyncorp international llc di re...</td>\n",
              "      <td>Public</td>\n",
              "      <td>0</td>\n",
              "    </tr>\n",
              "    <tr>\n",
              "      <th>481</th>\n",
              "      <td>dyncorp international di gain important govern...</td>\n",
              "      <td>Public</td>\n",
              "      <td>0</td>\n",
              "    </tr>\n",
              "    <tr>\n",
              "      <th>482</th>\n",
              "      <td>january dyncorp international di one first com...</td>\n",
              "      <td>Public</td>\n",
              "      <td>0</td>\n",
              "    </tr>\n",
              "    <tr>\n",
              "      <th>483</th>\n",
              "      <td>november g job magazine ranked dyncorp interna...</td>\n",
              "      <td>Public</td>\n",
              "      <td>0</td>\n",
              "    </tr>\n",
              "    <tr>\n",
              "      <th>484</th>\n",
              "      <td>fall washington business journal recognize dyn...</td>\n",
              "      <td>Public</td>\n",
              "      <td>0</td>\n",
              "    </tr>\n",
              "  </tbody>\n",
              "</table>\n",
              "<p>485 rows × 3 columns</p>\n",
              "</div>"
            ],
            "text/plain": [
              "                                                  Text  DocType  DocType_id\n",
              "0    confirm usf mnd significant action mnc mnd eve...  Private           1\n",
              "1    joint defense operation center receive report ...  Private           1\n",
              "2    c small arm fire attack contractor set convoy ...  Private           1\n",
              "3    c small arm fire attack contractor set convoy ...  Private           1\n",
              "4    personal security detail travel north along ma...  Private           1\n",
              "..                                                 ...      ...         ...\n",
              "480  fifth year run dyncorp international llc di re...   Public           0\n",
              "481  dyncorp international di gain important govern...   Public           0\n",
              "482  january dyncorp international di one first com...   Public           0\n",
              "483  november g job magazine ranked dyncorp interna...   Public           0\n",
              "484  fall washington business journal recognize dyn...   Public           0\n",
              "\n",
              "[485 rows x 3 columns]"
            ]
          },
          "metadata": {
            "tags": []
          },
          "execution_count": 4
        }
      ]
    },
    {
      "cell_type": "code",
      "metadata": {
        "id": "ZcUsitAL5oVi",
        "colab_type": "code",
        "outputId": "336c6359-1121-49f1-87dd-f13d22b2840c",
        "colab": {
          "base_uri": "https://localhost:8080/",
          "height": 643
        }
      },
      "source": [
        "df_nent = df.loc[df[\"DocType\"]==\"NE\",:]\n",
        "df_nent.loc[:,'DocType_id'] = df_nent['DocType'].map({\"NE\":0})\n",
        "df_nent"
      ],
      "execution_count": 5,
      "outputs": [
        {
          "output_type": "stream",
          "text": [
            "/usr/local/lib/python3.6/dist-packages/pandas/core/indexing.py:376: SettingWithCopyWarning: \n",
            "A value is trying to be set on a copy of a slice from a DataFrame.\n",
            "Try using .loc[row_indexer,col_indexer] = value instead\n",
            "\n",
            "See the caveats in the documentation: http://pandas.pydata.org/pandas-docs/stable/user_guide/indexing.html#returning-a-view-versus-a-copy\n",
            "  self.obj[key] = _infer_fill_value(value)\n",
            "/usr/local/lib/python3.6/dist-packages/pandas/core/indexing.py:494: SettingWithCopyWarning: \n",
            "A value is trying to be set on a copy of a slice from a DataFrame.\n",
            "Try using .loc[row_indexer,col_indexer] = value instead\n",
            "\n",
            "See the caveats in the documentation: http://pandas.pydata.org/pandas-docs/stable/user_guide/indexing.html#returning-a-view-versus-a-copy\n",
            "  self.obj[item] = s\n"
          ],
          "name": "stderr"
        },
        {
          "output_type": "execute_result",
          "data": {
            "text/html": [
              "<div>\n",
              "<style scoped>\n",
              "    .dataframe tbody tr th:only-of-type {\n",
              "        vertical-align: middle;\n",
              "    }\n",
              "\n",
              "    .dataframe tbody tr th {\n",
              "        vertical-align: top;\n",
              "    }\n",
              "\n",
              "    .dataframe thead th {\n",
              "        text-align: right;\n",
              "    }\n",
              "</style>\n",
              "<table border=\"1\" class=\"dataframe\">\n",
              "  <thead>\n",
              "    <tr style=\"text-align: right;\">\n",
              "      <th></th>\n",
              "      <th>Text</th>\n",
              "      <th>DocType</th>\n",
              "      <th>DocType_id</th>\n",
              "    </tr>\n",
              "  </thead>\n",
              "  <tbody>\n",
              "    <tr>\n",
              "      <th>485</th>\n",
              "      <td>idaho vandal idaho vandal intercollegiate athl...</td>\n",
              "      <td>NE</td>\n",
              "      <td>0</td>\n",
              "    </tr>\n",
              "    <tr>\n",
              "      <th>486</th>\n",
              "      <td>robert l may robert lewis may july august crea...</td>\n",
              "      <td>NE</td>\n",
              "      <td>0</td>\n",
              "    </tr>\n",
              "    <tr>\n",
              "      <th>487</th>\n",
              "      <td>indycar series izod indycar series premier lev...</td>\n",
              "      <td>NE</td>\n",
              "      <td>0</td>\n",
              "    </tr>\n",
              "    <tr>\n",
              "      <th>488</th>\n",
              "      <td>philippine nationality law philippine national...</td>\n",
              "      <td>NE</td>\n",
              "      <td>0</td>\n",
              "    </tr>\n",
              "    <tr>\n",
              "      <th>489</th>\n",
              "      <td>takeichi nishi colonel baron imperial japanese...</td>\n",
              "      <td>NE</td>\n",
              "      <td>0</td>\n",
              "    </tr>\n",
              "    <tr>\n",
              "      <th>...</th>\n",
              "      <td>...</td>\n",
              "      <td>...</td>\n",
              "      <td>...</td>\n",
              "    </tr>\n",
              "    <tr>\n",
              "      <th>10487</th>\n",
              "      <td>dice los angeles dice los angeles formerly kno...</td>\n",
              "      <td>NE</td>\n",
              "      <td>0</td>\n",
              "    </tr>\n",
              "    <tr>\n",
              "      <th>10488</th>\n",
              "      <td>spirit radio spirit radio song release canadia...</td>\n",
              "      <td>NE</td>\n",
              "      <td>0</td>\n",
              "    </tr>\n",
              "    <tr>\n",
              "      <th>10489</th>\n",
              "      <td>gm degree v engine general motor opel subsidia...</td>\n",
              "      <td>NE</td>\n",
              "      <td>0</td>\n",
              "    </tr>\n",
              "    <tr>\n",
              "      <th>10490</th>\n",
              "      <td>muzaffarabad muzaffarabad pahari potwari capit...</td>\n",
              "      <td>NE</td>\n",
              "      <td>0</td>\n",
              "    </tr>\n",
              "    <tr>\n",
              "      <th>10491</th>\n",
              "      <td>fender jag stang fender jag stang electric gui...</td>\n",
              "      <td>NE</td>\n",
              "      <td>0</td>\n",
              "    </tr>\n",
              "  </tbody>\n",
              "</table>\n",
              "<p>10007 rows × 3 columns</p>\n",
              "</div>"
            ],
            "text/plain": [
              "                                                    Text DocType  DocType_id\n",
              "485    idaho vandal idaho vandal intercollegiate athl...      NE           0\n",
              "486    robert l may robert lewis may july august crea...      NE           0\n",
              "487    indycar series izod indycar series premier lev...      NE           0\n",
              "488    philippine nationality law philippine national...      NE           0\n",
              "489    takeichi nishi colonel baron imperial japanese...      NE           0\n",
              "...                                                  ...     ...         ...\n",
              "10487  dice los angeles dice los angeles formerly kno...      NE           0\n",
              "10488  spirit radio spirit radio song release canadia...      NE           0\n",
              "10489  gm degree v engine general motor opel subsidia...      NE           0\n",
              "10490  muzaffarabad muzaffarabad pahari potwari capit...      NE           0\n",
              "10491  fender jag stang fender jag stang electric gui...      NE           0\n",
              "\n",
              "[10007 rows x 3 columns]"
            ]
          },
          "metadata": {
            "tags": []
          },
          "execution_count": 5
        }
      ]
    },
    {
      "cell_type": "markdown",
      "metadata": {
        "id": "JaVspmwC3kdT",
        "colab_type": "text"
      },
      "source": [
        "## data distribution"
      ]
    },
    {
      "cell_type": "code",
      "metadata": {
        "id": "kpFcSTcf5uDl",
        "colab_type": "code",
        "outputId": "87955927-d15b-45b8-ca6d-c72de6526a97",
        "colab": {
          "base_uri": "https://localhost:8080/",
          "height": 429
        }
      },
      "source": [
        "import matplotlib.pyplot as plt\n",
        "fig = plt.figure(figsize=(8,6))\n",
        "graph = df.groupby('DocType').Text.count().plot.bar(ylim=0)\n",
        "\n",
        "for p in graph.patches:\n",
        "        graph.annotate('{:.0f}'.format(p.get_height()), (p.get_x()+0.3, p.get_height()))\n",
        "graph.set_title('Data Distribution') \n",
        "plt.show()"
      ],
      "execution_count": 6,
      "outputs": [
        {
          "output_type": "display_data",
          "data": {
            "image/png": "[encoded data removed]",
            "text/plain": [
              "<Figure size 576x432 with 1 Axes>"
            ]
          },
          "metadata": {
            "tags": []
          }
        }
      ]
    },
    {
      "cell_type": "markdown",
      "metadata": {
        "id": "V9HfNn3v5vBz",
        "colab_type": "text"
      },
      "source": [
        "# Training Data"
      ]
    },
    {
      "cell_type": "code",
      "metadata": {
        "id": "4ywdp-6G3YM5",
        "colab_type": "code",
        "outputId": "a7e0f0a9-0137-40e3-db26-da13ce55815c",
        "colab": {
          "base_uri": "https://localhost:8080/",
          "height": 429
        }
      },
      "source": [
        "fig = plt.figure(figsize=(8,6))\n",
        "graph = df_ent.groupby('DocType').Text.count().plot.bar(ylim=0)\n",
        "\n",
        "for p in graph.patches:\n",
        "        graph.annotate('{:.0f}'.format(p.get_height()), (p.get_x()+0.3, p.get_height()))\n",
        "graph.set_title('Data distribution after undersampling') \n",
        "plt.show()"
      ],
      "execution_count": 7,
      "outputs": [
        {
          "output_type": "display_data",
          "data": {
            "image/png": "[encoded data removed]",
            "text/plain": [
              "<Figure size 576x432 with 1 Axes>"
            ]
          },
          "metadata": {
            "tags": []
          }
        }
      ]
    },
    {
      "cell_type": "code",
      "metadata": {
        "id": "C6p9jopv-h88",
        "colab_type": "code",
        "colab": {}
      },
      "source": [
        "doctype_to_id = {'DocType':[\"Public\", \"Private\"], 'doctype_id': [0, 1]} \n",
        "doctype_id_df = pd.DataFrame(doctype_to_id) "
      ],
      "execution_count": 0,
      "outputs": []
    },
    {
      "cell_type": "markdown",
      "metadata": {
        "id": "06U_fztn3rmD",
        "colab_type": "text"
      },
      "source": [
        "## Train Test Split"
      ]
    },
    {
      "cell_type": "code",
      "metadata": {
        "id": "jazccJbt3nMP",
        "colab_type": "code",
        "outputId": "a5955fc0-887d-4b4c-82c1-279c557957d1",
        "colab": {
          "base_uri": "https://localhost:8080/",
          "height": 85
        }
      },
      "source": [
        "Train_X, Test_X, Train_Y, Test_Y = model_selection.train_test_split(df_ent['Text'],df_ent['DocType_id'],test_size=0.2)\n",
        "print('Train_X: ', Train_X.shape[0])\n",
        "print('Train_Y: ', Train_Y.shape[0])\n",
        "print('Test_X :  ', Test_X.shape[0])\n",
        "print('Test_Y :  ', Test_Y.shape[0])"
      ],
      "execution_count": 9,
      "outputs": [
        {
          "output_type": "stream",
          "text": [
            "Train_X:  388\n",
            "Train_Y:  388\n",
            "Test_X :   97\n",
            "Test_Y :   97\n"
          ],
          "name": "stdout"
        }
      ]
    },
    {
      "cell_type": "code",
      "metadata": {
        "id": "1NebGNHlS2m5",
        "colab_type": "code",
        "outputId": "db7d56bd-d390-4315-a8c6-2856113ebf78",
        "colab": {
          "base_uri": "https://localhost:8080/",
          "height": 187
        }
      },
      "source": [
        "Train_counts = pd.DataFrame(Train_Y.values, columns = list('a'))\n",
        "print('Train Data Distribution')\n",
        "print(Train_counts['a'].value_counts())\n",
        "\n",
        "Test_counts = pd.DataFrame(Test_Y.values, columns = list('a'))\n",
        "print('\\n\\nTest Data Distribution')\n",
        "print(Test_counts['a'].value_counts())"
      ],
      "execution_count": 12,
      "outputs": [
        {
          "output_type": "stream",
          "text": [
            "Train Data Distribution\n",
            "0    313\n",
            "1     75\n",
            "Name: a, dtype: int64\n",
            "\n",
            "\n",
            "Test Data Distribution\n",
            "0    70\n",
            "1    27\n",
            "Name: a, dtype: int64\n"
          ],
          "name": "stdout"
        }
      ]
    },
    {
      "cell_type": "markdown",
      "metadata": {
        "id": "8HM38dWJ303s",
        "colab_type": "text"
      },
      "source": [
        "## tf-idf Vectors"
      ]
    },
    {
      "cell_type": "code",
      "metadata": {
        "id": "eu31q-kC3uEN",
        "colab_type": "code",
        "outputId": "7d09ada3-4d39-4636-d1c0-027747cb7996",
        "colab": {
          "base_uri": "https://localhost:8080/",
          "height": 68
        }
      },
      "source": [
        "# Tfidf_vect = TfidfVectorizer(sublinear_tf=True, min_df=5, norm='l2', encoding='ISO-8859-1', ngram_range=(1, 2))\n",
        "Tfidf_vect = TfidfVectorizer(ngram_range=(1,2))\n",
        "#Learn the vocabulary\n",
        "Tfidf_vect.fit(df_ent['Text'])\n",
        "\n",
        "Train_X_Tfidf = Tfidf_vect.transform(Train_X)\n",
        "print(\"Train Data (Text, Features):\", Train_X_Tfidf.shape)\n",
        "Test_X_Tfidf = Tfidf_vect.transform(Test_X)\n",
        "print(\"Test Data (Text, Features):\", Test_X_Tfidf.shape)\n",
        "\n",
        "Test_X_Tfidf_Nent = Tfidf_vect.transform(df_nent['Text'])\n",
        "print(\"Wikipedia Data (Text, Features):\", Test_X_Tfidf_Nent.shape)\n",
        "Test_Y_Nent = df_nent['DocType_id']"
      ],
      "execution_count": 13,
      "outputs": [
        {
          "output_type": "stream",
          "text": [
            "Train Data (Text, Features): (388, 63918)\n",
            "Test Data (Text, Features): (97, 63918)\n",
            "Wikipedia Data (Text, Features): (10007, 63918)\n"
          ],
          "name": "stdout"
        }
      ]
    },
    {
      "cell_type": "code",
      "metadata": {
        "id": "RaFVfVek33zz",
        "colab_type": "code",
        "outputId": "1cfcd0c0-8aab-4dfc-82d5-a94508d284aa",
        "colab": {
          "base_uri": "https://localhost:8080/",
          "height": 85
        }
      },
      "source": [
        "clf = svm.SVC(C=1.0, kernel='linear', degree=3, gamma='auto',random_state=0)\n",
        "clf.fit(Train_X_Tfidf,Train_Y)"
      ],
      "execution_count": 14,
      "outputs": [
        {
          "output_type": "execute_result",
          "data": {
            "text/plain": [
              "SVC(C=1.0, break_ties=False, cache_size=200, class_weight=None, coef0=0.0,\n",
              "    decision_function_shape='ovr', degree=3, gamma='auto', kernel='linear',\n",
              "    max_iter=-1, probability=False, random_state=0, shrinking=True, tol=0.001,\n",
              "    verbose=False)"
            ]
          },
          "metadata": {
            "tags": []
          },
          "execution_count": 14
        }
      ]
    },
    {
      "cell_type": "markdown",
      "metadata": {
        "id": "rsvlgiL8-yIu",
        "colab_type": "text"
      },
      "source": [
        "## Top 10 features"
      ]
    },
    {
      "cell_type": "code",
      "metadata": {
        "id": "azujbJRO9f6o",
        "colab_type": "code",
        "outputId": "f85da744-09dc-49a0-a356-5d8c02b2cb62",
        "colab": {
          "base_uri": "https://localhost:8080/",
          "height": 513
        }
      },
      "source": [
        "N = 10\n",
        "def feature_plot(classifier, feature_names, top_features=N):\n",
        " coef = classifier.coef_.toarray()[0]\n",
        " top_positive_coefficients = np.argsort(coef)[-top_features:]\n",
        " top_negative_coefficients = np.argsort(coef)[:top_features]\n",
        " top_coefficients = np.hstack([top_negative_coefficients, top_positive_coefficients])\n",
        " plt.figure(figsize=(7, 7))\n",
        " colors = ['green' if c < 0 else 'blue' for c in coef[top_coefficients]]\n",
        " plt.bar(np.arange(2 * top_features), coef[top_coefficients], color=colors)\n",
        " feature_names = np.array(feature_names)\n",
        " plt.xticks(np.arange(1 + 2 * top_features), feature_names[top_coefficients], rotation=45, ha='right')\n",
        " plt.show()\n",
        "\n",
        "#  print(\"Most corelated terms: \\n. {}\".format('\\n'.join(feature_names[top_coefficients])))\n",
        "#  unigrams = [v for v in feature_names[top_coefficients] if len(v.split(' ')) == 1]\n",
        "#  bigrams = [v for v in feature_names[top_coefficients] if len(v.split(' ')) == 2]\n",
        "#  print(\"Most correlated unigrams:\\n. {}\".format('\\n. '.join(unigrams[:N])))\n",
        "#  print(\"Most correlated bigrams:\\n. {}\".format('\\n. '.join(bigrams[-N:])))\n",
        "\n",
        "feature_plot(clf, Tfidf_vect.get_feature_names())\n"
      ],
      "execution_count": 15,
      "outputs": [
        {
          "output_type": "display_data",
          "data": {
            "image/png": "[encoded data removed]",
            "text/plain": [
              "<Figure size 504x504 with 1 Axes>"
            ]
          },
          "metadata": {
            "tags": []
          }
        }
      ]
    },
    {
      "cell_type": "markdown",
      "metadata": {
        "id": "OuCUg777D0k0",
        "colab_type": "text"
      },
      "source": [
        "# Model Selection"
      ]
    },
    {
      "cell_type": "code",
      "metadata": {
        "id": "1YTT4X2JC-IE",
        "colab_type": "code",
        "outputId": "dadf0ec3-78d9-436f-868d-79a46b8157aa",
        "colab": {
          "base_uri": "https://localhost:8080/",
          "height": 284
        }
      },
      "source": [
        "models = [\n",
        "    RandomForestClassifier(n_estimators=200, max_depth=3, random_state=0),\n",
        "    # LinearSVC(),\n",
        "    svm.SVC(C=1.0, kernel='linear', degree=3, gamma='auto',random_state=0),\n",
        "    MultinomialNB(),\n",
        "    LogisticRegression(random_state=0),\n",
        "]\n",
        "CV = 5\n",
        "cv_df = pd.DataFrame(index=range(CV * len(models)))\n",
        "entries = []\n",
        "for model in models:\n",
        "    model_name = model.__class__.__name__\n",
        "    accuracies = cross_val_score(model, Train_X_Tfidf, Train_Y, scoring='accuracy', cv=CV)\n",
        "    for fold_idx, accuracy in enumerate(accuracies):\n",
        "        entries.append((model_name, fold_idx, accuracy))\n",
        "cv_df = pd.DataFrame(entries, columns=['model_name', 'fold_idx', 'accuracy'])\n",
        "import seaborn as sns\n",
        "sns.boxplot(x='model_name', y='accuracy', data=cv_df)\n",
        "sns.stripplot(x='model_name', y='accuracy', data=cv_df, \n",
        "              size=8, jitter=True, edgecolor=\"gray\", linewidth=2)\n",
        "plt.show()"
      ],
      "execution_count": 17,
      "outputs": [
        {
          "output_type": "display_data",
          "data": {
            "image/png": "[encoded data removed]",
            "text/plain": [
              "<Figure size 432x288 with 1 Axes>"
            ]
          },
          "metadata": {
            "tags": []
          }
        }
      ]
    },
    {
      "cell_type": "code",
      "metadata": {
        "id": "Yn-c8mNYD30u",
        "colab_type": "code",
        "outputId": "6be59790-eba9-4376-da57-f25c0be34e8d",
        "colab": {
          "base_uri": "https://localhost:8080/",
          "height": 119
        }
      },
      "source": [
        "cv_df.groupby('model_name').accuracy.mean()"
      ],
      "execution_count": 18,
      "outputs": [
        {
          "output_type": "execute_result",
          "data": {
            "text/plain": [
              "model_name\n",
              "LogisticRegression        0.863437\n",
              "MultinomialNB             0.850450\n",
              "RandomForestClassifier    0.809257\n",
              "SVC                       0.969064\n",
              "Name: accuracy, dtype: float64"
            ]
          },
          "metadata": {
            "tags": []
          },
          "execution_count": 18
        }
      ]
    },
    {
      "cell_type": "markdown",
      "metadata": {
        "id": "2zuJ5l7rEB9D",
        "colab_type": "text"
      },
      "source": [
        "## Model Evaluation"
      ]
    },
    {
      "cell_type": "code",
      "metadata": {
        "id": "suPNGgYpDcCM",
        "colab_type": "code",
        "outputId": "575599e2-1ff4-4709-95e5-a31cf330c8c8",
        "colab": {
          "base_uri": "https://localhost:8080/",
          "height": 1000
        }
      },
      "source": [
        "precision_public_list = []\n",
        "precision_private_list = []\n",
        "recall_public_list = []\n",
        "recall_private_list = []\n",
        "f1_public_list = []\n",
        "f1_private_list = []\n",
        "\n",
        "for model in models:   \n",
        "    model_name = model.__class__.__name__\n",
        "    model.fit(Train_X_Tfidf,Train_Y)\n",
        "    predictions = model.predict(Test_X_Tfidf)\n",
        "    conf_mat = confusion_matrix(Test_Y, predictions)\n",
        "    \n",
        "    print(model_name, '\\n', conf_mat)\n",
        "    fig, ax = plt.subplots(figsize=(5,5))\n",
        "    sns.heatmap(conf_mat, annot=True, fmt='d',\n",
        "            xticklabels=doctype_id_df.DocType.values, yticklabels=doctype_id_df.DocType.values)\n",
        "    plt.title(model_name)\n",
        "    plt.ylabel('Actual')\n",
        "    plt.xlabel('Predicted')\n",
        "    # fig.savefig('/content/drive/My Drive/Data/' + model_name + '.png')\n",
        "    True_private = conf_mat[0,0]\n",
        "    False_private = conf_mat[0,1]\n",
        "    False_public = conf_mat[1,0]\n",
        "    True_public = conf_mat[1,1]\n",
        "\n",
        "    precision_private = round((True_private) / (True_private + False_private), 2)\n",
        "    recall_private = round((True_private) / (True_private + False_public), 2)\n",
        "    f1_private = round((2 * precision_private * recall_private) / (precision_private + recall_private), 2)\n",
        "\n",
        "    precision_public = round((True_public) / (True_public + False_public), 2)\n",
        "    recall_public = round((True_public) / (True_public + False_private), 2)\n",
        "    f1_public = round((2 * precision_public * recall_public)/(precision_public + recall_public), 2)\n",
        "\n",
        "\n",
        "    #writing to list\n",
        "    precision_private_list.append(precision_private)\n",
        "    recall_private_list.append(recall_private)\n",
        "    f1_private_list.append(f1_private)\n",
        "\n",
        "    precision_public_list.append(precision_public)\n",
        "    recall_public_list.append(recall_public)\n",
        "    f1_public_list.append(f1_public)"
      ],
      "execution_count": 19,
      "outputs": [
        {
          "output_type": "stream",
          "text": [
            "RandomForestClassifier \n",
            " [[70  0]\n",
            " [25  2]]\n",
            "SVC \n",
            " [[70  0]\n",
            " [ 2 25]]\n",
            "MultinomialNB \n",
            " [[70  0]\n",
            " [12 15]]\n",
            "LogisticRegression \n",
            " [[70  0]\n",
            " [13 14]]\n"
          ],
          "name": "stdout"
        },
        {
          "output_type": "display_data",
          "data": {
            "image/png": "[encoded data removed]",
            "text/plain": [
              "<Figure size 360x360 with 2 Axes>"
            ]
          },
          "metadata": {
            "tags": []
          }
        },
        {
          "output_type": "display_data",
          "data": {
            "image/png": "[encoded data removed]",
            "text/plain": [
              "<Figure size 360x360 with 2 Axes>"
            ]
          },
          "metadata": {
            "tags": []
          }
        },
        {
          "output_type": "display_data",
          "data": {
            "image/png": "[encoded data removed]",
            "text/plain": [
              "<Figure size 360x360 with 2 Axes>"
            ]
          },
          "metadata": {
            "tags": []
          }
        },
        {
          "output_type": "display_data",
          "data": {
            "image/png": "[encoded data removed]",
            "text/plain": [
              "<Figure size 360x360 with 2 Axes>"
            ]
          },
          "metadata": {
            "tags": []
          }
        }
      ]
    },
    {
      "cell_type": "code",
      "metadata": {
        "id": "esrThnfHEhgs",
        "colab_type": "code",
        "outputId": "8d190672-83b2-42fe-93c5-8520f97e29e6",
        "colab": {
          "base_uri": "https://localhost:8080/",
          "height": 241
        }
      },
      "source": [
        "dict = {'Model':[\"Random Forest\", \"Linear Support Vector Classifier\", \"Multinomial Naive Bayes\", \"Logistic Regression\"], \n",
        "        'Precision (Public Class)': precision_public_list, \n",
        "        'Recall (Public Class)': recall_public_list,\n",
        "        'F1 Score (Public Class)': f1_public_list,\n",
        "        'Precision (Private Class)': precision_private_list,\n",
        "        'Recall (Private Class)': recall_private_list,\n",
        "        'F1 Score (Private Class)': f1_private_list\n",
        "        } \n",
        "    \n",
        "evaluation_df = pd.DataFrame(dict) \n",
        "evaluation_df"
      ],
      "execution_count": 20,
      "outputs": [
        {
          "output_type": "execute_result",
          "data": {
            "text/html": [
              "<div>\n",
              "<style scoped>\n",
              "    .dataframe tbody tr th:only-of-type {\n",
              "        vertical-align: middle;\n",
              "    }\n",
              "\n",
              "    .dataframe tbody tr th {\n",
              "        vertical-align: top;\n",
              "    }\n",
              "\n",
              "    .dataframe thead th {\n",
              "        text-align: right;\n",
              "    }\n",
              "</style>\n",
              "<table border=\"1\" class=\"dataframe\">\n",
              "  <thead>\n",
              "    <tr style=\"text-align: right;\">\n",
              "      <th></th>\n",
              "      <th>Model</th>\n",
              "      <th>Precision (Public Class)</th>\n",
              "      <th>Recall (Public Class)</th>\n",
              "      <th>F1 Score (Public Class)</th>\n",
              "      <th>Precision (Private Class)</th>\n",
              "      <th>Recall (Private Class)</th>\n",
              "      <th>F1 Score (Private Class)</th>\n",
              "    </tr>\n",
              "  </thead>\n",
              "  <tbody>\n",
              "    <tr>\n",
              "      <th>0</th>\n",
              "      <td>Random Forest</td>\n",
              "      <td>0.07</td>\n",
              "      <td>1.0</td>\n",
              "      <td>0.13</td>\n",
              "      <td>1.0</td>\n",
              "      <td>0.74</td>\n",
              "      <td>0.85</td>\n",
              "    </tr>\n",
              "    <tr>\n",
              "      <th>1</th>\n",
              "      <td>Linear Support Vector Classifier</td>\n",
              "      <td>0.93</td>\n",
              "      <td>1.0</td>\n",
              "      <td>0.96</td>\n",
              "      <td>1.0</td>\n",
              "      <td>0.97</td>\n",
              "      <td>0.98</td>\n",
              "    </tr>\n",
              "    <tr>\n",
              "      <th>2</th>\n",
              "      <td>Multinomial Naive Bayes</td>\n",
              "      <td>0.56</td>\n",
              "      <td>1.0</td>\n",
              "      <td>0.72</td>\n",
              "      <td>1.0</td>\n",
              "      <td>0.85</td>\n",
              "      <td>0.92</td>\n",
              "    </tr>\n",
              "    <tr>\n",
              "      <th>3</th>\n",
              "      <td>Logistic Regression</td>\n",
              "      <td>0.52</td>\n",
              "      <td>1.0</td>\n",
              "      <td>0.68</td>\n",
              "      <td>1.0</td>\n",
              "      <td>0.84</td>\n",
              "      <td>0.91</td>\n",
              "    </tr>\n",
              "  </tbody>\n",
              "</table>\n",
              "</div>"
            ],
            "text/plain": [
              "                              Model  ...  F1 Score (Private Class)\n",
              "0                     Random Forest  ...                      0.85\n",
              "1  Linear Support Vector Classifier  ...                      0.98\n",
              "2           Multinomial Naive Bayes  ...                      0.92\n",
              "3               Logistic Regression  ...                      0.91\n",
              "\n",
              "[4 rows x 7 columns]"
            ]
          },
          "metadata": {
            "tags": []
          },
          "execution_count": 20
        }
      ]
    },
    {
      "cell_type": "markdown",
      "metadata": {
        "id": "gfC84F1BrOS4",
        "colab_type": "text"
      },
      "source": [
        "* high precision + high recall = *class pefectly handled by model*\n",
        "* high precision + low recall = *class can't detect the class but highly trustable when it does*\n",
        "* low precision + high recall = *well detected class but it also include points of other class*\n",
        "* low precision + low recall = *class poorly handled by the model* "
      ]
    },
    {
      "cell_type": "markdown",
      "metadata": {
        "id": "bEZJnD2nHbRn",
        "colab_type": "text"
      },
      "source": [
        "# Validation on wikipedia data"
      ]
    },
    {
      "cell_type": "code",
      "metadata": {
        "id": "jPkT0BizI2is",
        "colab_type": "code",
        "outputId": "8cbc46f7-bdaa-4070-e8c1-b8b24b305256",
        "colab": {
          "base_uri": "https://localhost:8080/",
          "height": 1000
        }
      },
      "source": [
        "for model in models:\n",
        "    model_name = model.__class__.__name__\n",
        "    model.fit(Train_X_Tfidf,Train_Y)\n",
        "    predictions2 = model.predict(Test_X_Tfidf_Nent)\n",
        "    conf_mat = confusion_matrix(Test_Y_Nent,predictions2)\n",
        "    print(\"\\n\",model_name,\"Accuracy Score: NE Data -> \",accuracy_score(predictions2, Test_Y_Nent)*100)\n",
        "    print(model_name, '\\n', conf_mat)\n",
        "    fig, ax = plt.subplots(figsize=(5,5))\n",
        "    sns.heatmap(conf_mat, annot=True, fmt='d',\n",
        "            xticklabels=doctype_id_df.DocType.values, yticklabels=doctype_id_df.DocType.values)\n",
        "    plt.title(model_name)\n",
        "    plt.ylabel('Actual')\n",
        "    plt.xlabel('Predicted')\n",
        "\n"
      ],
      "execution_count": 22,
      "outputs": [
        {
          "output_type": "stream",
          "text": [
            "\n",
            " RandomForestClassifier Accuracy Score: NE Data ->  100.0\n",
            "RandomForestClassifier \n",
            " [[10007]]\n",
            "\n",
            " SVC Accuracy Score: NE Data ->  99.87009093634455\n",
            "SVC \n",
            " [[9994   13]\n",
            " [   0    0]]\n",
            "\n",
            " MultinomialNB Accuracy Score: NE Data ->  100.0\n",
            "MultinomialNB \n",
            " [[10007]]\n",
            "\n",
            " LogisticRegression Accuracy Score: NE Data ->  100.0\n",
            "LogisticRegression \n",
            " [[10007]]\n"
          ],
          "name": "stdout"
        },
        {
          "output_type": "display_data",
          "data": {
            "image/png": "[encoded data removed]",
            "text/plain": [
              "<Figure size 360x360 with 2 Axes>"
            ]
          },
          "metadata": {
            "tags": []
          }
        },
        {
          "output_type": "display_data",
          "data": {
            "image/png": "[encoded data removed]",
            "text/plain": [
              "<Figure size 360x360 with 2 Axes>"
            ]
          },
          "metadata": {
            "tags": []
          }
        },
        {
          "output_type": "display_data",
          "data": {
            "image/png": "[encoded data removed]",
            "text/plain": [
              "<Figure size 360x360 with 2 Axes>"
            ]
          },
          "metadata": {
            "tags": []
          }
        },
        {
          "output_type": "display_data",
          "data": {
            "image/png": "[encoded data removed]",
            "text/plain": [
              "<Figure size 360x360 with 2 Axes>"
            ]
          },
          "metadata": {
            "tags": []
          }
        }
      ]
    },
    {
      "cell_type": "markdown",
      "metadata": {
        "id": "PITGI59ZM5wF",
        "colab_type": "text"
      },
      "source": [
        "# Random Forest"
      ]
    },
    {
      "cell_type": "code",
      "metadata": {
        "id": "i8WoP8-EMKrj",
        "colab_type": "code",
        "colab": {}
      },
      "source": [
        "RF = RandomForestClassifier(n_estimators=200, max_depth=3, random_state=0)\n",
        "RF.fit(Train_X_Tfidf,Train_Y)\n",
        "predictions_RF = RF.predict(Test_X_Tfidf_Nent)\n"
      ],
      "execution_count": 0,
      "outputs": []
    },
    {
      "cell_type": "markdown",
      "metadata": {
        "id": "3Eh1wgRuN0WL",
        "colab_type": "text"
      },
      "source": [
        "### Correctly classified data"
      ]
    },
    {
      "cell_type": "code",
      "metadata": {
        "id": "YQPaE3eYN3cR",
        "colab_type": "code",
        "outputId": "bb5bd364-d632-4dd1-8e49-a662b7f243e6",
        "colab": {
          "base_uri": "https://localhost:8080/",
          "height": 238
        }
      },
      "source": [
        "print(df_nent[predictions_RF==0]['Text'])\n",
        "print('Total data count:', len(df_nent[predictions_RF==0]['Text']))"
      ],
      "execution_count": 24,
      "outputs": [
        {
          "output_type": "stream",
          "text": [
            "485      idaho vandal idaho vandal intercollegiate athl...\n",
            "486      robert l may robert lewis may july august crea...\n",
            "487      indycar series izod indycar series premier lev...\n",
            "488      philippine nationality law philippine national...\n",
            "489      takeichi nishi colonel baron imperial japanese...\n",
            "                               ...                        \n",
            "10487    dice los angeles dice los angeles formerly kno...\n",
            "10488    spirit radio spirit radio song release canadia...\n",
            "10489    gm degree v engine general motor opel subsidia...\n",
            "10490    muzaffarabad muzaffarabad pahari potwari capit...\n",
            "10491    fender jag stang fender jag stang electric gui...\n",
            "Name: Text, Length: 10007, dtype: object\n",
            "Total data count: 10007\n"
          ],
          "name": "stdout"
        }
      ]
    },
    {
      "cell_type": "markdown",
      "metadata": {
        "id": "ibmfvWY9N6tF",
        "colab_type": "text"
      },
      "source": [
        "### Misclassified data"
      ]
    },
    {
      "cell_type": "code",
      "metadata": {
        "id": "2Q4GpZivN9B3",
        "colab_type": "code",
        "outputId": "ab288614-bbd3-4a25-db14-4bdf086ebab7",
        "colab": {
          "base_uri": "https://localhost:8080/",
          "height": 51
        }
      },
      "source": [
        "print(df_nent[predictions_RF==1]['Text'])\n",
        "print('Total data count:', len(df_nent[predictions_RF==1]['Text']))"
      ],
      "execution_count": 25,
      "outputs": [
        {
          "output_type": "stream",
          "text": [
            "Series([], Name: Text, dtype: object)\n",
            "Total data count: 0\n"
          ],
          "name": "stdout"
        }
      ]
    },
    {
      "cell_type": "markdown",
      "metadata": {
        "id": "Fw63uKILM8mX",
        "colab_type": "text"
      },
      "source": [
        "# SVM"
      ]
    },
    {
      "cell_type": "code",
      "metadata": {
        "id": "oKUnf_mKM_-D",
        "colab_type": "code",
        "colab": {}
      },
      "source": [
        "SVM = svm.SVC(C=1.0, kernel='linear', degree=3, gamma='auto',random_state=0)\n",
        "SVM.fit(Train_X_Tfidf,Train_Y)\n",
        "predictions_SVM = SVM.predict(Test_X_Tfidf_Nent)"
      ],
      "execution_count": 0,
      "outputs": []
    },
    {
      "cell_type": "markdown",
      "metadata": {
        "id": "ios_0_dAOODU",
        "colab_type": "text"
      },
      "source": [
        "### Correctly classified data"
      ]
    },
    {
      "cell_type": "code",
      "metadata": {
        "id": "ho5JVnr6OQb4",
        "colab_type": "code",
        "outputId": "1a5bd2de-7b05-4358-97eb-448f91f3d776",
        "colab": {
          "base_uri": "https://localhost:8080/",
          "height": 238
        }
      },
      "source": [
        "print(df_nent[predictions_SVM==0]['Text'])\n",
        "print('Total data count:', len(df_nent[predictions_SVM==0]['Text']))\n"
      ],
      "execution_count": 27,
      "outputs": [
        {
          "output_type": "stream",
          "text": [
            "485      idaho vandal idaho vandal intercollegiate athl...\n",
            "486      robert l may robert lewis may july august crea...\n",
            "487      indycar series izod indycar series premier lev...\n",
            "488      philippine nationality law philippine national...\n",
            "489      takeichi nishi colonel baron imperial japanese...\n",
            "                               ...                        \n",
            "10487    dice los angeles dice los angeles formerly kno...\n",
            "10488    spirit radio spirit radio song release canadia...\n",
            "10489    gm degree v engine general motor opel subsidia...\n",
            "10490    muzaffarabad muzaffarabad pahari potwari capit...\n",
            "10491    fender jag stang fender jag stang electric gui...\n",
            "Name: Text, Length: 9994, dtype: object\n",
            "Total data count: 9994\n"
          ],
          "name": "stdout"
        }
      ]
    },
    {
      "cell_type": "markdown",
      "metadata": {
        "id": "JYS4guBFOSW_",
        "colab_type": "text"
      },
      "source": [
        "### misclassified data"
      ]
    },
    {
      "cell_type": "code",
      "metadata": {
        "id": "wrBvC43-OUUa",
        "colab_type": "code",
        "outputId": "51895863-11f3-40ef-c2c4-a52de332b418",
        "colab": {
          "base_uri": "https://localhost:8080/",
          "height": 272
        }
      },
      "source": [
        "print(df_nent[predictions_SVM==1]['Text'])\n",
        "print('Total data count:', len(df_nent[predictions_SVM==1]['Text']))"
      ],
      "execution_count": 28,
      "outputs": [
        {
          "output_type": "stream",
          "text": [
            "1733     phantom vehicle phantom vehicle may refer supp...\n",
            "2229     woo bum kon woo bum kon wou bom kon february a...\n",
            "2314     police commissioner kolkata commissioner polic...\n",
            "3686     ursula sabina eriksson ursula sabina eriksson ...\n",
            "4534     maachis maachis indian hindi film direct gulza...\n",
            "4989     terrorist attack kenya since kenya see upsurge...\n",
            "5376     bart police bay area rapid transit police depa...\n",
            "5856     red route notoc term red route separately adop...\n",
            "6126     death lee rigby afternoon may british army sol...\n",
            "6137     stockholm riot may youth riot broke husby subu...\n",
            "6166     timeline protest turkey follow timeline protes...\n",
            "9193     peel regional police peel regional police prp ...\n",
            "10273    police riot police riot riot carry police riot...\n",
            "Name: Text, dtype: object\n",
            "Total data count: 13\n"
          ],
          "name": "stdout"
        }
      ]
    },
    {
      "cell_type": "markdown",
      "metadata": {
        "id": "khv3PtVaNAj5",
        "colab_type": "text"
      },
      "source": [
        "# Naive Bayes"
      ]
    },
    {
      "cell_type": "code",
      "metadata": {
        "id": "K0huxda3NCt3",
        "colab_type": "code",
        "colab": {}
      },
      "source": [
        "NB = MultinomialNB()\n",
        "NB.fit(Train_X_Tfidf,Train_Y)\n",
        "predictions_NB = NB.predict(Test_X_Tfidf_Nent)"
      ],
      "execution_count": 0,
      "outputs": []
    },
    {
      "cell_type": "markdown",
      "metadata": {
        "id": "ATyjJhMDOz8R",
        "colab_type": "text"
      },
      "source": [
        "### Correctly classified data"
      ]
    },
    {
      "cell_type": "code",
      "metadata": {
        "id": "cniF3mXVPCFV",
        "colab_type": "code",
        "outputId": "608a4315-67ba-463b-a8e0-899cb83d7575",
        "colab": {
          "base_uri": "https://localhost:8080/",
          "height": 238
        }
      },
      "source": [
        "print(df_nent[predictions_NB==0]['Text'])\n",
        "print('Total data count:', len(df_nent[predictions_NB==0]['Text']))"
      ],
      "execution_count": 30,
      "outputs": [
        {
          "output_type": "stream",
          "text": [
            "485      idaho vandal idaho vandal intercollegiate athl...\n",
            "486      robert l may robert lewis may july august crea...\n",
            "487      indycar series izod indycar series premier lev...\n",
            "488      philippine nationality law philippine national...\n",
            "489      takeichi nishi colonel baron imperial japanese...\n",
            "                               ...                        \n",
            "10487    dice los angeles dice los angeles formerly kno...\n",
            "10488    spirit radio spirit radio song release canadia...\n",
            "10489    gm degree v engine general motor opel subsidia...\n",
            "10490    muzaffarabad muzaffarabad pahari potwari capit...\n",
            "10491    fender jag stang fender jag stang electric gui...\n",
            "Name: Text, Length: 10007, dtype: object\n",
            "Total data count: 10007\n"
          ],
          "name": "stdout"
        }
      ]
    },
    {
      "cell_type": "markdown",
      "metadata": {
        "id": "AeLUhg68O5YQ",
        "colab_type": "text"
      },
      "source": [
        "### Misclassified data"
      ]
    },
    {
      "cell_type": "code",
      "metadata": {
        "id": "sELFx_3NPBOE",
        "colab_type": "code",
        "outputId": "15acb45c-4ac8-4e21-9975-f1b05acd0318",
        "colab": {
          "base_uri": "https://localhost:8080/",
          "height": 51
        }
      },
      "source": [
        "print(df_nent[predictions_NB==1]['Text'])\n",
        "print('Total data count:', len(df_nent[predictions_NB==1]['Text']))"
      ],
      "execution_count": 31,
      "outputs": [
        {
          "output_type": "stream",
          "text": [
            "Series([], Name: Text, dtype: object)\n",
            "Total data count: 0\n"
          ],
          "name": "stdout"
        }
      ]
    },
    {
      "cell_type": "markdown",
      "metadata": {
        "id": "BczPJPV5NDLD",
        "colab_type": "text"
      },
      "source": [
        "# Logistic Regression"
      ]
    },
    {
      "cell_type": "code",
      "metadata": {
        "id": "XKQwuGkfO_AB",
        "colab_type": "code",
        "colab": {}
      },
      "source": [
        "LR = LogisticRegression(random_state=0)\n",
        "LR.fit(Train_X_Tfidf,Train_Y)\n",
        "predictions_LR = LR.predict(Test_X_Tfidf_Nent)"
      ],
      "execution_count": 0,
      "outputs": []
    },
    {
      "cell_type": "markdown",
      "metadata": {
        "id": "YgEAVAvKO4Se",
        "colab_type": "text"
      },
      "source": [
        "### Correctly classified data"
      ]
    },
    {
      "cell_type": "code",
      "metadata": {
        "id": "R3ievY3hO_hD",
        "colab_type": "code",
        "outputId": "f417a662-3478-4975-ddf9-40eda46abfbd",
        "colab": {
          "base_uri": "https://localhost:8080/",
          "height": 238
        }
      },
      "source": [
        "print(df_nent[predictions_LR==0]['Text'])\n",
        "print('Total data count:', len(df_nent[predictions_LR==0]['Text']))"
      ],
      "execution_count": 33,
      "outputs": [
        {
          "output_type": "stream",
          "text": [
            "485      idaho vandal idaho vandal intercollegiate athl...\n",
            "486      robert l may robert lewis may july august crea...\n",
            "487      indycar series izod indycar series premier lev...\n",
            "488      philippine nationality law philippine national...\n",
            "489      takeichi nishi colonel baron imperial japanese...\n",
            "                               ...                        \n",
            "10487    dice los angeles dice los angeles formerly kno...\n",
            "10488    spirit radio spirit radio song release canadia...\n",
            "10489    gm degree v engine general motor opel subsidia...\n",
            "10490    muzaffarabad muzaffarabad pahari potwari capit...\n",
            "10491    fender jag stang fender jag stang electric gui...\n",
            "Name: Text, Length: 10007, dtype: object\n",
            "Total data count: 10007\n"
          ],
          "name": "stdout"
        }
      ]
    },
    {
      "cell_type": "markdown",
      "metadata": {
        "id": "E3ORza4LO8Ue",
        "colab_type": "text"
      },
      "source": [
        "### Misclassified data"
      ]
    },
    {
      "cell_type": "code",
      "metadata": {
        "id": "87VRV7S7NFSE",
        "colab_type": "code",
        "outputId": "0ace3670-96fd-45bd-ad82-b77596d6ec57",
        "colab": {
          "base_uri": "https://localhost:8080/",
          "height": 51
        }
      },
      "source": [
        "print(df_nent[predictions_LR==1]['Text'])\n",
        "print('Total data count:', len(df_nent[predictions_LR==1]['Text']))"
      ],
      "execution_count": 34,
      "outputs": [
        {
          "output_type": "stream",
          "text": [
            "Series([], Name: Text, dtype: object)\n",
            "Total data count: 0\n"
          ],
          "name": "stdout"
        }
      ]
    },
    {
      "cell_type": "code",
      "metadata": {
        "id": "X2moMNQ6QELc",
        "colab_type": "code",
        "colab": {}
      },
      "source": [
        ""
      ],
      "execution_count": 0,
      "outputs": []
    }
  ]
}