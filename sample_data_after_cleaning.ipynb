{
  "nbformat": 4,
  "nbformat_minor": 0,
  "metadata": {
    "colab": {
      "name": "sample data after cleaning.ipynb",
      "provenance": [],
      "authorship_tag": "ABX9TyM4WWf1SsX8sOM5niJJDV5h"
    },
    "kernelspec": {
      "name": "python3",
      "display_name": "Python 3"
    }
  },
  "cells": [
    {
      "cell_type": "code",
      "metadata": {
        "id": "3IEBQAf_jgNx",
        "colab_type": "code",
        "colab": {
          "base_uri": "https://localhost:8080/",
          "height": 122
        },
        "outputId": "496282b3-ab9e-40a0-ccb1-96687ef747e1"
      },
      "source": [
        "from google.colab import drive\n",
        "drive.mount('/content/drive')"
      ],
      "execution_count": 2,
      "outputs": [
        {
          "output_type": "stream",
          "text": [
            "Go to this URL in a browser: https://accounts.google.com/o/oauth2/auth?client_id=947318989803-6bn6qk8qdgf4n4g3pfee6491hc0brc4i.apps.googleusercontent.com&redirect_uri=urn%3aietf%3awg%3aoauth%3a2.0%3aoob&response_type=code&scope=email%20https%3a%2f%2fwww.googleapis.com%2fauth%2fdocs.test%20https%3a%2f%2fwww.googleapis.com%2fauth%2fdrive%20https%3a%2f%2fwww.googleapis.com%2fauth%2fdrive.photos.readonly%20https%3a%2f%2fwww.googleapis.com%2fauth%2fpeopleapi.readonly\n",
            "\n",
            "Enter your authorization code:\n",
            "··········\n",
            "Mounted at /content/drive\n"
          ],
          "name": "stdout"
        }
      ]
    },
    {
      "cell_type": "code",
      "metadata": {
        "id": "UiuZEvgfmWeM",
        "colab_type": "code",
        "colab": {}
      },
      "source": [
        "import csv\n",
        "import pandas as pd\n",
        "df = pd.read_csv('/content/drive/My Drive/Data/cleaneddata.csv')"
      ],
      "execution_count": 0,
      "outputs": []
    },
    {
      "cell_type": "code",
      "metadata": {
        "id": "4K-3QR9BmXkZ",
        "colab_type": "code",
        "colab": {}
      },
      "source": [
        "df_public = df.loc[(df['DocType']==\"Public\"),:].head(10)\n",
        "df_public.to_csv('/content/drive/My Drive/Data/Public_Sample.csv', index=False)\n",
        "df_private = df.loc[(df['DocType']==\"Private\"),:].head(10)\n",
        "df_private.to_csv('/content/drive/My Drive/Data/Private_Sample.csv', index=False)"
      ],
      "execution_count": 0,
      "outputs": []
    },
    {
      "cell_type": "markdown",
      "metadata": {
        "id": "dWtzSj14u8R9",
        "colab_type": "text"
      },
      "source": [
        "## Public Data"
      ]
    },
    {
      "cell_type": "code",
      "metadata": {
        "id": "giIEc92fmfpG",
        "colab_type": "code",
        "colab": {
          "base_uri": "https://localhost:8080/",
          "height": 394
        },
        "outputId": "88d5255c-6d9d-42cb-bfa2-38e662d06247"
      },
      "source": [
        "with open('/content/drive/My Drive/Data/Public_Sample.csv') as csv_file:\n",
        "    csv_reader = csv.reader(csv_file, delimiter=',')\n",
        "    line_count = 0\n",
        "    for row in csv_reader:\n",
        "        if line_count == 0:\n",
        "            line_count += 1\n",
        "        else:\n",
        "            print(f'{row[0]}', '\\n')\n",
        "            line_count += 1\n",
        "    print(f'Processed {line_count} lines.')"
      ],
      "execution_count": 26,
      "outputs": [
        {
          "output_type": "stream",
          "text": [
            "april dyncorp international di team patuxent river naval air station program travel ingalls field hot spring virginia test distribute aperture infrared countermeasure daircm system ah z mh aircraft objective detachment evaluate daircm improve missile countermeasure system determine system performance ready next phase test fielding addition di maintenance detachment team consist people navair atlantic test range center countermeasure among others ingalls field excellent airfield test little traffic tip top mountain terrain sharply drop valley east west challenge come test top mountain field elevation foot however weather april detachment weather varied degree fahrenheit sunny drive rain dense fog temp barely climb course day mh due full round torque check team battling heavy rain visibility foot although major maintenance complete aircraft prior detachment subsequent torque check every fastener driveshaft couple main transmission intermediate gearbox require cover lot bolt difficult access require di maintainer contort top sometimes inside aircraft maintenance like small task dry hangar back home patuxent river say charlie grogan dynaviation navy lead yet maintenance team execute flight line top mountain drive element rest detachment plan next flight event analyze data comfort hotel di team work full day drive rain dedication skill resolve team get job do return aircraft status test execution next day weather clear mh flew detachment team able successfully collect deliver need data bring capable system fleet magnitude work perform di maintenance personnel element attitude met task stand highlight time mountain say u navy lieutenant detachment \n",
            "\n",
            "navigate various permission license operate foreign country daunt dyncorp international afghanistan operation team group eleven employee support almost program afghanistan special support range across many different area include security personal security transport pst tax ministry foreign affair afghanistan mofa administration visa liaison support much work allows program afghanistan meet rule afghan law ensure law rule apply properly correctly team member interact various afghan ministry ensure visa mofa reference number deliver process time comprehensive tax situation dealt accurately correctly additionally team lead security director glen lewis ensures whenever incident timely accurate information disseminate across channel level dyncorp international one important challenge team face renew service international llc risk management company sil rmc license year without license letter bridging next license company longer provide rmc service customer short company can not conduct certain type business afghanistan mr zubair wahabzai visa government liaison specialist take difficult challenge even ministry interior counterterrorism department moict insistedit would willing give type bridging letter rmc company afghanistan multiple trip around city kabul include daily trip moict department meet senior leader constant engagement couple lot finesse result dyncorp international receive first highly sought bridging letter \n",
            "\n",
            "naval test wing pacific ntwp program point mugu california dyncorp international di employee wilfredo willie dumaop perform routine foreign object debris fod sweep bloodhound u navy air test evaluation squadron vx another routine fod sweep say willie di quality assurance qa representative notice something hidden behind pilot rudder pedal mr dumaop discover critical piece foreign debris stratus inverter power plug behind pedal without diligent effort attention detail piece equipment could easily foul vital safety flight control result significant damage even loss life say u navy vx maintenance officer mr dumaop found miss piece equipment even aircrew duty officer able communicate potential hard fod adrift cockpit even aircraft willie dumaop displayed exemplary commitment ideal safe effective maintenance foundation naval aviation continued maintenance officer action display example emulate achievement improve safety mr dumaop receive vx safety professional award im proud willie commitment safety attention detail would like congratulate deserve award say bob sanford point mugu assistant site manager qa director dis ntwp program di provide organizational level aircraft maintenance logistics support aircraft system subsystem aircrew system sar equipment support equipment se assign aircraft rotary fix lighter air unmanned aircraft site project test transient aircraft fm aircraft loaner aircraft training aircraft lease aircraft work perform navair point mugu locate naval base ventura county california support p c aircraft naval air weapon station naws china lake california support f g av sh aircraft \n",
            "\n",
            "last decade tragedy assistance program survivor tap receive million dollar support dyncorp international di employee corporate donation red shirt friday support troop campaign alone generate thousand dollar contribution di employee purchase red shirt wear support sacrifice serviceman woman throughout world dis journey hope charity golf tournament raise additional thousand sponsorship di supplier partner employee tap support many di family since di become first private company form official partnership tap provide support family fall di personnel agreement tap dis employee assistance program eap design support di employee family work together provide survivor di employee comfort care comprehensive service program include peer base emotional support case work assistance connection community base care grief trauma resource di lose eighty five teammate support u foreign policy objective watch bonnie carroll tap founder president thank people di brief two minute video tap tragedy assistance program survivor tap national organization provide compassionate care family america fall military hero member america arm force dy tap front line provide compassionate care family left behind since tap assist survive family member casualty officer caregiver grieve loss military love one regardless geography circumstance death \n",
            "\n",
            "dyncorp international di earn federal aviation administration faa diamond award excellence recognition commitment aviation maintenance training joint base andrew di team joint base andrew maryland earn prestigious award time program di provide service important person special air mission vipsam include aircraft maintenance munition base supply fuel support aircraft assign th wing th airlift wing award due entirely maintenance team dedication hard work say craig oneal andrew support division division manager theyve pull incredible year row diamond award high corporate award include individual corporate recognition award recognizes completion percent organization eligible maintenance technician specialized continuous training aircraft system regulation faa rule month period addition diamond award present company mechanic receives aviation maintenance technician award base number training hour log last time team compete award vipsam name since contract divide five separate program executive airlift rotary maintenance wing supply fuel munition transient alert year add craig team look forward continue truly amaze run earn prestigious award future executive airlift rotary maintenance wing service contract \n",
            "\n",
            "dyncorp international di team may fun play tournament mini golf green construct result july dynfun activity miniature golf course construction contest team work inventively build individual putt putt hole incorporate di wide virtual golf course spread throughout globe team logcaps ntc program fort irwin california built putt putt hole symbolize base desert include course feature representative many element location historical paint rock near main gate high mobility multi purpose wheel vehicle di maintains armored personnel carrier di also maintains uh blackhawk helicopter represent di air traffic controller orange cone represent vehicle issue yard rotational unit field maintenance area vehicle transfer di test repair inspection ammunition represent theatre ammunition supply point brake rotor exhaust pipe represent maintenance facility finally cactus donkey coyote represent desert account payable team fort worth texas go tropical luau party theme feature pool noodle guide tiki windmill metal filing rack tunnel pool float trap hibiscus flower ramp honor system scorecard emphasize fair play tournament prize alliance security facility fort worth texas set team dysfunctional hole feature edward snowden leonard moss start tee vintage cartoon burglar insider threat shadow man tube obstacle finish di mailroom mailbox mclean virginia office team corporate security facility real estate create carnival game type putt putt green three alternative score option ultimate goal score security superstar played di security open mini golf tournament result four way tie shootout conduct among winner dorian amstel result victorious security awareness medallion corporate human resource fort worth texas create green dyn mite prehistoric theme putt putt hole feature erupt volcano plastic bin water feature mini boulder velociraptor rex obstacle tropical pterodactyl whiteboard backdrop dry eraser artwork congratulation winner tie human resource alliance security facility team push creative limit stay within contest size guideline five terrific putt putt green design team receive prize innovative creation check mini golf flickr album di team play miniature golf hole \n",
            "\n",
            "washington technology release list large government contractor accord prime contract dollar year dyncorp international ranked th base prime contract washington technology top list washington technology list barometer federal market competitive landscape measure contractor accord prime contract area system integration professional service telecommunication high tech service area \n",
            "\n",
            "month employee dyncorp international di mclean virginia fort worth texas office collect dress shoe accessory donate uso metropolitan washington baltimore uso metro uso metro nonprofit organization charter congress dedicate serve serve family washington c maryland northern virginia help thousand devote volunteer uso metro provide program service active duty troop family area military hospital uso center uso airport lounge mobile uso branch service least one anniversary ball recognition gala year special event intimidate uncomfortable consider etiquette protocol associate attend function uso metro put full day event call project cinderella empowers woman interactive workshop beauty etiquette culminates woman choose selection donate item formal gown accessory program design help offset cost expensive military ball formal function total di collect dress pair shoe purse article jewelry \n",
            "\n",
            "dyncorp international di host student national defense university ndu mclean virginia office friday april student part national defense university competitive dwight eisenhower school national security resource strategy nearly year long curriculum prepares select military officer civilian leadership role success develop national security strategy graduate taught skill use well evaluate marshal manage resource execution military strategy many graduate program go hold leadership position throughout government become executive industry topic varied overview di specific program detail finance one area concentration dyncorp international ability stand high perform rapid response team offer unique tailor solution example question di approach complex task like respond natural disaster resource scarce need ever change group also interested learn di successfully implement large scale program quickly maintain high quality standard company core value seventeen scholar represent diverse group wide array experience include member u arm force select inter agency civilian representative tanzania croatia italy bosnia herzegovina arm force attendee hold rank military include commander lieutenant lieutenant colonel colonel group heard three presenter jim cassella svp business development janet oliver svp business development robert tillery svp operation look forward continue engage national defense university year come \n",
            "\n",
            "dyncorp international di fourth annual walk day challenge brought nearly double team last year top team trek win wednesday april day speed walk glory despite incoming afghanistan participant scrap time walk busy mission fill day di hold international walk day challenge remind employee importance take walk di walker texas virginia california alabama egypt india qatar afghanistan eagerly anticipate team result congratulation walk challenge winner unstoppables di business service bangalore india thank participant check dis walk day challenge flickr page look picture walker \n",
            "\n",
            "Processed 11 lines.\n"
          ],
          "name": "stdout"
        }
      ]
    },
    {
      "cell_type": "markdown",
      "metadata": {
        "id": "lxteo5GfvFXm",
        "colab_type": "text"
      },
      "source": [
        "## Private Data"
      ]
    },
    {
      "cell_type": "code",
      "metadata": {
        "id": "2lk3krsBpNG3",
        "colab_type": "code",
        "colab": {
          "base_uri": "https://localhost:8080/",
          "height": 394
        },
        "outputId": "98a17b6d-46be-4d83-bb95-3f3d9b223f74"
      },
      "source": [
        "with open('/content/drive/My Drive/Data/Private_Sample.csv') as csv_file:\n",
        "    csv_reader = csv.reader(csv_file, delimiter=',')\n",
        "    line_count = 0\n",
        "    for row in csv_reader:\n",
        "        if line_count == 0:\n",
        "            line_count += 1\n",
        "        else:\n",
        "            print(f'{row[0]}', '\\n')\n",
        "            line_count += 1\n",
        "    print(f'Processed {line_count} lines.')"
      ],
      "execution_count": 27,
      "outputs": [
        {
          "output_type": "stream",
          "text": [
            "confirm usf mnd significant action mnc mnd event department state convoy held iraqi police nov op \n",
            "\n",
            "joint defense operation center receive report four vehicle personal security detail enter entry control point iz first three vehicle make iz principle fourth vehicle stop ia claim personal security detail take picture entry control point iraqi captain assault personal security detail escalation force ia dispatch quick reaction force entry control point cause ia bring ia soldier total four five personal security detail member vehicle arrest assault arrest weapon confiscate iz ip x x x four personal security detail member take forward operating base honor \n",
            "\n",
            "c small arm fire attack contractor set convoy six vehicle transport personnel five iraqi set member wound action one vehicle injurexplosive device eddy transportexplosive device eddy camp cook update total five iraqi set member woundexplosive device eddy one woundexplosive device eddy friendly fire friendly force friendly force two woundexplosive device eddy vehicle woundexplosive device eddy medical evacuation explosive device eddy mexplosive device eddyical treatment one vehicle abandonexplosive device eddy destroyexplosive device eddy four enemy aif woundexplosive device eddy see loadexplosive device eddy take away white pickup truck \n",
            "\n",
            "c small arm fire attack contractor set convoy x transport personnel x aif drive red fire several shot hand gun set return fire unknown result injury report convoy continued mission \n",
            "\n",
            "personal security detail travel north along mandatory supervise release attack small arm fire approximately x aif west side mandatory supervise release kilometer south southern entrance bypass aif continued attack vehicle x civilian vehicle patrol personal security detail report x civilian injury injuryured sustain x gunshot wound hand x grazing wound individual air evacuate medical reason forward operating base \n",
            "\n",
            "small arm fire improvised explosive device contractor set convoy two vehicle vicinity plant injury damage \n",
            "\n",
            "follow incident report intelligence section today relayed tactical operation center c nov involve personal security detail coordinate tracked tactical operation center follow report report shark personal security detail team leader date time incident c nov incident location baghdad type mission personal security detail tactical convoy operation number vehicle type vehicle x armored x fully armored suburban x soft skin incident type escalation force summary travel iz prison vicinity personal security detail become temporarily halt negotiate intersection well dark green one x local national male occupant one x local national female occupant approach convoy rear vehicle observe approach convoy high rate speed well procedure employ non lethal measure attempt stop vehicle observe dark green fail stop well vehicle three x mm round strike vehicle engine compartment front grille distance vehicle convoy engage meter vehicle immediately stop injury occupant car personal security detail team member battle damage assessment one x local national vehicle damage additional comment non lethal mean use system use verbal warn arm signal convoy belong bureau international narcotic law enforcement affair contract provide int police liaison officer iraqi work closely mnf civilian police assistance training team provide security report directly briefed one vehicle sent back check vehicle escalation force observe injury occupant local national vehicle mnc local nationalo tactical operation center \n",
            "\n",
            "mnd significant action mnd event unit ia j ia confirm escalation force nov initial report ia traffic control point grid report grey grey bridge shot white kill man inside ia receive body sent hospital sent ground patrol hospital confirm local national kill action mnd chop confirms tactical operation center vicinity bridge traffic control point mnd chop confirms aegis near traffic control point mnd record friendly force force icon friendly force force vicinityinity incident time period report vehicle match description leave enter time period update tactical operation center report shark personal security detail team leader incident location baghdad type mission personal security detail tactical convoy operation number vehicle type vehicle x armored x fully armored suburban x soft skin incident type escalation force travel iz prison vicinity personal security detail become temporarily halt negotiate intelligenceersection well white one x local national male occupant approach convoy rear vehicle observe overtake vehicle stop respect convoy well procedure employ non lethal mean attempt stop vehicle observe white fail stop well vehicle three x millimeter round distance vehicle convoy engage meter vehicle imillimeterediately stop injury occupant car personal security detail team member battle damage assessment one x local national vehicle damage additional comillimeterents convoy belong bureau intelligenceernational narcotic law enforcement affair contract provide intelligence police liaison officer iraqi work closely mnf civilian police assistance training team provide security report directly briefed one vehicle sent back check vehicle escalation force observe injury occupant local national vehicle update event nov name local national kill escalation force drive nov report atmospherics hospital show sign toward coalition force sumillimeterary x escalation force x local national kill action x battle damage assessment close \n",
            "\n",
            "c mar element field artillery support personal security detail mission conjunction escalation force patrol element rear security element convoy convoy security halt due potential improvised explosive device cordoned coalition force black information approach rear high rate speed proper escalation force protective measure show sign stop x round hood enter convoye bubble stop convoy commander instruct convoy continue mission cross flow traffic beyond potential improvised explosive device cordon injury damage coalition force soldier equipment significant action \n",
            "\n",
            "group personal security detail group personal security detail escort correction personnel unknown local national vehicle one male occupant approach rear trail personal security detail vehicle personal security detail initiate escalation force employ non lethal mean signal vehicle pull slow personal security detail vehicle approach second time employ non lethal mean communicate instruction driver vehicle approach third time personal security detail fire two x mm round vehicle strike grille passenger side front windshield battle damage assessment one x local national vehicle damage additional comment non lethal mean use unknown nationality personal security detail member involve incident report iraqi national personal security detail belong bureau international narcotic law enforcement affair contract group provide int police liaison officer iraqi work closely mnf civilian police assistance training team provide security report directly detail become available military treatment facility \n",
            "\n",
            "Processed 11 lines.\n"
          ],
          "name": "stdout"
        }
      ]
    },
    {
      "cell_type": "code",
      "metadata": {
        "id": "Sn2wUqJEvIe9",
        "colab_type": "code",
        "colab": {}
      },
      "source": [
        ""
      ],
      "execution_count": 0,
      "outputs": []
    }
  ]
}