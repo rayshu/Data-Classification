{
  "nbformat": 4,
  "nbformat_minor": 0,
  "metadata": {
    "colab": {
      "name": "IraqWar.ipynb",
      "provenance": [],
      "collapsed_sections": [],
      "authorship_tag": "ABX9TyMOlKoNqwMO0s4o+YF8oWrQ",
      "include_colab_link": true
    },
    "kernelspec": {
      "name": "python3",
      "display_name": "Python 3"
    }
  },
  "cells": [
    {
      "cell_type": "markdown",
      "metadata": {
        "id": "view-in-github",
        "colab_type": "text"
      },
      "source": [
        "<a href=\"https://colab.research.google.com/github/rayshu/Data-Classification/blob/master/IraqWar.ipynb\" target=\"_parent\"><img src=\"https://colab.research.google.com/assets/colab-badge.svg\" alt=\"Open In Colab\"/></a>"
      ]
    },
    {
      "cell_type": "code",
      "metadata": {
        "id": "H1brz9Rt1qa3",
        "colab_type": "code",
        "outputId": "0a670d99-df21-42f1-87c0-b434b69d06d2",
        "colab": {
          "base_uri": "https://localhost:8080/",
          "height": 122
        }
      },
      "source": [
        "from google.colab import drive\n",
        "drive.mount('/content/drive')"
      ],
      "execution_count": 0,
      "outputs": [
        {
          "output_type": "stream",
          "text": [
            "Go to this URL in a browser: https://accounts.google.com/o/oauth2/auth?client_id=947318989803-6bn6qk8qdgf4n4g3pfee6491hc0brc4i.apps.googleusercontent.com&redirect_uri=urn%3aietf%3awg%3aoauth%3a2.0%3aoob&response_type=code&scope=email%20https%3a%2f%2fwww.googleapis.com%2fauth%2fdocs.test%20https%3a%2f%2fwww.googleapis.com%2fauth%2fdrive%20https%3a%2f%2fwww.googleapis.com%2fauth%2fdrive.photos.readonly%20https%3a%2f%2fwww.googleapis.com%2fauth%2fpeopleapi.readonly\n",
            "\n",
            "Enter your authorization code:\n",
            "··········\n",
            "Mounted at /content/drive\n"
          ],
          "name": "stdout"
        }
      ]
    },
    {
      "cell_type": "markdown",
      "metadata": {
        "id": "2ZN1GnGH2ZvR",
        "colab_type": "text"
      },
      "source": [
        "# import packages"
      ]
    },
    {
      "cell_type": "code",
      "metadata": {
        "id": "DklO98Ae17XS",
        "colab_type": "code",
        "colab": {}
      },
      "source": [
        "import pandas as pd\n",
        "import numpy as np\n",
        "from sklearn.feature_extraction.text import TfidfVectorizer\n",
        "from sklearn import model_selection, svm\n",
        "from sklearn.metrics import accuracy_score\n",
        "import matplotlib.pyplot as plt\n",
        "import seaborn as sns\n",
        "# from sklearn.feature_selection import chi2\n",
        "from sklearn.metrics import confusion_matrix\n",
        "from sklearn.ensemble import RandomForestClassifier\n",
        "from sklearn.linear_model import LogisticRegression\n",
        "from sklearn.naive_bayes import MultinomialNB\n",
        "from sklearn.svm import LinearSVC\n",
        "from sklearn.model_selection import cross_val_score"
      ],
      "execution_count": 0,
      "outputs": []
    },
    {
      "cell_type": "code",
      "metadata": {
        "id": "w5tc-1I32q7u",
        "colab_type": "code",
        "colab": {}
      },
      "source": [
        "df = pd.read_csv(\"/content/drive/My Drive/Data/iraqClean.csv\")\n",
        "np.random.seed(1000)"
      ],
      "execution_count": 0,
      "outputs": []
    },
    {
      "cell_type": "code",
      "metadata": {
        "id": "c43YYfBd3OjF",
        "colab_type": "code",
        "outputId": "b4dff28d-699c-4594-b2b8-1835e7bb53d6",
        "colab": {
          "base_uri": "https://localhost:8080/",
          "height": 419
        }
      },
      "source": [
        "df_ent = df.loc[(df['DocType']==\"Public\") | (df[\"DocType\"]==\"Private\"),:]\n",
        "df_ent.loc[:,'DocType_id'] = df_ent['DocType'].map({\"Public\":0, \"Private\":1})\n",
        "df_ent"
      ],
      "execution_count": 0,
      "outputs": [
        {
          "output_type": "execute_result",
          "data": {
            "text/html": [
              "<div>\n",
              "<style scoped>\n",
              "    .dataframe tbody tr th:only-of-type {\n",
              "        vertical-align: middle;\n",
              "    }\n",
              "\n",
              "    .dataframe tbody tr th {\n",
              "        vertical-align: top;\n",
              "    }\n",
              "\n",
              "    .dataframe thead th {\n",
              "        text-align: right;\n",
              "    }\n",
              "</style>\n",
              "<table border=\"1\" class=\"dataframe\">\n",
              "  <thead>\n",
              "    <tr style=\"text-align: right;\">\n",
              "      <th></th>\n",
              "      <th>Text</th>\n",
              "      <th>DocType</th>\n",
              "      <th>DocType_id</th>\n",
              "    </tr>\n",
              "  </thead>\n",
              "  <tbody>\n",
              "    <tr>\n",
              "      <th>0</th>\n",
              "      <td>wednesday january commissioner aaron demerson ...</td>\n",
              "      <td>Public</td>\n",
              "      <td>0</td>\n",
              "    </tr>\n",
              "    <tr>\n",
              "      <th>1</th>\n",
              "      <td>april dyncorp international di team patuxent r...</td>\n",
              "      <td>Public</td>\n",
              "      <td>0</td>\n",
              "    </tr>\n",
              "    <tr>\n",
              "      <th>2</th>\n",
              "      <td>navigate various permission license operate fo...</td>\n",
              "      <td>Public</td>\n",
              "      <td>0</td>\n",
              "    </tr>\n",
              "    <tr>\n",
              "      <th>3</th>\n",
              "      <td>naval test wing pacific ntwp program point mug...</td>\n",
              "      <td>Public</td>\n",
              "      <td>0</td>\n",
              "    </tr>\n",
              "    <tr>\n",
              "      <th>4</th>\n",
              "      <td>last decade tragedy assistance program survivo...</td>\n",
              "      <td>Public</td>\n",
              "      <td>0</td>\n",
              "    </tr>\n",
              "    <tr>\n",
              "      <th>...</th>\n",
              "      <td>...</td>\n",
              "      <td>...</td>\n",
              "      <td>...</td>\n",
              "    </tr>\n",
              "    <tr>\n",
              "      <th>1356</th>\n",
              "      <td>final report engineering feb found weapon engi...</td>\n",
              "      <td>Private</td>\n",
              "      <td>1</td>\n",
              "    </tr>\n",
              "    <tr>\n",
              "      <th>1357</th>\n",
              "      <td>cavalry number denotes specific regiment ia fe...</td>\n",
              "      <td>Private</td>\n",
              "      <td>1</td>\n",
              "    </tr>\n",
              "    <tr>\n",
              "      <th>1358</th>\n",
              "      <td>nation report mnd event unit ia event type une...</td>\n",
              "      <td>Private</td>\n",
              "      <td>1</td>\n",
              "    </tr>\n",
              "    <tr>\n",
              "      <th>1359</th>\n",
              "      <td>mnd event unit event type weapon cache feb ass...</td>\n",
              "      <td>Private</td>\n",
              "      <td>1</td>\n",
              "    </tr>\n",
              "    <tr>\n",
              "      <th>1360</th>\n",
              "      <td>late report engineering en report spot appear ...</td>\n",
              "      <td>Private</td>\n",
              "      <td>1</td>\n",
              "    </tr>\n",
              "  </tbody>\n",
              "</table>\n",
              "<p>1361 rows × 3 columns</p>\n",
              "</div>"
            ],
            "text/plain": [
              "                                                   Text  DocType  DocType_id\n",
              "0     wednesday january commissioner aaron demerson ...   Public           0\n",
              "1     april dyncorp international di team patuxent r...   Public           0\n",
              "2     navigate various permission license operate fo...   Public           0\n",
              "3     naval test wing pacific ntwp program point mug...   Public           0\n",
              "4     last decade tragedy assistance program survivo...   Public           0\n",
              "...                                                 ...      ...         ...\n",
              "1356  final report engineering feb found weapon engi...  Private           1\n",
              "1357  cavalry number denotes specific regiment ia fe...  Private           1\n",
              "1358  nation report mnd event unit ia event type une...  Private           1\n",
              "1359  mnd event unit event type weapon cache feb ass...  Private           1\n",
              "1360  late report engineering en report spot appear ...  Private           1\n",
              "\n",
              "[1361 rows x 3 columns]"
            ]
          },
          "metadata": {
            "tags": []
          },
          "execution_count": 36
        }
      ]
    },
    {
      "cell_type": "markdown",
      "metadata": {
        "id": "V9HfNn3v5vBz",
        "colab_type": "text"
      },
      "source": [
        "# Data Distribution"
      ]
    },
    {
      "cell_type": "code",
      "metadata": {
        "id": "4ywdp-6G3YM5",
        "colab_type": "code",
        "outputId": "e2fe8d60-ed01-41bb-ef69-0d147914baf3",
        "colab": {
          "base_uri": "https://localhost:8080/",
          "height": 429
        }
      },
      "source": [
        "fig = plt.figure(figsize=(8,6))\n",
        "graph = df_ent.groupby('DocType').Text.count().plot.bar(ylim=0)\n",
        "\n",
        "for p in graph.patches:\n",
        "        graph.annotate('{:.0f}'.format(p.get_height()), (p.get_x()+0.3, p.get_height()))\n",
        "graph.set_title('Data distribution') \n",
        "plt.show()"
      ],
      "execution_count": 0,
      "outputs": [
        {
          "output_type": "display_data",
          "data": {
            "image/png": "[encoded data removed]",
            "text/plain": [
              "<Figure size 576x432 with 1 Axes>"
            ]
          },
          "metadata": {
            "tags": []
          }
        }
      ]
    },
    {
      "cell_type": "markdown",
      "metadata": {
        "id": "06U_fztn3rmD",
        "colab_type": "text"
      },
      "source": [
        "## Train Test Split"
      ]
    },
    {
      "cell_type": "code",
      "metadata": {
        "id": "jazccJbt3nMP",
        "colab_type": "code",
        "outputId": "04ddcfc9-2945-4992-f7dc-cbef2b8f12da",
        "colab": {
          "base_uri": "https://localhost:8080/",
          "height": 51
        }
      },
      "source": [
        "Train_X, Test_X, Train_Y, Test_Y = model_selection.train_test_split(df_ent['Text'],\n",
        "                                                                    df_ent['DocType'],test_size=0.2)\n",
        "print('Train Size: ', Train_X.shape[0])\n",
        "print('Test Size : ', Test_X.shape[0])"
      ],
      "execution_count": 0,
      "outputs": [
        {
          "output_type": "stream",
          "text": [
            "Train Size:  1088\n",
            "Test Size :  273\n"
          ],
          "name": "stdout"
        }
      ]
    },
    {
      "cell_type": "code",
      "metadata": {
        "id": "1NebGNHlS2m5",
        "colab_type": "code",
        "outputId": "e916b1d8-78fc-4b21-ddf2-f8fd3535362b",
        "colab": {
          "base_uri": "https://localhost:8080/",
          "height": 187
        }
      },
      "source": [
        "Train_counts = pd.DataFrame(Train_Y.values, columns = list('a'))\n",
        "print('Train Data Distribution')\n",
        "print(Train_counts['a'].value_counts())\n",
        "\n",
        "Test_counts = pd.DataFrame(Test_Y.values, columns = list('a'))\n",
        "print('\\n\\nTest Data Distribution')\n",
        "print(Test_counts['a'].value_counts())"
      ],
      "execution_count": 0,
      "outputs": [
        {
          "output_type": "stream",
          "text": [
            "Train Data Distribution\n",
            "Private    773\n",
            "Public     315\n",
            "Name: a, dtype: int64\n",
            "\n",
            "\n",
            "Test Data Distribution\n",
            "Private    204\n",
            "Public      69\n",
            "Name: a, dtype: int64\n"
          ],
          "name": "stdout"
        }
      ]
    },
    {
      "cell_type": "markdown",
      "metadata": {
        "id": "R9yropiDfwDC",
        "colab_type": "text"
      },
      "source": [
        "# Text Representation"
      ]
    },
    {
      "cell_type": "markdown",
      "metadata": {
        "id": "8HM38dWJ303s",
        "colab_type": "text"
      },
      "source": [
        "## tf-idf Vectors"
      ]
    },
    {
      "cell_type": "code",
      "metadata": {
        "id": "EaogZgs48rPl",
        "colab_type": "code",
        "colab": {}
      },
      "source": [
        "doctype_id_df = pd.DataFrame({'DocType':[\"Public\", \"Private\"], 'doctype_id': [0, 1]} ) "
      ],
      "execution_count": 0,
      "outputs": []
    },
    {
      "cell_type": "code",
      "metadata": {
        "id": "eu31q-kC3uEN",
        "colab_type": "code",
        "outputId": "4079c02e-c1d7-41bf-fb24-8d1aa60665e8",
        "colab": {
          "base_uri": "https://localhost:8080/",
          "height": 34
        }
      },
      "source": [
        "Tfidf_vect = TfidfVectorizer(ngram_range=(1,2))\n",
        "#Learn the vocabulary\n",
        "Tfidf_vect.fit(df_ent['Text'])\n",
        "print(\"No. of Features:\", Train_X_Tfidf.shape[1])\n",
        "Train_X_Tfidf = Tfidf_vect.transform(Train_X)\n",
        "# print(\"Train Data (Text, Features):\", Train_X_Tfidf.shape)\n",
        "Test_X_Tfidf = Tfidf_vect.transform(Test_X)\n",
        "# print(\"Test Data (Text, Features):\", Test_X_Tfidf.shape)\n"
      ],
      "execution_count": 51,
      "outputs": [
        {
          "output_type": "stream",
          "text": [
            "No. of Features: 80638\n"
          ],
          "name": "stdout"
        }
      ]
    },
    {
      "cell_type": "markdown",
      "metadata": {
        "id": "EVzTKhHwpbKA",
        "colab_type": "text"
      },
      "source": [
        "### Top tf-idf features"
      ]
    },
    {
      "cell_type": "code",
      "metadata": {
        "id": "g5yoa5Xjparz",
        "colab_type": "code",
        "outputId": "4128cb8d-5aeb-4eef-ec1e-71dbdb8d7184",
        "colab": {
          "base_uri": "https://localhost:8080/",
          "height": 51
        }
      },
      "source": [
        "df_public = df_ent.loc[df_ent[\"DocType\"]==\"Public\",:]\n",
        "df_private = df_ent.loc[df_ent[\"DocType\"]==\"Private\"]\n",
        "features_public = Tfidf_vect.fit_transform(df_public.Text)\n",
        "features_private = Tfidf_vect.fit_transform(df_private.Text)\n",
        "labels_public = df_public.DocType_id\n",
        "labels_private = df_private.DocType_id\n",
        "print(\"Features for public train data\", features_public.shape)\n",
        "print(\"Features for private train data\", features_private.shape)"
      ],
      "execution_count": 0,
      "outputs": [
        {
          "output_type": "stream",
          "text": [
            "Features for public train data (384, 50194)\n",
            "Features for private train data (977, 32668)\n"
          ],
          "name": "stdout"
        }
      ]
    },
    {
      "cell_type": "code",
      "metadata": {
        "id": "y9bO7AjPqzUZ",
        "colab_type": "code",
        "outputId": "f0a2152a-c848-4003-8fc2-f7d014d0e5cb",
        "colab": {
          "base_uri": "https://localhost:8080/",
          "height": 374
        }
      },
      "source": [
        "N = 20\n",
        "\n",
        "#Public data\n",
        "features_public = Tfidf_vect.fit_transform(df_public.Text)\n",
        "feature_names = np.array(Tfidf_vect.get_feature_names())\n",
        "tfidf_sorting = np.argsort(features_public.toarray()).flatten()[::-1]\n",
        "top_public = feature_names[tfidf_sorting][:N]\n",
        "# print(Tfidf_vect.vocabulary_)\n",
        "print('# Public')\n",
        "print(\". {}\".format('\\n. '.join(top_public)))\n"
      ],
      "execution_count": 0,
      "outputs": [
        {
          "output_type": "stream",
          "text": [
            "# Public\n",
            ". grow\n",
            ". list\n",
            ". washington business\n",
            ". business journal\n",
            ". continue grow\n",
            ". growth\n",
            ". teamwork\n",
            ". company\n",
            ". journal\n",
            ". deal\n",
            ". high\n",
            ". rank\n",
            ". washington\n",
            ". region\n",
            ". impressive company\n",
            ". company show\n",
            ". high percentage\n",
            ". make membership\n",
            ". teamwork continue\n",
            ". number large\n"
          ],
          "name": "stdout"
        }
      ]
    },
    {
      "cell_type": "code",
      "metadata": {
        "id": "8EQ1QTmw8PGn",
        "colab_type": "code",
        "outputId": "c77a7fd0-90fc-4406-9330-c8707f518239",
        "colab": {
          "base_uri": "https://localhost:8080/",
          "height": 391
        }
      },
      "source": [
        "#Private data\n",
        "features_private = Tfidf_vect.fit_transform(df_private.Text)\n",
        "feature_names = np.array(Tfidf_vect.get_feature_names())\n",
        "tfidf_sorting = np.argsort(features_private.toarray()).flatten()[::-1]\n",
        "top_private = feature_names[tfidf_sorting][:N]\n",
        "# print(Tfidf_vect.vocabulary_)\n",
        "# features_private_dict = {'Features':Tfidf_vect.vocabulary_.keys(), 'Values': Tfidf_vect.vocabulary_.values()} \n",
        "print('\\n# Private')\n",
        "print(\". {}\".format('\\n. '.join(top_private)))\n",
        "# features_private_dict"
      ],
      "execution_count": 0,
      "outputs": [
        {
          "output_type": "stream",
          "text": [
            "\n",
            "# Private\n",
            ". dart\n",
            ". mm dart\n",
            ". mm\n",
            ". mm mortar\n",
            ". assessment mm\n",
            ". mortar mm\n",
            ". mortar\n",
            ". look left\n",
            ". movement later\n",
            ". appear mm\n",
            ". forgot spread\n",
            ". receive air\n",
            ". wood line\n",
            ". line vicinity\n",
            ". spread throughout\n",
            ". see operation\n",
            ". engineering en\n",
            ". clearance update\n",
            ". road wood\n",
            ". round look\n"
          ],
          "name": "stdout"
        }
      ]
    },
    {
      "cell_type": "markdown",
      "metadata": {
        "id": "r5ZAuEAWpYA-",
        "colab_type": "text"
      },
      "source": [
        "## Top 10 features for SVM classifier"
      ]
    },
    {
      "cell_type": "code",
      "metadata": {
        "id": "RaFVfVek33zz",
        "colab_type": "code",
        "outputId": "ab73d7a3-18ae-4d1c-8a57-827b793b4675",
        "colab": {
          "base_uri": "https://localhost:8080/",
          "height": 85
        }
      },
      "source": [
        "clf = svm.SVC(C=1.0, kernel='linear', degree=3, gamma='auto',random_state=0)\n",
        "clf.fit(Train_X_Tfidf,Train_Y)"
      ],
      "execution_count": 0,
      "outputs": [
        {
          "output_type": "execute_result",
          "data": {
            "text/plain": [
              "SVC(C=1.0, break_ties=False, cache_size=200, class_weight=None, coef0=0.0,\n",
              "    decision_function_shape='ovr', degree=3, gamma='auto', kernel='linear',\n",
              "    max_iter=-1, probability=False, random_state=0, shrinking=True, tol=0.001,\n",
              "    verbose=False)"
            ]
          },
          "metadata": {
            "tags": []
          },
          "execution_count": 45
        }
      ]
    },
    {
      "cell_type": "code",
      "metadata": {
        "id": "azujbJRO9f6o",
        "colab_type": "code",
        "outputId": "c1dd6dd2-2f12-4165-ecab-e66ee9dec0b4",
        "colab": {
          "base_uri": "https://localhost:8080/",
          "height": 502
        }
      },
      "source": [
        "N = 10\n",
        "Tfidf_vect.fit(df_ent['Text'])\n",
        "def feature_plot(classifier, feature_names, top_features=N):\n",
        " coef = classifier.coef_.toarray()[0]\n",
        " top_positive_coefficients = np.argsort(coef)[-top_features:]\n",
        " top_negative_coefficients = np.argsort(coef)[:top_features]\n",
        " top_coefficients = np.hstack([top_negative_coefficients, top_positive_coefficients])\n",
        " plt.figure(figsize=(7, 7))\n",
        " colors = ['green' if c < 0 else 'blue' for c in coef[top_coefficients]]\n",
        " plt.bar(np.arange(2 * top_features), coef[top_coefficients], color=colors)\n",
        " feature_names = np.array(feature_names)\n",
        " plt.xticks(np.arange(1 + 2 * top_features), feature_names[top_coefficients], rotation=45, ha='right')\n",
        " plt.show()\n",
        "\n",
        "#  print(\"Most corelated terms: \\n. {}\".format('\\n'.join(feature_names[top_coefficients])))\n",
        "#  unigrams = [v for v in feature_names[top_coefficients] if len(v.split(' ')) == 1]\n",
        "#  bigrams = [v for v in feature_names[top_coefficients] if len(v.split(' ')) == 2]\n",
        "#  print(\"Most correlated unigrams:\\n. {}\".format('\\n. '.join(unigrams[:N])))\n",
        "#  print(\"Most correlated bigrams:\\n. {}\".format('\\n. '.join(bigrams[-N:])))\n",
        "\n",
        "feature_plot(clf, Tfidf_vect.get_feature_names())\n"
      ],
      "execution_count": 0,
      "outputs": [
        {
          "output_type": "display_data",
          "data": {
            "image/png": "[encoded data removed]",
            "text/plain": [
              "<Figure size 504x504 with 1 Axes>"
            ]
          },
          "metadata": {
            "tags": []
          }
        }
      ]
    },
    {
      "cell_type": "markdown",
      "metadata": {
        "id": "OuCUg777D0k0",
        "colab_type": "text"
      },
      "source": [
        "# Model Selection"
      ]
    },
    {
      "cell_type": "code",
      "metadata": {
        "id": "1YTT4X2JC-IE",
        "colab_type": "code",
        "outputId": "56392aea-26ea-491e-926f-0f420892aefe",
        "colab": {
          "base_uri": "https://localhost:8080/",
          "height": 280
        }
      },
      "source": [
        "models = [\n",
        "    RandomForestClassifier(n_estimators=200, max_depth=3, random_state=0),\n",
        "    # LinearSVC(),\n",
        "    svm.SVC(C=1.0, kernel='linear', degree=3, gamma='auto',random_state=0),\n",
        "    MultinomialNB(),\n",
        "    LogisticRegression(random_state=0),\n",
        "]\n",
        "CV = 5\n",
        "cv_df = pd.DataFrame(index=range(CV * len(models)))\n",
        "entries = []\n",
        "for model in models:\n",
        "    model_name = model.__class__.__name__\n",
        "    accuracies = cross_val_score(model, Train_X_Tfidf, Train_Y, scoring='accuracy', cv=CV)\n",
        "    for fold_idx, accuracy in enumerate(accuracies):\n",
        "        entries.append((model_name, fold_idx, accuracy))\n",
        "cv_df = pd.DataFrame(entries, columns=['model_name', 'fold_idx', 'accuracy'])\n",
        "import seaborn as sns\n",
        "sns.boxplot(x='model_name', y='accuracy', data=cv_df)\n",
        "sns.stripplot(x='model_name', y='accuracy', data=cv_df, \n",
        "              size=8, jitter=True, edgecolor=\"gray\", linewidth=2)\n",
        "plt.show()"
      ],
      "execution_count": 0,
      "outputs": [
        {
          "output_type": "display_data",
          "data": {
            "image/png": "[encoded data removed]",
            "text/plain": [
              "<Figure size 432x288 with 1 Axes>"
            ]
          },
          "metadata": {
            "tags": []
          }
        }
      ]
    },
    {
      "cell_type": "code",
      "metadata": {
        "id": "Yn-c8mNYD30u",
        "colab_type": "code",
        "outputId": "5043161d-5d02-4fbb-c457-59b59a4995c5",
        "colab": {
          "base_uri": "https://localhost:8080/",
          "height": 119
        }
      },
      "source": [
        "cv_df.groupby('model_name').accuracy.mean()"
      ],
      "execution_count": 0,
      "outputs": [
        {
          "output_type": "execute_result",
          "data": {
            "text/plain": [
              "model_name\n",
              "LogisticRegression        1.000000\n",
              "MultinomialNB             0.998165\n",
              "RandomForestClassifier    0.862127\n",
              "SVC                       1.000000\n",
              "Name: accuracy, dtype: float64"
            ]
          },
          "metadata": {
            "tags": []
          },
          "execution_count": 48
        }
      ]
    },
    {
      "cell_type": "markdown",
      "metadata": {
        "id": "2zuJ5l7rEB9D",
        "colab_type": "text"
      },
      "source": [
        "## Model Evaluation"
      ]
    },
    {
      "cell_type": "code",
      "metadata": {
        "id": "suPNGgYpDcCM",
        "colab_type": "code",
        "outputId": "9ba42a91-a504-4082-e9ac-b150453544ed",
        "colab": {
          "base_uri": "https://localhost:8080/",
          "height": 1000
        }
      },
      "source": [
        "for model in models:   \n",
        "    model_name = model.__class__.__name__\n",
        "    model.fit(Train_X_Tfidf,Train_Y)\n",
        "    predictions = model.predict(Test_X_Tfidf)\n",
        "    conf_mat = confusion_matrix(Test_Y, predictions)\n",
        "    \n",
        "    print(model_name, '\\n', conf_mat)\n",
        "    fig, ax = plt.subplots(figsize=(5,5))\n",
        "    sns.heatmap(conf_mat, annot=True, fmt='d',\n",
        "            xticklabels=doctype_id_df.DocType.values, yticklabels=doctype_id_df.DocType.values)\n",
        "    plt.title(model_name)\n",
        "    plt.ylabel('Actual')\n",
        "    plt.xlabel('Predicted')"
      ],
      "execution_count": 52,
      "outputs": [
        {
          "output_type": "stream",
          "text": [
            "RandomForestClassifier \n",
            " [[204   0]\n",
            " [ 28  41]]\n",
            "SVC \n",
            " [[204   0]\n",
            " [  1  68]]\n",
            "MultinomialNB \n",
            " [[204   0]\n",
            " [  1  68]]\n",
            "LogisticRegression \n",
            " [[204   0]\n",
            " [  1  68]]\n"
          ],
          "name": "stdout"
        },
        {
          "output_type": "display_data",
          "data": {
            "image/png": "[encoded data removed]",
            "text/plain": [
              "<Figure size 360x360 with 2 Axes>"
            ]
          },
          "metadata": {
            "tags": []
          }
        },
        {
          "output_type": "display_data",
          "data": {
            "image/png": "[encoded data removed]",
            "text/plain": [
              "<Figure size 360x360 with 2 Axes>"
            ]
          },
          "metadata": {
            "tags": []
          }
        },
        {
          "output_type": "display_data",
          "data": {
            "image/png": "[encoded data removed]",
            "text/plain": [
              "<Figure size 360x360 with 2 Axes>"
            ]
          },
          "metadata": {
            "tags": []
          }
        },
        {
          "output_type": "display_data",
          "data": {
            "image/png": "[encoded data removed]",
            "text/plain": [
              "<Figure size 360x360 with 2 Axes>"
            ]
          },
          "metadata": {
            "tags": []
          }
        }
      ]
    },
    {
      "cell_type": "code",
      "metadata": {
        "id": "IngPC2oAr-QW",
        "colab_type": "code",
        "colab": {}
      },
      "source": [
        ""
      ],
      "execution_count": 0,
      "outputs": []
    }
  ]
}