{
  "nbformat": 4,
  "nbformat_minor": 0,
  "metadata": {
    "colab": {
      "name": "baseline_classifier.ipynb",
      "provenance": [],
      "collapsed_sections": [],
      "mount_file_id": "1md3RC3bFLAyDyz2QpJmFfwDgXJ3n96TP",
      "authorship_tag": "ABX9TyM1R/UiJd3SK6h3DB00goNo",
      "include_colab_link": true
    },
    "kernelspec": {
      "name": "python3",
      "display_name": "Python 3"
    }
  },
  "cells": [
    {
      "cell_type": "markdown",
      "metadata": {
        "id": "view-in-github",
        "colab_type": "text"
      },
      "source": [
        "<a href=\"https://colab.research.google.com/github/rayshu/Data-Classification/blob/master/baseline_classifier.ipynb\" target=\"_parent\"><img src=\"https://colab.research.google.com/assets/colab-badge.svg\" alt=\"Open In Colab\"/></a>"
      ]
    },
    {
      "cell_type": "code",
      "metadata": {
        "id": "izZWRyLKE6V4",
        "colab_type": "code",
        "colab": {
          "base_uri": "https://localhost:8080/",
          "height": 74
        },
        "outputId": "9473040a-e4a9-47f3-b856-f401599e3b54"
      },
      "source": [
        "import pandas as pd\n",
        "import numpy as np\n",
        "\n",
        "import matplotlib.pyplot as plt\n",
        "import seaborn as sns\n",
        "\n",
        "from sklearn.feature_extraction.text import TfidfVectorizer\n",
        "from sklearn.feature_extraction.text import CountVectorizer\n",
        "\n",
        "from sklearn.model_selection import train_test_split, GridSearchCV\n",
        "\n",
        "from sklearn import svm\n",
        "from sklearn.ensemble import RandomForestClassifier\n",
        "from sklearn.linear_model import LogisticRegression\n",
        "from sklearn.naive_bayes import MultinomialNB\n",
        "\n",
        "from sklearn.model_selection import cross_val_score\n",
        "from sklearn.metrics import confusion_matrix\n",
        "\n",
        "import pickle\n",
        "\n",
        "import os\n",
        "\n",
        "import warnings\n",
        "warnings.filterwarnings(\"ignore\")"
      ],
      "execution_count": 1,
      "outputs": [
        {
          "output_type": "stream",
          "text": [
            "/usr/local/lib/python3.6/dist-packages/statsmodels/tools/_testing.py:19: FutureWarning: pandas.util.testing is deprecated. Use the functions in the public API at pandas.testing instead.\n",
            "  import pandas.util.testing as tm\n"
          ],
          "name": "stderr"
        }
      ]
    },
    {
      "cell_type": "code",
      "metadata": {
        "id": "RzzH0rq8FGyG",
        "colab_type": "code",
        "colab": {}
      },
      "source": [
        "# data_path = os.path.join('D:\\\\Sensitive Data Detection\\\\data')\n",
        "data_path=os.path.join('/content/drive/My Drive/Data')\n",
        "\n",
        "congress_path = os.path.join(data_path, 'congress')\n",
        "sony_path = os.path.join(data_path, 'sony')\n",
        "iraq_path = os.path.join(data_path, 'iraq')"
      ],
      "execution_count": 0,
      "outputs": []
    },
    {
      "cell_type": "code",
      "metadata": {
        "id": "dzM_EA4NFlQc",
        "colab_type": "code",
        "colab": {}
      },
      "source": [
        "#function to load data\n",
        "def load_data(path, train=1):\n",
        "  print('Loading Data...')\n",
        "  df_train = pd.read_csv(os.path.join(path, 'train.csv'))\n",
        "  df_test = pd.read_csv(os.path.join(path, 'test.csv'))\n",
        "  if train == 1:\n",
        "    return df_train\n",
        "  else:\n",
        "    return df_test"
      ],
      "execution_count": 0,
      "outputs": []
    },
    {
      "cell_type": "code",
      "metadata": {
        "id": "jeLL1_NDOet0",
        "colab_type": "code",
        "colab": {}
      },
      "source": [
        "def train_test(df):\n",
        "  print('=================================================')\n",
        "  print('Spliting data into training and validation set...')\n",
        "  fig = plt.figure(figsize=(8,6))\n",
        "  graph = df.groupby('DocType').Text.count().plot.bar(ylim=0)\n",
        "    \n",
        "  for p in graph.patches:\n",
        "    graph.annotate('{:.0f}'.format(p.get_height()), (p.get_x()+0.3, p.get_height()))\n",
        "  graph.set_title('Data Distribution') \n",
        "  plt.show();\n",
        "    \n",
        "  Train_X, Test_X, Train_Y, Test_Y = train_test_split(df['Text'],df['DocType'],test_size=0.2)\n",
        "  print('Size of Training data: ', Train_X.shape[0])\n",
        "  print('Size of Validation data :  ', Test_X.shape[0])\n",
        "    \n",
        "  Train_counts = pd.DataFrame(Train_Y.values, columns = list('a'))\n",
        "  print('\\nTrain Data Distribution')\n",
        "  print(Train_counts['a'].value_counts())\n",
        "\n",
        "  Test_counts = pd.DataFrame(Test_Y.values, columns = list('a'))\n",
        "  print('\\n\\nValidation Data Distribution')\n",
        "  print(Test_counts['a'].value_counts())\n",
        "    \n",
        "  return Train_X, Test_X, Train_Y, Test_Y"
      ],
      "execution_count": 0,
      "outputs": []
    },
    {
      "cell_type": "code",
      "metadata": {
        "id": "TliouDPOOiOk",
        "colab_type": "code",
        "colab": {}
      },
      "source": [
        "def get_tfidf_features(df, Train_X, Test_X, Train_Y, Test_Y, feat=20000, N=10):\n",
        "  print('=================================================')\n",
        "  print('\\nExtracting TF-IDF Features...')\n",
        "  Tfidf_vect = TfidfVectorizer(ngram_range=(1,2), max_features=feat, min_df=5)\n",
        "    #Learn the vocabulary\n",
        "  Tfidf_vect.fit(df['Text'])\n",
        "\n",
        "  Train_X_Tfidf = Tfidf_vect.transform(Train_X)\n",
        "  print(\"Train Data (n_samples, n_features):\", Train_X_Tfidf.shape)\n",
        "  Test_X_Tfidf = Tfidf_vect.transform(Test_X)\n",
        "  print(\"Test Data (Text, Features):\", Test_X_Tfidf.shape)\n",
        "    \n",
        "    #Get top features\n",
        "  df_public = df.loc[df[\"DocType\"]==\"Public\",:]\n",
        "  df_private = df.loc[df[\"DocType\"]==\"Private\"]\n",
        "  features_public = Tfidf_vect.fit_transform(df_public.Text)\n",
        "  features_private = Tfidf_vect.fit_transform(df_private.Text)\n",
        "  labels_public = df_public.DocType\n",
        "  labels_private = df_private.DocType\n",
        "  print(\"Features for public train data\", features_public.shape)\n",
        "  print(\"Features for private train data\", features_private.shape)\n",
        "\n",
        "    #Public data\n",
        "  features_public = Tfidf_vect.fit_transform(df_public.Text)\n",
        "  feature_names = np.array(Tfidf_vect.get_feature_names())\n",
        "  tfidf_sorting = np.argsort(features_public.toarray()).flatten()[::-1]\n",
        "  top_public = feature_names[tfidf_sorting][:N]\n",
        "  print('# Public')\n",
        "  print(\". {}\".format('\\n. '.join(top_public)))\n",
        "    \n",
        "    #Private data\n",
        "  features_private = Tfidf_vect.fit_transform(df_private.Text)\n",
        "  feature_names = np.array(Tfidf_vect.get_feature_names())\n",
        "  tfidf_sorting = np.argsort(features_private.toarray()).flatten()[::-1]\n",
        "  top_private = feature_names[tfidf_sorting][:N]\n",
        "  print('\\n# Private')\n",
        "  print(\". {}\".format('\\n. '.join(top_private)))\n",
        "  return Train_X_Tfidf, Test_X_Tfidf"
      ],
      "execution_count": 0,
      "outputs": []
    },
    {
      "cell_type": "code",
      "metadata": {
        "id": "pKj_2SQBOk7g",
        "colab_type": "code",
        "colab": {}
      },
      "source": [
        "def gridSearch_RF(Train_X_Tfidf, Train_Y):\n",
        "  clf = RandomForestClassifier()\n",
        "  clf.fit(Train_X_Tfidf,Train_Y)\n",
        "  params = {\"n_estimators\": [100, 300, 1000],\n",
        "            \"criterion\": [\"gini\", \"entropy\"],\n",
        "            \"max_depth\": [3, 10],\n",
        "            \"max_features\": [1,3,10],\n",
        "            \"min_samples_split\": [3,10],\n",
        "            \"min_samples_leaf\": [1,3,10],\n",
        "         }\n",
        "  gs_clf = GridSearchCV(clf, param_grid=params, n_jobs=-1)\n",
        "  gs_clf = gs_clf.fit(Train_X_Tfidf,Train_Y)\n",
        "#     print('Best Score is: ', gs_clf.best_score_)\n",
        "    # print('Best Parameters for Random Forest Classifier:\\n', gs_clf.best_params_)\n",
        "  return gs_clf.best_params_\n",
        "\n",
        "def gridSearch_SVM(Train_X_Tfidf, Train_Y):\n",
        "  clf = svm.SVC()\n",
        "  clf.fit(Train_X_Tfidf,Train_Y)\n",
        "  params = {\"C\": [1.0, 2.0, 3.0],\n",
        "            \"kernel\": [\"linear\", \"poly\", \"rbf\", \"sigmoid\"],\n",
        "            \"degree\": [3, 10],\n",
        "            \"gamma\": ['scale', 'auto'],\n",
        "         }\n",
        "  gs_clf = GridSearchCV(clf, param_grid=params, n_jobs=-1)\n",
        "  gs_clf = gs_clf.fit(Train_X_Tfidf,Train_Y)\n",
        "    # print('Best Parameters for SVM:\\n', gs_clf.best_params_)\n",
        "  return gs_clf.best_params_\n",
        "\n",
        "def gridSearch_LR(Train_X_Tfidf, Train_Y):\n",
        "  clf = LogisticRegression()\n",
        "  clf.fit(Train_X_Tfidf,Train_Y)\n",
        "  params = {\"C\": [1.0, 2.0, 3.0],\n",
        "            \"solver\": ['liblinear', 'sag', 'saga', 'newton-cg', 'lbfgs'],\n",
        "            \"max_iter\": [100, 200, 500],\n",
        "            \"multi_class\": ['ovr',  'auto'],\n",
        "            \"penalty\": ['l1', 'l2']\n",
        "         }\n",
        "  gs_clf = GridSearchCV(clf, param_grid=params, n_jobs=-1)\n",
        "  gs_clf = gs_clf.fit(Train_X_Tfidf,Train_Y)\n",
        "    # print('Best Parameters for Logistic Regression:\\n', gs_clf.best_params_)\n",
        "  return gs_clf.best_params_"
      ],
      "execution_count": 0,
      "outputs": []
    },
    {
      "cell_type": "code",
      "metadata": {
        "id": "7OP6kpVWOoGY",
        "colab_type": "code",
        "colab": {}
      },
      "source": [
        "def model_selection(Train_X_Tfidf, Train_Y):\n",
        "  print('=================================================')\n",
        "  print('\\nHyperparameter Tuning')\n",
        "  RF_params = gridSearch_RF(Train_X_Tfidf, Train_Y)\n",
        "  SVM_params = gridSearch_SVM(Train_X_Tfidf, Train_Y)\n",
        "  LR_params = gridSearch_LR(Train_X_Tfidf, Train_Y)\n",
        "  models = [\n",
        "            MultinomialNB(),\n",
        "            \n",
        "            svm.SVC(C=SVM_params['C'], degree=SVM_params['degree'], gamma=SVM_params['gamma'],\n",
        "                    kernel=SVM_params['kernel'],random_state=0),\n",
        "            \n",
        "            LogisticRegression(C=LR_params['C'], max_iter=LR_params['max_iter'], \n",
        "                               multi_class=LR_params['multi_class'], solver=LR_params['solver'], random_state=0),\n",
        "            \n",
        "            RandomForestClassifier(criterion=RF_params['criterion'], max_depth=RF_params['max_depth'], \n",
        "                                   max_features=RF_params['max_features'], min_samples_leaf=RF_params['min_samples_leaf'],\n",
        "                                   min_samples_split=RF_params['min_samples_split'], \n",
        "                                   n_estimators=RF_params['n_estimators'], random_state=0)\n",
        "            ]\n",
        "  CV = 5\n",
        "  cv_df = pd.DataFrame(index=range(CV * len(models)))\n",
        "  entries = []\n",
        "  for model in models:\n",
        "    model_name = model.__class__.__name__\n",
        "    accuracies = cross_val_score(model, Train_X_Tfidf, Train_Y, scoring='accuracy', cv=CV)\n",
        "    for fold_idx, accuracy in enumerate(accuracies):\n",
        "      entries.append((model_name, fold_idx, accuracy))\n",
        "  cv_df = pd.DataFrame(entries, columns=['model_name', 'fold_idx', 'accuracy'])\n",
        "\n",
        "  sns.boxplot(x = 'model_name', y='accuracy', data=cv_df)\n",
        "  sns.stripplot(x = 'model_name', y='accuracy', data=cv_df, \n",
        "                size=8, jitter=True, edgecolor=\"gray\", linewidth=2)\n",
        "  plt.xticks(rotation=15)\n",
        "  plt.show()\n",
        "  return models, cv_df"
      ],
      "execution_count": 0,
      "outputs": []
    },
    {
      "cell_type": "code",
      "metadata": {
        "id": "-fI9YaTfsWdF",
        "colab_type": "code",
        "colab": {}
      },
      "source": [
        "def save_models(models, path):\n",
        "  print('=================================================')\n",
        "  print('\\nSaving models with best Parameters')\n",
        "  model_file_path = os.path.join(path, 'models', 'Multinomial_NB.pkl')\n",
        "  model_file_pickle = open(model_file_path, 'wb')\n",
        "  pickle.dump(models[0], model_file_pickle)\n",
        "  model_file_pickle.close()\n",
        "\n",
        "  model_file_path = os.path.join(path, 'models', 'SVC.pkl')\n",
        "  model_file_pickle = open(model_file_path, 'wb')\n",
        "  pickle.dump(models[1], model_file_pickle)\n",
        "  model_file_pickle.close()\n",
        "\n",
        "  model_file_path = os.path.join(path, 'models', 'Logistic_Regression.pkl')\n",
        "  model_file_pickle = open(model_file_path, 'wb')\n",
        "  pickle.dump(models[2], model_file_pickle)\n",
        "  model_file_pickle.close()\n",
        "\n",
        "  model_file_path = os.path.join(path, 'models', 'Random_Forest.pkl')\n",
        "  model_file_pickle = open(model_file_path, 'wb')\n",
        "  pickle.dump(models[3], model_file_pickle)\n",
        "  model_file_pickle.close()\n",
        "\n",
        "  print('Saved models successfully at', os.path.join(congress_path, 'models'))"
      ],
      "execution_count": 0,
      "outputs": []
    },
    {
      "cell_type": "code",
      "metadata": {
        "id": "eN0i9SyUtbqr",
        "colab_type": "code",
        "colab": {}
      },
      "source": [
        "def load_models(path):\n",
        "  print('=================================================')\n",
        "  print('\\nLoading models...')\n",
        "  model_file_path = os.path.join(path, 'models', 'Multinomial_NB.pkl')\n",
        "  model_file_pickle = open(model_file_path, 'rb')\n",
        "  NB = pickle.load(model_file_pickle)\n",
        "  model_file_pickle.close()\n",
        "\n",
        "  model_file_path = os.path.join(path, 'models', 'SVC.pkl')\n",
        "  model_file_pickle = open(model_file_path, 'rb')\n",
        "  SVM = pickle.load(model_file_pickle)\n",
        "  model_file_pickle.close()\n",
        "\n",
        "  model_file_path = os.path.join(path, 'models', 'Logistic_Regression.pkl')\n",
        "  model_file_pickle = open(model_file_path, 'rb')\n",
        "  LR = pickle.load(model_file_pickle)\n",
        "  model_file_pickle.close()\n",
        "\n",
        "  model_file_path = os.path.join(path, 'models', 'Random_Forest.pkl')\n",
        "  model_file_pickle = open(model_file_path, 'rb')\n",
        "  RF = pickle.load(model_file_pickle)\n",
        "  model_file_pickle.close()\n",
        "\n",
        "  models = [NB, SVM, LR, RF]\n",
        "  return models"
      ],
      "execution_count": 0,
      "outputs": []
    },
    {
      "cell_type": "code",
      "metadata": {
        "id": "jv_q1RfO4eat",
        "colab_type": "code",
        "colab": {}
      },
      "source": [
        "def run_algo(models, Train_X_Tfidf, Train_Y, Test_X_Tfidf, Test_Y):\n",
        "  precision_public_list = []\n",
        "  precision_private_list = []\n",
        "  recall_public_list = []\n",
        "  recall_private_list = []\n",
        "  f1_public_list = []\n",
        "  f1_private_list = []\n",
        "  accuracy_list = []\n",
        "\n",
        "  for model in models:   \n",
        "    model_name = model.__class__.__name__\n",
        "    model.fit(Train_X_Tfidf,Train_Y)\n",
        "    predictions = model.predict(Test_X_Tfidf)\n",
        "    conf_mat = confusion_matrix(Test_Y, predictions)\n",
        "      \n",
        "    print(model_name, '\\n', conf_mat)\n",
        "    fig, ax = plt.subplots(figsize=(5,5))\n",
        "    sns.heatmap(conf_mat, annot=True, fmt='d',xticklabels=False, yticklabels=False)\n",
        "    plt.title(model_name)\n",
        "    plt.xlabel(\"Predicted\\nPrivate          Public\")\n",
        "    plt.ylabel(\"Actual\\nPublic             Private\")\n",
        "    plt.show()\n",
        "      \n",
        "    True_private = conf_mat[0,0]\n",
        "    False_private = conf_mat[0,1]\n",
        "    False_public = conf_mat[1,0]\n",
        "    True_public = conf_mat[1,1]\n",
        "\n",
        "    precision_private = round((True_private) / (True_private + False_private), 2)\n",
        "    recall_private = round((True_private) / (True_private + False_public), 2)\n",
        "    f1_private = round((2 * precision_private * recall_private) / (precision_private + recall_private), 2)\n",
        "\n",
        "    precision_public = round((True_public) / (True_public + False_public), 2)\n",
        "    recall_public = round((True_public) / (True_public + False_private), 2)\n",
        "    f1_public = round((2 * precision_public * recall_public)/(precision_public + recall_public), 2)\n",
        "\n",
        "    accuracy = round((True_public + True_private) / (True_public + True_private + False_public + False_private), 2)\n",
        "\n",
        "      #writing to list\n",
        "    precision_private_list.append(precision_private)\n",
        "    recall_private_list.append(recall_private)\n",
        "    f1_private_list.append(f1_private)\n",
        "\n",
        "    precision_public_list.append(precision_public)\n",
        "    recall_public_list.append(recall_public)\n",
        "    f1_public_list.append(f1_public)\n",
        "\n",
        "    accuracy_list.append(accuracy)\n",
        "\n",
        "    dict = {\n",
        "        'Model':[\"Multinomial Naive Bayes\", \"Support Vector Classifier\", \"Logistic Regression\", \"Random Forest\"], \n",
        "        'Accuracy': accuracy_list,\n",
        "        'Precision (Public Class)': precision_public_list, \n",
        "        'Recall (Public Class)': recall_public_list,\n",
        "        'F1 Score (Public Class)': f1_public_list,\n",
        "        'Precision (Private Class)': precision_private_list,\n",
        "        'Recall (Private Class)': recall_private_list,\n",
        "        'F1 Score (Private Class)': f1_private_list\n",
        "        } \n",
        "    \n",
        "  evaluation_df = pd.DataFrame(dict) \n",
        "  return evaluation_df"
      ],
      "execution_count": 0,
      "outputs": []
    },
    {
      "cell_type": "code",
      "metadata": {
        "id": "7Aa2W6rq6zW0",
        "colab_type": "code",
        "colab": {}
      },
      "source": [
        "def predictOnUnseenData(df_test, models, path):\n",
        "  X = df_test['Text']\n",
        "  Y = df_test['DocType']\n",
        "\n",
        "  Tfidf_vect = TfidfVectorizer(ngram_range=(1,2), max_features=20000, min_df=5)\n",
        "    #Learn the vocabulary\n",
        "  Tfidf_vect.fit(df_test['Text'])\n",
        "  X_Tfidf = Tfidf_vect.transform(X)\n",
        "\n",
        "  Train_counts = pd.DataFrame(Y.values, columns = list('a'))\n",
        "  print('Test Data Distribution')\n",
        "  print(Train_counts['a'].value_counts())\n",
        "\n",
        "  for model in models:   \n",
        "    model_name = model.__class__.__name__\n",
        "    model.fit(X_Tfidf, Y)\n",
        "    predictions = model.predict(X_Tfidf)\n",
        "    conf_mat = confusion_matrix(Y, predictions)\n",
        "      \n",
        "    print(model_name, '\\n', conf_mat)\n",
        "    fig, ax = plt.subplots(figsize=(5,5))\n",
        "    sns.heatmap(conf_mat, annot=True, fmt='d',xticklabels=False, yticklabels=False)\n",
        "    plt.title(model_name)\n",
        "    plt.xlabel(\"Predicted\\nPrivate          Public\")\n",
        "    plt.ylabel(\"Actual\\nPublic             Private\")\n",
        "    plt.show()\n",
        "      # fig.savefig('/content/drive/My Drive/Data/' + model_name + '.png')\n",
        "      \n",
        "    test = pd.DataFrame(X)\n",
        "    test['Predicted'] = predictions\n",
        "    test['Actual'] = Y\n",
        "    test['match'] = np.where((test['Predicted'] != test['Actual']), 'Not Match', 'Match')\n",
        "    test.loc[test[\"match\"]==\"Not Match\",:]\n",
        "    save_path = str(model_name) + '.csv'\n",
        "    test.to_csv(os.path.join(path, save_path), index=False)\n",
        "\n",
        "  return X_Tfidf, Y\n",
        "\n",
        "\n",
        "def plot_accuracies(models, X_Tfidf, Y):\n",
        "  CV = 5\n",
        "  cv_df = pd.DataFrame(index=range(CV * len(models)))\n",
        "  entries = []\n",
        "  for model in models:\n",
        "      model_name = model.__class__.__name__\n",
        "      accuracies = cross_val_score(model, X_Tfidf, Y, scoring='accuracy', cv=CV)\n",
        "      for fold_idx, accuracy in enumerate(accuracies):\n",
        "          entries.append((model_name, fold_idx, accuracy))\n",
        "  cv_df = pd.DataFrame(entries, columns=['model_name', 'fold_idx', 'accuracy'])\n",
        "  sns.boxplot(x='model_name', y='accuracy', data=cv_df)\n",
        "  sns.stripplot(x='model_name', y='accuracy', data=cv_df, \n",
        "                size=8, jitter=True, edgecolor=\"gray\", linewidth=2)\n",
        "  plt.xticks(rotation=15)\n",
        "  plt.show()"
      ],
      "execution_count": 0,
      "outputs": []
    },
    {
      "cell_type": "markdown",
      "metadata": {
        "id": "fdnMyez-6tza",
        "colab_type": "text"
      },
      "source": [
        "* high precision + high recall = *class pefectly handled by model*\n",
        "* high precision + low recall = *class can't detect the class but highly trustable when it does*\n",
        "* low precision + high recall = *well detected class but it also include points of other class*\n",
        "* low precision + low recall = *class poorly handled by the model* "
      ]
    },
    {
      "cell_type": "markdown",
      "metadata": {
        "id": "K4F9oenBUP9W",
        "colab_type": "text"
      },
      "source": [
        "# Main Function"
      ]
    },
    {
      "cell_type": "code",
      "metadata": {
        "id": "gRuA-_CQTKnF",
        "colab_type": "code",
        "colab": {}
      },
      "source": [
        "def run_models(path, df_train, ParameterTune=0):\n",
        "  Train_X, Test_X, Train_Y, Test_Y = train_test(df_train)\n",
        "  Train_X_Tfidf, Test_X_Tfidf = get_tfidf_features(df_train, Train_X, Test_X, Train_Y, Test_Y, feat=20000, N=20)\n",
        "  if ParameterTune == 1:\n",
        "    model_loaded, cv_df = model_selection(Train_X_Tfidf, Train_Y)\n",
        "    cv_df.groupby('model_name').accuracy.mean()\n",
        "    save_models(model_loaded, path)\n",
        "  else:\n",
        "    model_loaded = load_models(path)\n",
        "  df = run_algo(model_loaded, Train_X_Tfidf, Train_Y, Test_X_Tfidf, Test_Y)\n",
        "\n",
        "  return df, model_loaded\n",
        "\n",
        "def validationResults(path, df_test, model_loaded):\n",
        "  X_Tfidf, Y = predictOnUnseenData(df_test, model_loaded, path)\n",
        "  plot_accuracies(model_loaded, X_Tfidf, Y)"
      ],
      "execution_count": 0,
      "outputs": []
    },
    {
      "cell_type": "markdown",
      "metadata": {
        "id": "qwKK2OAsWBmL",
        "colab_type": "text"
      },
      "source": [
        "# Congress data"
      ]
    },
    {
      "cell_type": "code",
      "metadata": {
        "id": "9KTG7_CfWMh-",
        "colab_type": "code",
        "colab": {
          "base_uri": "https://localhost:8080/",
          "height": 442
        },
        "outputId": "0010c8f5-439d-4658-d293-42da6346929b"
      },
      "source": [
        "df_train = load_data(congress_path, train=1)\n",
        "df_train"
      ],
      "execution_count": 13,
      "outputs": [
        {
          "output_type": "stream",
          "text": [
            "Loading Data...\n"
          ],
          "name": "stdout"
        },
        {
          "output_type": "execute_result",
          "data": {
            "text/html": [
              "<div>\n",
              "<style scoped>\n",
              "    .dataframe tbody tr th:only-of-type {\n",
              "        vertical-align: middle;\n",
              "    }\n",
              "\n",
              "    .dataframe tbody tr th {\n",
              "        vertical-align: top;\n",
              "    }\n",
              "\n",
              "    .dataframe thead th {\n",
              "        text-align: right;\n",
              "    }\n",
              "</style>\n",
              "<table border=\"1\" class=\"dataframe\">\n",
              "  <thead>\n",
              "    <tr style=\"text-align: right;\">\n",
              "      <th></th>\n",
              "      <th>Text</th>\n",
              "      <th>DocType</th>\n",
              "    </tr>\n",
              "  </thead>\n",
              "  <tbody>\n",
              "    <tr>\n",
              "      <th>0</th>\n",
              "      <td>bill repeal certain reporting requirement rela...</td>\n",
              "      <td>Public</td>\n",
              "    </tr>\n",
              "    <tr>\n",
              "      <th>1</th>\n",
              "      <td>description amendment receive pursuant provisi...</td>\n",
              "      <td>Public</td>\n",
              "    </tr>\n",
              "    <tr>\n",
              "      <th>2</th>\n",
              "      <td>bill directs president report congress impact ...</td>\n",
              "      <td>Public</td>\n",
              "    </tr>\n",
              "    <tr>\n",
              "      <th>3</th>\n",
              "      <td>art embassy act bill prohibits purchase instal...</td>\n",
              "      <td>Public</td>\n",
              "    </tr>\n",
              "    <tr>\n",
              "      <th>4</th>\n",
              "      <td>taxpayer fund art embassy act bill prohibits p...</td>\n",
              "      <td>Public</td>\n",
              "    </tr>\n",
              "    <tr>\n",
              "      <th>...</th>\n",
              "      <td>...</td>\n",
              "      <td>...</td>\n",
              "    </tr>\n",
              "    <tr>\n",
              "      <th>6994</th>\n",
              "      <td>trade policy eu make context legal provision p...</td>\n",
              "      <td>Private</td>\n",
              "    </tr>\n",
              "    <tr>\n",
              "      <th>6995</th>\n",
              "      <td>group eight g summit forum informally discus c...</td>\n",
              "      <td>Private</td>\n",
              "    </tr>\n",
              "    <tr>\n",
              "      <th>6996</th>\n",
              "      <td>main role berne union affiliate group prague c...</td>\n",
              "      <td>Private</td>\n",
              "    </tr>\n",
              "    <tr>\n",
              "      <th>6997</th>\n",
              "      <td>extradition formal surrender person state anot...</td>\n",
              "      <td>Private</td>\n",
              "    </tr>\n",
              "    <tr>\n",
              "      <th>6998</th>\n",
              "      <td>focus recent legislative action duty suspensio...</td>\n",
              "      <td>Private</td>\n",
              "    </tr>\n",
              "  </tbody>\n",
              "</table>\n",
              "<p>6999 rows × 2 columns</p>\n",
              "</div>"
            ],
            "text/plain": [
              "                                                   Text  DocType\n",
              "0     bill repeal certain reporting requirement rela...   Public\n",
              "1     description amendment receive pursuant provisi...   Public\n",
              "2     bill directs president report congress impact ...   Public\n",
              "3     art embassy act bill prohibits purchase instal...   Public\n",
              "4     taxpayer fund art embassy act bill prohibits p...   Public\n",
              "...                                                 ...      ...\n",
              "6994  trade policy eu make context legal provision p...  Private\n",
              "6995  group eight g summit forum informally discus c...  Private\n",
              "6996  main role berne union affiliate group prague c...  Private\n",
              "6997  extradition formal surrender person state anot...  Private\n",
              "6998  focus recent legislative action duty suspensio...  Private\n",
              "\n",
              "[6999 rows x 2 columns]"
            ]
          },
          "metadata": {
            "tags": []
          },
          "execution_count": 13
        }
      ]
    },
    {
      "cell_type": "code",
      "metadata": {
        "id": "lRG1HfCeWVhd",
        "colab_type": "code",
        "colab": {
          "base_uri": "https://localhost:8080/",
          "height": 442
        },
        "outputId": "6c4e14d4-ef0f-434e-f374-f9d51e2c2c0e"
      },
      "source": [
        "df_test = load_data(congress_path, train=0)\n",
        "df_test"
      ],
      "execution_count": 14,
      "outputs": [
        {
          "output_type": "stream",
          "text": [
            "Loading Data...\n"
          ],
          "name": "stdout"
        },
        {
          "output_type": "execute_result",
          "data": {
            "text/html": [
              "<div>\n",
              "<style scoped>\n",
              "    .dataframe tbody tr th:only-of-type {\n",
              "        vertical-align: middle;\n",
              "    }\n",
              "\n",
              "    .dataframe tbody tr th {\n",
              "        vertical-align: top;\n",
              "    }\n",
              "\n",
              "    .dataframe thead th {\n",
              "        text-align: right;\n",
              "    }\n",
              "</style>\n",
              "<table border=\"1\" class=\"dataframe\">\n",
              "  <thead>\n",
              "    <tr style=\"text-align: right;\">\n",
              "      <th></th>\n",
              "      <th>Text</th>\n",
              "      <th>DocType</th>\n",
              "    </tr>\n",
              "  </thead>\n",
              "  <tbody>\n",
              "    <tr>\n",
              "      <th>0</th>\n",
              "      <td>non combatant death result u strike</td>\n",
              "      <td>Public</td>\n",
              "    </tr>\n",
              "    <tr>\n",
              "      <th>1</th>\n",
              "      <td>terrorist target outside area active hostility...</td>\n",
              "      <td>Public</td>\n",
              "    </tr>\n",
              "    <tr>\n",
              "      <th>2</th>\n",
              "      <td>widely reporting generally estimate significantly</td>\n",
              "      <td>Public</td>\n",
              "    </tr>\n",
              "    <tr>\n",
              "      <th>3</th>\n",
              "      <td>high figure non combatant death indicate</td>\n",
              "      <td>Public</td>\n",
              "    </tr>\n",
              "    <tr>\n",
              "      <th>4</th>\n",
              "      <td>u government information instance period</td>\n",
              "      <td>Public</td>\n",
              "    </tr>\n",
              "    <tr>\n",
              "      <th>...</th>\n",
              "      <td>...</td>\n",
              "      <td>...</td>\n",
              "    </tr>\n",
              "    <tr>\n",
              "      <th>1742</th>\n",
              "      <td>rate long term economic growth salient measure...</td>\n",
              "      <td>Private</td>\n",
              "    </tr>\n",
              "    <tr>\n",
              "      <th>1743</th>\n",
              "      <td>capital offense state crime however congress r...</td>\n",
              "      <td>Private</td>\n",
              "    </tr>\n",
              "    <tr>\n",
              "      <th>1744</th>\n",
              "      <td>house pass h r gang deterrence community prote...</td>\n",
              "      <td>Private</td>\n",
              "    </tr>\n",
              "    <tr>\n",
              "      <th>1745</th>\n",
              "      <td>manufacturing seem steadily diminish presence ...</td>\n",
              "      <td>Private</td>\n",
              "    </tr>\n",
              "    <tr>\n",
              "      <th>1746</th>\n",
              "      <td>economics tell u nation export may import expo...</td>\n",
              "      <td>Private</td>\n",
              "    </tr>\n",
              "  </tbody>\n",
              "</table>\n",
              "<p>1747 rows × 2 columns</p>\n",
              "</div>"
            ],
            "text/plain": [
              "                                                   Text  DocType\n",
              "0                   non combatant death result u strike   Public\n",
              "1     terrorist target outside area active hostility...   Public\n",
              "2     widely reporting generally estimate significantly   Public\n",
              "3              high figure non combatant death indicate   Public\n",
              "4              u government information instance period   Public\n",
              "...                                                 ...      ...\n",
              "1742  rate long term economic growth salient measure...  Private\n",
              "1743  capital offense state crime however congress r...  Private\n",
              "1744  house pass h r gang deterrence community prote...  Private\n",
              "1745  manufacturing seem steadily diminish presence ...  Private\n",
              "1746  economics tell u nation export may import expo...  Private\n",
              "\n",
              "[1747 rows x 2 columns]"
            ]
          },
          "metadata": {
            "tags": []
          },
          "execution_count": 14
        }
      ]
    },
    {
      "cell_type": "code",
      "metadata": {
        "id": "Q4Fr3wfHWAcT",
        "colab_type": "code",
        "colab": {
          "base_uri": "https://localhost:8080/",
          "height": 1000
        },
        "outputId": "c37b97e4-36df-491d-89da-feae77054f52"
      },
      "source": [
        "%%time\n",
        "cong_df, model_loaded = run_models(congress_path, df_train, ParameterTune=0)"
      ],
      "execution_count": 20,
      "outputs": [
        {
          "output_type": "stream",
          "text": [
            "=================================================\n",
            "Spliting data into training and validation set...\n"
          ],
          "name": "stdout"
        },
        {
          "output_type": "display_data",
          "data": {
            "image/png": "[encoded data removed]",
            "text/plain": [
              "<Figure size 576x432 with 1 Axes>"
            ]
          },
          "metadata": {
            "tags": [],
            "needs_background": "light"
          }
        },
        {
          "output_type": "stream",
          "text": [
            "Size of Training data:  5599\n",
            "Size of Validation data :   1400\n",
            "\n",
            "Train Data Distribution\n",
            "Public     4952\n",
            "Private     647\n",
            "Name: a, dtype: int64\n",
            "\n",
            "\n",
            "Validation Data Distribution\n",
            "Public     1248\n",
            "Private     152\n",
            "Name: a, dtype: int64\n",
            "=================================================\n",
            "\n",
            "Extracting TF-IDF Features...\n",
            "Train Data (n_samples, n_features): (5599, 3269)\n",
            "Test Data (Text, Features): (1400, 3269)\n",
            "Features for public train data (6200, 1850)\n",
            "Features for private train data (799, 1761)\n",
            "# Public\n",
            ". report\n",
            ". organization\n",
            ". strike\n",
            ". express\n",
            ". executive branch\n",
            ". exercise\n",
            ". exist\n",
            ". expand\n",
            ". expansion\n",
            ". expect\n",
            ". expenditure\n",
            ". explanation\n",
            ". export\n",
            ". export control\n",
            ". export defense\n",
            ". express sense\n",
            ". exchange\n",
            ". express support\n",
            ". extend\n",
            ". extraordinary\n",
            "\n",
            "# Private\n",
            ". congress approve\n",
            ". legislative action\n",
            ". evaluate\n",
            ". commodity\n",
            ". duty\n",
            ". reason\n",
            ". select\n",
            ". approve\n",
            ". procedure\n",
            ". committee\n",
            ". action\n",
            ". legislative\n",
            ". focus\n",
            ". recent\n",
            ". congressional\n",
            ". legislation\n",
            ". current\n",
            ". congress\n",
            ". essentially\n",
            ". establish\n",
            "=================================================\n",
            "\n",
            "Hyperparameter Tuning\n"
          ],
          "name": "stdout"
        },
        {
          "output_type": "display_data",
          "data": {
            "image/png": "[encoded data removed]",
            "text/plain": [
              "<Figure size 432x288 with 1 Axes>"
            ]
          },
          "metadata": {
            "tags": [],
            "needs_background": "light"
          }
        },
        {
          "output_type": "stream",
          "text": [
            "=================================================\n",
            "\n",
            "Saving models with best Parameters\n",
            "Saved models successfully at /content/drive/My Drive/Data/congress/models\n",
            "MultinomialNB \n",
            " [[ 134   18]\n",
            " [   4 1244]]\n"
          ],
          "name": "stdout"
        },
        {
          "output_type": "display_data",
          "data": {
            "image/png": "[encoded data removed]",
            "text/plain": [
              "<Figure size 360x360 with 2 Axes>"
            ]
          },
          "metadata": {
            "tags": [],
            "needs_background": "light"
          }
        },
        {
          "output_type": "stream",
          "text": [
            "SVC \n",
            " [[ 138   14]\n",
            " [   2 1246]]\n"
          ],
          "name": "stdout"
        },
        {
          "output_type": "display_data",
          "data": {
            "image/png": "[encoded data removed]",
            "text/plain": [
              "<Figure size 360x360 with 2 Axes>"
            ]
          },
          "metadata": {
            "tags": [],
            "needs_background": "light"
          }
        },
        {
          "output_type": "stream",
          "text": [
            "LogisticRegression \n",
            " [[ 129   23]\n",
            " [   1 1247]]\n"
          ],
          "name": "stdout"
        },
        {
          "output_type": "display_data",
          "data": {
            "image/png": "[encoded data removed]",
            "text/plain": [
              "<Figure size 360x360 with 2 Axes>"
            ]
          },
          "metadata": {
            "tags": [],
            "needs_background": "light"
          }
        },
        {
          "output_type": "stream",
          "text": [
            "RandomForestClassifier \n",
            " [[   4  148]\n",
            " [   0 1248]]\n"
          ],
          "name": "stdout"
        },
        {
          "output_type": "display_data",
          "data": {
            "image/png": "[encoded data removed]",
            "text/plain": [
              "<Figure size 360x360 with 2 Axes>"
            ]
          },
          "metadata": {
            "tags": [],
            "needs_background": "light"
          }
        },
        {
          "output_type": "stream",
          "text": [
            "CPU times: user 23.7 s, sys: 5.67 s, total: 29.4 s\n",
            "Wall time: 18min 31s\n"
          ],
          "name": "stdout"
        }
      ]
    },
    {
      "cell_type": "code",
      "metadata": {
        "id": "eXl8gR0jW3Hu",
        "colab_type": "code",
        "colab": {
          "base_uri": "https://localhost:8080/",
          "height": 227
        },
        "outputId": "0d39d847-dcc5-486a-ecaf-866f1fabe2cb"
      },
      "source": [
        "cong_df"
      ],
      "execution_count": 21,
      "outputs": [
        {
          "output_type": "execute_result",
          "data": {
            "text/html": [
              "<div>\n",
              "<style scoped>\n",
              "    .dataframe tbody tr th:only-of-type {\n",
              "        vertical-align: middle;\n",
              "    }\n",
              "\n",
              "    .dataframe tbody tr th {\n",
              "        vertical-align: top;\n",
              "    }\n",
              "\n",
              "    .dataframe thead th {\n",
              "        text-align: right;\n",
              "    }\n",
              "</style>\n",
              "<table border=\"1\" class=\"dataframe\">\n",
              "  <thead>\n",
              "    <tr style=\"text-align: right;\">\n",
              "      <th></th>\n",
              "      <th>Model</th>\n",
              "      <th>Accuracy</th>\n",
              "      <th>Precision (Public Class)</th>\n",
              "      <th>Recall (Public Class)</th>\n",
              "      <th>F1 Score (Public Class)</th>\n",
              "      <th>Precision (Private Class)</th>\n",
              "      <th>Recall (Private Class)</th>\n",
              "      <th>F1 Score (Private Class)</th>\n",
              "    </tr>\n",
              "  </thead>\n",
              "  <tbody>\n",
              "    <tr>\n",
              "      <th>0</th>\n",
              "      <td>Multinomial Naive Bayes</td>\n",
              "      <td>0.98</td>\n",
              "      <td>1.0</td>\n",
              "      <td>0.99</td>\n",
              "      <td>0.99</td>\n",
              "      <td>0.88</td>\n",
              "      <td>0.97</td>\n",
              "      <td>0.92</td>\n",
              "    </tr>\n",
              "    <tr>\n",
              "      <th>1</th>\n",
              "      <td>Support Vector Classifier</td>\n",
              "      <td>0.99</td>\n",
              "      <td>1.0</td>\n",
              "      <td>0.99</td>\n",
              "      <td>0.99</td>\n",
              "      <td>0.91</td>\n",
              "      <td>0.99</td>\n",
              "      <td>0.95</td>\n",
              "    </tr>\n",
              "    <tr>\n",
              "      <th>2</th>\n",
              "      <td>Logistic Regression</td>\n",
              "      <td>0.98</td>\n",
              "      <td>1.0</td>\n",
              "      <td>0.98</td>\n",
              "      <td>0.99</td>\n",
              "      <td>0.85</td>\n",
              "      <td>0.99</td>\n",
              "      <td>0.91</td>\n",
              "    </tr>\n",
              "    <tr>\n",
              "      <th>3</th>\n",
              "      <td>Random Forest</td>\n",
              "      <td>0.89</td>\n",
              "      <td>1.0</td>\n",
              "      <td>0.89</td>\n",
              "      <td>0.94</td>\n",
              "      <td>0.03</td>\n",
              "      <td>1.00</td>\n",
              "      <td>0.06</td>\n",
              "    </tr>\n",
              "  </tbody>\n",
              "</table>\n",
              "</div>"
            ],
            "text/plain": [
              "                       Model  ...  F1 Score (Private Class)\n",
              "0    Multinomial Naive Bayes  ...                      0.92\n",
              "1  Support Vector Classifier  ...                      0.95\n",
              "2        Logistic Regression  ...                      0.91\n",
              "3              Random Forest  ...                      0.06\n",
              "\n",
              "[4 rows x 8 columns]"
            ]
          },
          "metadata": {
            "tags": []
          },
          "execution_count": 21
        }
      ]
    },
    {
      "cell_type": "code",
      "metadata": {
        "id": "TcQXiNYjWZkv",
        "colab_type": "code",
        "colab": {
          "base_uri": "https://localhost:8080/",
          "height": 1000
        },
        "outputId": "9ab9c348-0364-42e3-89ff-4244c1a9725d"
      },
      "source": [
        "validationResults(congress_path, df_test, model_loaded)"
      ],
      "execution_count": 22,
      "outputs": [
        {
          "output_type": "stream",
          "text": [
            "Test Data Distribution\n",
            "Public     1546\n",
            "Private     201\n",
            "Name: a, dtype: int64\n",
            "MultinomialNB \n",
            " [[ 178   23]\n",
            " [   0 1546]]\n"
          ],
          "name": "stdout"
        },
        {
          "output_type": "display_data",
          "data": {
            "image/png": "[encoded data removed]",
            "text/plain": [
              "<Figure size 360x360 with 2 Axes>"
            ]
          },
          "metadata": {
            "tags": [],
            "needs_background": "light"
          }
        },
        {
          "output_type": "stream",
          "text": [
            "SVC \n",
            " [[ 198    3]\n",
            " [   0 1546]]\n"
          ],
          "name": "stdout"
        },
        {
          "output_type": "display_data",
          "data": {
            "image/png": "[encoded data removed]",
            "text/plain": [
              "<Figure size 360x360 with 2 Axes>"
            ]
          },
          "metadata": {
            "tags": [],
            "needs_background": "light"
          }
        },
        {
          "output_type": "stream",
          "text": [
            "LogisticRegression \n",
            " [[ 190   11]\n",
            " [   0 1546]]\n"
          ],
          "name": "stdout"
        },
        {
          "output_type": "display_data",
          "data": {
            "image/png": "[encoded data removed]",
            "text/plain": [
              "<Figure size 360x360 with 2 Axes>"
            ]
          },
          "metadata": {
            "tags": [],
            "needs_background": "light"
          }
        },
        {
          "output_type": "stream",
          "text": [
            "RandomForestClassifier \n",
            " [[  98  103]\n",
            " [   0 1546]]\n"
          ],
          "name": "stdout"
        },
        {
          "output_type": "display_data",
          "data": {
            "image/png": "[encoded data removed]",
            "text/plain": [
              "<Figure size 360x360 with 2 Axes>"
            ]
          },
          "metadata": {
            "tags": [],
            "needs_background": "light"
          }
        },
        {
          "output_type": "display_data",
          "data": {
            "image/png": "[encoded data removed]",
            "text/plain": [
              "<Figure size 432x288 with 1 Axes>"
            ]
          },
          "metadata": {
            "tags": [],
            "needs_background": "light"
          }
        }
      ]
    },
    {
      "cell_type": "markdown",
      "metadata": {
        "id": "VtPibGcRXHrF",
        "colab_type": "text"
      },
      "source": [
        "# Iraq Data"
      ]
    },
    {
      "cell_type": "code",
      "metadata": {
        "id": "f7JQtz7uW5B5",
        "colab_type": "code",
        "colab": {
          "base_uri": "https://localhost:8080/",
          "height": 442
        },
        "outputId": "98344559-025e-48b7-a660-05b78271522d"
      },
      "source": [
        "df_train = load_data(iraq_path, train=1)\n",
        "df_train"
      ],
      "execution_count": 23,
      "outputs": [
        {
          "output_type": "stream",
          "text": [
            "Loading Data...\n"
          ],
          "name": "stdout"
        },
        {
          "output_type": "execute_result",
          "data": {
            "text/html": [
              "<div>\n",
              "<style scoped>\n",
              "    .dataframe tbody tr th:only-of-type {\n",
              "        vertical-align: middle;\n",
              "    }\n",
              "\n",
              "    .dataframe tbody tr th {\n",
              "        vertical-align: top;\n",
              "    }\n",
              "\n",
              "    .dataframe thead th {\n",
              "        text-align: right;\n",
              "    }\n",
              "</style>\n",
              "<table border=\"1\" class=\"dataframe\">\n",
              "  <thead>\n",
              "    <tr style=\"text-align: right;\">\n",
              "      <th></th>\n",
              "      <th>Text</th>\n",
              "      <th>DocType</th>\n",
              "    </tr>\n",
              "  </thead>\n",
              "  <tbody>\n",
              "    <tr>\n",
              "      <th>0</th>\n",
              "      <td>last week dyncorp international di alliance of...</td>\n",
              "      <td>Public</td>\n",
              "    </tr>\n",
              "    <tr>\n",
              "      <th>1</th>\n",
              "      <td>wednesday january commissioner aaron demerson ...</td>\n",
              "      <td>Public</td>\n",
              "    </tr>\n",
              "    <tr>\n",
              "      <th>2</th>\n",
              "      <td>april dyncorp international di team patuxent r...</td>\n",
              "      <td>Public</td>\n",
              "    </tr>\n",
              "    <tr>\n",
              "      <th>3</th>\n",
              "      <td>dyncorp international alliance office donate p...</td>\n",
              "      <td>Public</td>\n",
              "    </tr>\n",
              "    <tr>\n",
              "      <th>4</th>\n",
              "      <td>navigate various permission license operate fo...</td>\n",
              "      <td>Public</td>\n",
              "    </tr>\n",
              "    <tr>\n",
              "      <th>...</th>\n",
              "      <td>...</td>\n",
              "      <td>...</td>\n",
              "    </tr>\n",
              "    <tr>\n",
              "      <th>1337</th>\n",
              "      <td>mnd event unit cavalry number denotes specific...</td>\n",
              "      <td>Private</td>\n",
              "    </tr>\n",
              "    <tr>\n",
              "      <th>1338</th>\n",
              "      <td>mnd event unit cache turn soccer timeline phon...</td>\n",
              "      <td>Private</td>\n",
              "    </tr>\n",
              "    <tr>\n",
              "      <th>1339</th>\n",
              "      <td>cavalry number denotes specific regiment aug t...</td>\n",
              "      <td>Private</td>\n",
              "    </tr>\n",
              "    <tr>\n",
              "      <th>1340</th>\n",
              "      <td>mnd event unit cavalry number denotes specific...</td>\n",
              "      <td>Private</td>\n",
              "    </tr>\n",
              "    <tr>\n",
              "      <th>1341</th>\n",
              "      <td>combine joint task force mu plt team support c...</td>\n",
              "      <td>Private</td>\n",
              "    </tr>\n",
              "  </tbody>\n",
              "</table>\n",
              "<p>1342 rows × 2 columns</p>\n",
              "</div>"
            ],
            "text/plain": [
              "                                                   Text  DocType\n",
              "0     last week dyncorp international di alliance of...   Public\n",
              "1     wednesday january commissioner aaron demerson ...   Public\n",
              "2     april dyncorp international di team patuxent r...   Public\n",
              "3     dyncorp international alliance office donate p...   Public\n",
              "4     navigate various permission license operate fo...   Public\n",
              "...                                                 ...      ...\n",
              "1337  mnd event unit cavalry number denotes specific...  Private\n",
              "1338  mnd event unit cache turn soccer timeline phon...  Private\n",
              "1339  cavalry number denotes specific regiment aug t...  Private\n",
              "1340  mnd event unit cavalry number denotes specific...  Private\n",
              "1341  combine joint task force mu plt team support c...  Private\n",
              "\n",
              "[1342 rows x 2 columns]"
            ]
          },
          "metadata": {
            "tags": []
          },
          "execution_count": 23
        }
      ]
    },
    {
      "cell_type": "code",
      "metadata": {
        "id": "r9f8it7tXYJX",
        "colab_type": "code",
        "colab": {
          "base_uri": "https://localhost:8080/",
          "height": 442
        },
        "outputId": "cb2296d1-0e6b-48af-bccc-f93e1d2ab00c"
      },
      "source": [
        "df_test = load_data(iraq_path, train=0)\n",
        "df_test"
      ],
      "execution_count": 24,
      "outputs": [
        {
          "output_type": "stream",
          "text": [
            "Loading Data...\n"
          ],
          "name": "stdout"
        },
        {
          "output_type": "execute_result",
          "data": {
            "text/html": [
              "<div>\n",
              "<style scoped>\n",
              "    .dataframe tbody tr th:only-of-type {\n",
              "        vertical-align: middle;\n",
              "    }\n",
              "\n",
              "    .dataframe tbody tr th {\n",
              "        vertical-align: top;\n",
              "    }\n",
              "\n",
              "    .dataframe thead th {\n",
              "        text-align: right;\n",
              "    }\n",
              "</style>\n",
              "<table border=\"1\" class=\"dataframe\">\n",
              "  <thead>\n",
              "    <tr style=\"text-align: right;\">\n",
              "      <th></th>\n",
              "      <th>Text</th>\n",
              "      <th>DocType</th>\n",
              "    </tr>\n",
              "  </thead>\n",
              "  <tbody>\n",
              "    <tr>\n",
              "      <th>0</th>\n",
              "      <td>dyncorp international earn champion veteran en...</td>\n",
              "      <td>Public</td>\n",
              "    </tr>\n",
              "    <tr>\n",
              "      <th>1</th>\n",
              "      <td>dyncorp international team member support u ai...</td>\n",
              "      <td>Public</td>\n",
              "    </tr>\n",
              "    <tr>\n",
              "      <th>2</th>\n",
              "      <td>u air force usaf award dyncorp international d...</td>\n",
              "      <td>Public</td>\n",
              "    </tr>\n",
              "    <tr>\n",
              "      <th>3</th>\n",
              "      <td>selvi sahiti domestic service supervisor qefse...</td>\n",
              "      <td>Public</td>\n",
              "    </tr>\n",
              "    <tr>\n",
              "      <th>4</th>\n",
              "      <td>dyncorp international parent delta tucker hold...</td>\n",
              "      <td>Public</td>\n",
              "    </tr>\n",
              "    <tr>\n",
              "      <th>...</th>\n",
              "      <td>...</td>\n",
              "      <td>...</td>\n",
              "    </tr>\n",
              "    <tr>\n",
              "      <th>339</th>\n",
              "      <td>final report engineering feb found weapon engi...</td>\n",
              "      <td>Private</td>\n",
              "    </tr>\n",
              "    <tr>\n",
              "      <th>340</th>\n",
              "      <td>cavalry number denotes specific regiment ia fe...</td>\n",
              "      <td>Private</td>\n",
              "    </tr>\n",
              "    <tr>\n",
              "      <th>341</th>\n",
              "      <td>nation report mnd event unit ia event type une...</td>\n",
              "      <td>Private</td>\n",
              "    </tr>\n",
              "    <tr>\n",
              "      <th>342</th>\n",
              "      <td>mnd event unit event type weapon cache feb ass...</td>\n",
              "      <td>Private</td>\n",
              "    </tr>\n",
              "    <tr>\n",
              "      <th>343</th>\n",
              "      <td>late report engineering en report spot appear ...</td>\n",
              "      <td>Private</td>\n",
              "    </tr>\n",
              "  </tbody>\n",
              "</table>\n",
              "<p>344 rows × 2 columns</p>\n",
              "</div>"
            ],
            "text/plain": [
              "                                                  Text  DocType\n",
              "0    dyncorp international earn champion veteran en...   Public\n",
              "1    dyncorp international team member support u ai...   Public\n",
              "2    u air force usaf award dyncorp international d...   Public\n",
              "3    selvi sahiti domestic service supervisor qefse...   Public\n",
              "4    dyncorp international parent delta tucker hold...   Public\n",
              "..                                                 ...      ...\n",
              "339  final report engineering feb found weapon engi...  Private\n",
              "340  cavalry number denotes specific regiment ia fe...  Private\n",
              "341  nation report mnd event unit ia event type une...  Private\n",
              "342  mnd event unit event type weapon cache feb ass...  Private\n",
              "343  late report engineering en report spot appear ...  Private\n",
              "\n",
              "[344 rows x 2 columns]"
            ]
          },
          "metadata": {
            "tags": []
          },
          "execution_count": 24
        }
      ]
    },
    {
      "cell_type": "code",
      "metadata": {
        "id": "VearZu_1XbpN",
        "colab_type": "code",
        "colab": {
          "base_uri": "https://localhost:8080/",
          "height": 1000
        },
        "outputId": "03c03354-a776-4b80-c735-59a264fab3ee"
      },
      "source": [
        "%%time\n",
        "iraq_df, model_loaded = run_models(iraq_path, df_train, ParameterTune=0)"
      ],
      "execution_count": 25,
      "outputs": [
        {
          "output_type": "stream",
          "text": [
            "=================================================\n",
            "Spliting data into training and validation set...\n"
          ],
          "name": "stdout"
        },
        {
          "output_type": "display_data",
          "data": {
            "image/png": "[encoded data removed]",
            "text/plain": [
              "<Figure size 576x432 with 1 Axes>"
            ]
          },
          "metadata": {
            "tags": [],
            "needs_background": "light"
          }
        },
        {
          "output_type": "stream",
          "text": [
            "Size of Training data:  1073\n",
            "Size of Validation data :   269\n",
            "\n",
            "Train Data Distribution\n",
            "Private    620\n",
            "Public     453\n",
            "Name: a, dtype: int64\n",
            "\n",
            "\n",
            "Validation Data Distribution\n",
            "Private    154\n",
            "Public     115\n",
            "Name: a, dtype: int64\n",
            "=================================================\n",
            "\n",
            "Extracting TF-IDF Features...\n",
            "Train Data (n_samples, n_features): (1073, 7235)\n",
            "Test Data (Text, Features): (269, 7235)\n",
            "Features for public train data (568, 4908)\n",
            "Features for private train data (774, 2699)\n",
            "# Public\n",
            ". wing\n",
            ". aircraft\n",
            ". th\n",
            ". boeing\n",
            ". gulfstream\n",
            ". joint\n",
            ". th wing\n",
            ". th airlift\n",
            ". airlift wing\n",
            ". open\n",
            ". airlift\n",
            ". air\n",
            ". house\n",
            ". support aircraft\n",
            ". foreign\n",
            ". show\n",
            ". aircraft maintenance\n",
            ". support\n",
            ". angel\n",
            ". assign th\n",
            "\n",
            "# Private\n",
            ". item new\n",
            ". csep\n",
            ". pa\n",
            ". new item\n",
            ". new\n",
            ". item\n",
            ". support cavalry\n",
            ". team\n",
            ". ordnance grid\n",
            ". denotes\n",
            ". number denotes\n",
            ". cavalry\n",
            ". cavalry number\n",
            ". specific regiment\n",
            ". specific\n",
            ". denotes specific\n",
            ". projectile item\n",
            ". regiment\n",
            ". mu\n",
            ". plt\n",
            "=================================================\n",
            "\n",
            "Hyperparameter Tuning\n"
          ],
          "name": "stdout"
        },
        {
          "output_type": "display_data",
          "data": {
            "image/png": "[encoded data removed]",
            "text/plain": [
              "<Figure size 432x288 with 1 Axes>"
            ]
          },
          "metadata": {
            "tags": [],
            "needs_background": "light"
          }
        },
        {
          "output_type": "stream",
          "text": [
            "=================================================\n",
            "\n",
            "Saving models with best Parameters\n",
            "Saved models successfully at /content/drive/My Drive/Data/congress/models\n",
            "MultinomialNB \n",
            " [[154   0]\n",
            " [  0 115]]\n"
          ],
          "name": "stdout"
        },
        {
          "output_type": "display_data",
          "data": {
            "image/png": "[encoded data removed]",
            "text/plain": [
              "<Figure size 360x360 with 2 Axes>"
            ]
          },
          "metadata": {
            "tags": [],
            "needs_background": "light"
          }
        },
        {
          "output_type": "stream",
          "text": [
            "SVC \n",
            " [[154   0]\n",
            " [  0 115]]\n"
          ],
          "name": "stdout"
        },
        {
          "output_type": "display_data",
          "data": {
            "image/png": "[encoded data removed]",
            "text/plain": [
              "<Figure size 360x360 with 2 Axes>"
            ]
          },
          "metadata": {
            "tags": [],
            "needs_background": "light"
          }
        },
        {
          "output_type": "stream",
          "text": [
            "LogisticRegression \n",
            " [[154   0]\n",
            " [  0 115]]\n"
          ],
          "name": "stdout"
        },
        {
          "output_type": "display_data",
          "data": {
            "image/png": "[encoded data removed]",
            "text/plain": [
              "<Figure size 360x360 with 2 Axes>"
            ]
          },
          "metadata": {
            "tags": [],
            "needs_background": "light"
          }
        },
        {
          "output_type": "stream",
          "text": [
            "RandomForestClassifier \n",
            " [[154   0]\n",
            " [  1 114]]\n"
          ],
          "name": "stdout"
        },
        {
          "output_type": "display_data",
          "data": {
            "image/png": "[encoded data removed]",
            "text/plain": [
              "<Figure size 360x360 with 2 Axes>"
            ]
          },
          "metadata": {
            "tags": [],
            "needs_background": "light"
          }
        },
        {
          "output_type": "stream",
          "text": [
            "CPU times: user 31.4 s, sys: 1.71 s, total: 33.1 s\n",
            "Wall time: 14min 5s\n"
          ],
          "name": "stdout"
        }
      ]
    },
    {
      "cell_type": "code",
      "metadata": {
        "id": "OiHAaKRdXmmb",
        "colab_type": "code",
        "colab": {
          "base_uri": "https://localhost:8080/",
          "height": 227
        },
        "outputId": "3135b9c3-6656-4023-b06e-1433f9af7e7b"
      },
      "source": [
        "iraq_df"
      ],
      "execution_count": 26,
      "outputs": [
        {
          "output_type": "execute_result",
          "data": {
            "text/html": [
              "<div>\n",
              "<style scoped>\n",
              "    .dataframe tbody tr th:only-of-type {\n",
              "        vertical-align: middle;\n",
              "    }\n",
              "\n",
              "    .dataframe tbody tr th {\n",
              "        vertical-align: top;\n",
              "    }\n",
              "\n",
              "    .dataframe thead th {\n",
              "        text-align: right;\n",
              "    }\n",
              "</style>\n",
              "<table border=\"1\" class=\"dataframe\">\n",
              "  <thead>\n",
              "    <tr style=\"text-align: right;\">\n",
              "      <th></th>\n",
              "      <th>Model</th>\n",
              "      <th>Accuracy</th>\n",
              "      <th>Precision (Public Class)</th>\n",
              "      <th>Recall (Public Class)</th>\n",
              "      <th>F1 Score (Public Class)</th>\n",
              "      <th>Precision (Private Class)</th>\n",
              "      <th>Recall (Private Class)</th>\n",
              "      <th>F1 Score (Private Class)</th>\n",
              "    </tr>\n",
              "  </thead>\n",
              "  <tbody>\n",
              "    <tr>\n",
              "      <th>0</th>\n",
              "      <td>Multinomial Naive Bayes</td>\n",
              "      <td>1.0</td>\n",
              "      <td>1.00</td>\n",
              "      <td>1.0</td>\n",
              "      <td>1.00</td>\n",
              "      <td>1.0</td>\n",
              "      <td>1.00</td>\n",
              "      <td>1.00</td>\n",
              "    </tr>\n",
              "    <tr>\n",
              "      <th>1</th>\n",
              "      <td>Support Vector Classifier</td>\n",
              "      <td>1.0</td>\n",
              "      <td>1.00</td>\n",
              "      <td>1.0</td>\n",
              "      <td>1.00</td>\n",
              "      <td>1.0</td>\n",
              "      <td>1.00</td>\n",
              "      <td>1.00</td>\n",
              "    </tr>\n",
              "    <tr>\n",
              "      <th>2</th>\n",
              "      <td>Logistic Regression</td>\n",
              "      <td>1.0</td>\n",
              "      <td>1.00</td>\n",
              "      <td>1.0</td>\n",
              "      <td>1.00</td>\n",
              "      <td>1.0</td>\n",
              "      <td>1.00</td>\n",
              "      <td>1.00</td>\n",
              "    </tr>\n",
              "    <tr>\n",
              "      <th>3</th>\n",
              "      <td>Random Forest</td>\n",
              "      <td>1.0</td>\n",
              "      <td>0.99</td>\n",
              "      <td>1.0</td>\n",
              "      <td>0.99</td>\n",
              "      <td>1.0</td>\n",
              "      <td>0.99</td>\n",
              "      <td>0.99</td>\n",
              "    </tr>\n",
              "  </tbody>\n",
              "</table>\n",
              "</div>"
            ],
            "text/plain": [
              "                       Model  ...  F1 Score (Private Class)\n",
              "0    Multinomial Naive Bayes  ...                      1.00\n",
              "1  Support Vector Classifier  ...                      1.00\n",
              "2        Logistic Regression  ...                      1.00\n",
              "3              Random Forest  ...                      0.99\n",
              "\n",
              "[4 rows x 8 columns]"
            ]
          },
          "metadata": {
            "tags": []
          },
          "execution_count": 26
        }
      ]
    },
    {
      "cell_type": "code",
      "metadata": {
        "id": "RCq6zd4TbT9c",
        "colab_type": "code",
        "colab": {
          "base_uri": "https://localhost:8080/",
          "height": 1000
        },
        "outputId": "5385dc97-0543-4d95-946d-200ec0ce5351"
      },
      "source": [
        "validationResults(iraq_path, df_test, model_loaded)"
      ],
      "execution_count": 27,
      "outputs": [
        {
          "output_type": "stream",
          "text": [
            "Test Data Distribution\n",
            "Private    201\n",
            "Public     143\n",
            "Name: a, dtype: int64\n",
            "MultinomialNB \n",
            " [[201   0]\n",
            " [  0 143]]\n"
          ],
          "name": "stdout"
        },
        {
          "output_type": "display_data",
          "data": {
            "image/png": "[encoded data removed]",
            "text/plain": [
              "<Figure size 360x360 with 2 Axes>"
            ]
          },
          "metadata": {
            "tags": [],
            "needs_background": "light"
          }
        },
        {
          "output_type": "stream",
          "text": [
            "SVC \n",
            " [[201   0]\n",
            " [  0 143]]\n"
          ],
          "name": "stdout"
        },
        {
          "output_type": "display_data",
          "data": {
            "image/png": "[encoded data removed]",
            "text/plain": [
              "<Figure size 360x360 with 2 Axes>"
            ]
          },
          "metadata": {
            "tags": [],
            "needs_background": "light"
          }
        },
        {
          "output_type": "stream",
          "text": [
            "LogisticRegression \n",
            " [[201   0]\n",
            " [  0 143]]\n"
          ],
          "name": "stdout"
        },
        {
          "output_type": "display_data",
          "data": {
            "image/png": "[encoded data removed]",
            "text/plain": [
              "<Figure size 360x360 with 2 Axes>"
            ]
          },
          "metadata": {
            "tags": [],
            "needs_background": "light"
          }
        },
        {
          "output_type": "stream",
          "text": [
            "RandomForestClassifier \n",
            " [[201   0]\n",
            " [  0 143]]\n"
          ],
          "name": "stdout"
        },
        {
          "output_type": "display_data",
          "data": {
            "image/png": "[encoded data removed]",
            "text/plain": [
              "<Figure size 360x360 with 2 Axes>"
            ]
          },
          "metadata": {
            "tags": [],
            "needs_background": "light"
          }
        },
        {
          "output_type": "display_data",
          "data": {
            "image/png": "[encoded data removed]",
            "text/plain": [
              "<Figure size 432x288 with 1 Axes>"
            ]
          },
          "metadata": {
            "tags": [],
            "needs_background": "light"
          }
        }
      ]
    },
    {
      "cell_type": "markdown",
      "metadata": {
        "id": "gotZHJtvbcGI",
        "colab_type": "text"
      },
      "source": [
        "# Sony data"
      ]
    },
    {
      "cell_type": "code",
      "metadata": {
        "id": "CkfK_WVqbWR2",
        "colab_type": "code",
        "colab": {
          "base_uri": "https://localhost:8080/",
          "height": 442
        },
        "outputId": "936d0b30-0aa4-4bdb-ee49-87a556a139ea"
      },
      "source": [
        "df_train = load_data(sony_path, train=1)\n",
        "df_train"
      ],
      "execution_count": 29,
      "outputs": [
        {
          "output_type": "stream",
          "text": [
            "Loading Data...\n"
          ],
          "name": "stdout"
        },
        {
          "output_type": "execute_result",
          "data": {
            "text/html": [
              "<div>\n",
              "<style scoped>\n",
              "    .dataframe tbody tr th:only-of-type {\n",
              "        vertical-align: middle;\n",
              "    }\n",
              "\n",
              "    .dataframe tbody tr th {\n",
              "        vertical-align: top;\n",
              "    }\n",
              "\n",
              "    .dataframe thead th {\n",
              "        text-align: right;\n",
              "    }\n",
              "</style>\n",
              "<table border=\"1\" class=\"dataframe\">\n",
              "  <thead>\n",
              "    <tr style=\"text-align: right;\">\n",
              "      <th></th>\n",
              "      <th>Text</th>\n",
              "      <th>DocType</th>\n",
              "    </tr>\n",
              "  </thead>\n",
              "  <tbody>\n",
              "    <tr>\n",
              "      <th>0</th>\n",
              "      <td>digital dvd self destructive journalist pierre...</td>\n",
              "      <td>Public</td>\n",
              "    </tr>\n",
              "    <tr>\n",
              "      <th>1</th>\n",
              "      <td>digital blu ray dvd dave skylark james franco ...</td>\n",
              "      <td>Public</td>\n",
              "    </tr>\n",
              "    <tr>\n",
              "      <th>2</th>\n",
              "      <td>dvd narrate academy award nominate actor liam ...</td>\n",
              "      <td>Public</td>\n",
              "    </tr>\n",
              "    <tr>\n",
              "      <th>3</th>\n",
              "      <td>digital dvd chill psychological drama star chr...</td>\n",
              "      <td>Public</td>\n",
              "    </tr>\n",
              "    <tr>\n",
              "      <th>4</th>\n",
              "      <td>digital dvd narrate kenneth branagh glenn clos...</td>\n",
              "      <td>Public</td>\n",
              "    </tr>\n",
              "    <tr>\n",
              "      <th>...</th>\n",
              "      <td>...</td>\n",
              "      <td>...</td>\n",
              "    </tr>\n",
              "    <tr>\n",
              "      <th>1341</th>\n",
              "      <td>steve job aaron sorkin hold call ari pm michae...</td>\n",
              "      <td>Private</td>\n",
              "    </tr>\n",
              "    <tr>\n",
              "      <th>1342</th>\n",
              "      <td>steve job book sale everyone meaning people li...</td>\n",
              "      <td>Private</td>\n",
              "    </tr>\n",
              "    <tr>\n",
              "      <th>1343</th>\n",
              "      <td>leonardo dicaprio eyed steve job movie danny b...</td>\n",
              "      <td>Private</td>\n",
              "    </tr>\n",
              "    <tr>\n",
              "      <th>1344</th>\n",
              "      <td>dakota fan steve job amy dakota met danny boyl...</td>\n",
              "      <td>Private</td>\n",
              "    </tr>\n",
              "    <tr>\n",
              "      <th>1345</th>\n",
              "      <td>steve job book sale copy maybe get little nitp...</td>\n",
              "      <td>Private</td>\n",
              "    </tr>\n",
              "  </tbody>\n",
              "</table>\n",
              "<p>1346 rows × 2 columns</p>\n",
              "</div>"
            ],
            "text/plain": [
              "                                                   Text  DocType\n",
              "0     digital dvd self destructive journalist pierre...   Public\n",
              "1     digital blu ray dvd dave skylark james franco ...   Public\n",
              "2     dvd narrate academy award nominate actor liam ...   Public\n",
              "3     digital dvd chill psychological drama star chr...   Public\n",
              "4     digital dvd narrate kenneth branagh glenn clos...   Public\n",
              "...                                                 ...      ...\n",
              "1341  steve job aaron sorkin hold call ari pm michae...  Private\n",
              "1342  steve job book sale everyone meaning people li...  Private\n",
              "1343  leonardo dicaprio eyed steve job movie danny b...  Private\n",
              "1344  dakota fan steve job amy dakota met danny boyl...  Private\n",
              "1345  steve job book sale copy maybe get little nitp...  Private\n",
              "\n",
              "[1346 rows x 2 columns]"
            ]
          },
          "metadata": {
            "tags": []
          },
          "execution_count": 29
        }
      ]
    },
    {
      "cell_type": "code",
      "metadata": {
        "id": "26YyfIfsbhbr",
        "colab_type": "code",
        "colab": {
          "base_uri": "https://localhost:8080/",
          "height": 442
        },
        "outputId": "09f6c913-3240-484c-b946-4d0314a4269b"
      },
      "source": [
        "df_test = load_data(sony_path, train=0)\n",
        "df_test"
      ],
      "execution_count": 30,
      "outputs": [
        {
          "output_type": "stream",
          "text": [
            "Loading Data...\n"
          ],
          "name": "stdout"
        },
        {
          "output_type": "execute_result",
          "data": {
            "text/html": [
              "<div>\n",
              "<style scoped>\n",
              "    .dataframe tbody tr th:only-of-type {\n",
              "        vertical-align: middle;\n",
              "    }\n",
              "\n",
              "    .dataframe tbody tr th {\n",
              "        vertical-align: top;\n",
              "    }\n",
              "\n",
              "    .dataframe thead th {\n",
              "        text-align: right;\n",
              "    }\n",
              "</style>\n",
              "<table border=\"1\" class=\"dataframe\">\n",
              "  <thead>\n",
              "    <tr style=\"text-align: right;\">\n",
              "      <th></th>\n",
              "      <th>Text</th>\n",
              "      <th>DocType</th>\n",
              "    </tr>\n",
              "  </thead>\n",
              "  <tbody>\n",
              "    <tr>\n",
              "      <th>0</th>\n",
              "      <td>new york february sony picture classic announc...</td>\n",
              "      <td>Public</td>\n",
              "    </tr>\n",
              "    <tr>\n",
              "      <th>1</th>\n",
              "      <td>new york august sony picture classic announce ...</td>\n",
              "      <td>Public</td>\n",
              "    </tr>\n",
              "    <tr>\n",
              "      <th>2</th>\n",
              "      <td>new york may sony picture classic announce tod...</td>\n",
              "      <td>Public</td>\n",
              "    </tr>\n",
              "    <tr>\n",
              "      <th>3</th>\n",
              "      <td>park city ut january first purchase sundance f...</td>\n",
              "      <td>Public</td>\n",
              "    </tr>\n",
              "    <tr>\n",
              "      <th>4</th>\n",
              "      <td>mumbai india culver city ca june sony picture ...</td>\n",
              "      <td>Public</td>\n",
              "    </tr>\n",
              "    <tr>\n",
              "      <th>...</th>\n",
              "      <td>...</td>\n",
              "      <td>...</td>\n",
              "    </tr>\n",
              "    <tr>\n",
              "      <th>333</th>\n",
              "      <td>thewrap first take september least like fall t...</td>\n",
              "      <td>Private</td>\n",
              "    </tr>\n",
              "    <tr>\n",
              "      <th>334</th>\n",
              "      <td>winter reading list everything discuss read va...</td>\n",
              "      <td>Private</td>\n",
              "    </tr>\n",
              "    <tr>\n",
              "      <th>335</th>\n",
              "      <td>thought try onwards robert newman wme rnewman ...</td>\n",
              "      <td>Private</td>\n",
              "    </tr>\n",
              "    <tr>\n",
              "      <th>336</th>\n",
              "      <td>entertainment newsletter movie television cele...</td>\n",
              "      <td>Private</td>\n",
              "    </tr>\n",
              "    <tr>\n",
              "      <th>337</th>\n",
              "      <td>justin lin doug liman worth shot quietly radar...</td>\n",
              "      <td>Private</td>\n",
              "    </tr>\n",
              "  </tbody>\n",
              "</table>\n",
              "<p>338 rows × 2 columns</p>\n",
              "</div>"
            ],
            "text/plain": [
              "                                                  Text  DocType\n",
              "0    new york february sony picture classic announc...   Public\n",
              "1    new york august sony picture classic announce ...   Public\n",
              "2    new york may sony picture classic announce tod...   Public\n",
              "3    park city ut january first purchase sundance f...   Public\n",
              "4    mumbai india culver city ca june sony picture ...   Public\n",
              "..                                                 ...      ...\n",
              "333  thewrap first take september least like fall t...  Private\n",
              "334  winter reading list everything discuss read va...  Private\n",
              "335  thought try onwards robert newman wme rnewman ...  Private\n",
              "336  entertainment newsletter movie television cele...  Private\n",
              "337  justin lin doug liman worth shot quietly radar...  Private\n",
              "\n",
              "[338 rows x 2 columns]"
            ]
          },
          "metadata": {
            "tags": []
          },
          "execution_count": 30
        }
      ]
    },
    {
      "cell_type": "code",
      "metadata": {
        "id": "dT7ilSHUblMd",
        "colab_type": "code",
        "colab": {
          "base_uri": "https://localhost:8080/",
          "height": 1000
        },
        "outputId": "c82f1e49-cf3b-46ff-c8e9-6536d997e08a"
      },
      "source": [
        "%%time\n",
        "sony_df, model_loaded = run_models(sony_path, df_train, ParameterTune=0)"
      ],
      "execution_count": 31,
      "outputs": [
        {
          "output_type": "stream",
          "text": [
            "=================================================\n",
            "Spliting data into training and validation set...\n"
          ],
          "name": "stdout"
        },
        {
          "output_type": "display_data",
          "data": {
            "image/png": "[encoded data removed]",
            "text/plain": [
              "<Figure size 576x432 with 1 Axes>"
            ]
          },
          "metadata": {
            "tags": [],
            "needs_background": "light"
          }
        },
        {
          "output_type": "stream",
          "text": [
            "Size of Training data:  1076\n",
            "Size of Validation data :   270\n",
            "\n",
            "Train Data Distribution\n",
            "Private    621\n",
            "Public     455\n",
            "Name: a, dtype: int64\n",
            "\n",
            "\n",
            "Validation Data Distribution\n",
            "Private    171\n",
            "Public      99\n",
            "Name: a, dtype: int64\n",
            "=================================================\n",
            "\n",
            "Extracting TF-IDF Features...\n",
            "Train Data (n_samples, n_features): (1076, 17352)\n",
            "Test Data (Text, Features): (270, 17352)\n",
            "Features for public train data (554, 3642)\n",
            "Features for private train data (792, 14653)\n",
            "# Public\n",
            ". picture classic\n",
            ". picture\n",
            ". sony\n",
            ". classic\n",
            ". sony picture\n",
            ". film\n",
            ". samuel\n",
            ". match\n",
            ". distribution\n",
            ". entertainment\n",
            ". best\n",
            ". official\n",
            ". barker\n",
            ". bernard\n",
            ". soldier\n",
            ". dance\n",
            ". together\n",
            ". america\n",
            ". include best\n",
            ". michael\n",
            "\n",
            "# Private\n",
            ". mar pm\n",
            ". mar\n",
            ". book sale\n",
            ". sent ipad\n",
            ". ipad\n",
            ". movie think\n",
            ". sale\n",
            ". maybe\n",
            ". keep\n",
            ". write\n",
            ". mil\n",
            ". get little\n",
            ". isaacson book\n",
            ". elizabeth write\n",
            ". pm cantillon\n",
            ". job book\n",
            ". trim\n",
            ". confusion\n",
            ". book\n",
            ". bradley\n",
            "=================================================\n",
            "\n",
            "Hyperparameter Tuning\n"
          ],
          "name": "stdout"
        },
        {
          "output_type": "display_data",
          "data": {
            "image/png": "[encoded data removed]",
            "text/plain": [
              "<Figure size 432x288 with 1 Axes>"
            ]
          },
          "metadata": {
            "tags": [],
            "needs_background": "light"
          }
        },
        {
          "output_type": "stream",
          "text": [
            "=================================================\n",
            "\n",
            "Saving models with best Parameters\n",
            "Saved models successfully at /content/drive/My Drive/Data/congress/models\n",
            "MultinomialNB \n",
            " [[170   1]\n",
            " [  0  99]]\n"
          ],
          "name": "stdout"
        },
        {
          "output_type": "display_data",
          "data": {
            "image/png": "[encoded data removed]",
            "text/plain": [
              "<Figure size 360x360 with 2 Axes>"
            ]
          },
          "metadata": {
            "tags": [],
            "needs_background": "light"
          }
        },
        {
          "output_type": "stream",
          "text": [
            "SVC \n",
            " [[171   0]\n",
            " [  0  99]]\n"
          ],
          "name": "stdout"
        },
        {
          "output_type": "display_data",
          "data": {
            "image/png": "[encoded data removed]",
            "text/plain": [
              "<Figure size 360x360 with 2 Axes>"
            ]
          },
          "metadata": {
            "tags": [],
            "needs_background": "light"
          }
        },
        {
          "output_type": "stream",
          "text": [
            "LogisticRegression \n",
            " [[171   0]\n",
            " [  0  99]]\n"
          ],
          "name": "stdout"
        },
        {
          "output_type": "display_data",
          "data": {
            "image/png": "[encoded data removed]",
            "text/plain": [
              "<Figure size 360x360 with 2 Axes>"
            ]
          },
          "metadata": {
            "tags": [],
            "needs_background": "light"
          }
        },
        {
          "output_type": "stream",
          "text": [
            "RandomForestClassifier \n",
            " [[171   0]\n",
            " [  5  94]]\n"
          ],
          "name": "stdout"
        },
        {
          "output_type": "display_data",
          "data": {
            "image/png": "[encoded data removed]",
            "text/plain": [
              "<Figure size 360x360 with 2 Axes>"
            ]
          },
          "metadata": {
            "tags": [],
            "needs_background": "light"
          }
        },
        {
          "output_type": "stream",
          "text": [
            "CPU times: user 44.3 s, sys: 4.83 s, total: 49.1 s\n",
            "Wall time: 16min 54s\n"
          ],
          "name": "stdout"
        }
      ]
    },
    {
      "cell_type": "code",
      "metadata": {
        "id": "x9HIhwP0b8ur",
        "colab_type": "code",
        "colab": {
          "base_uri": "https://localhost:8080/",
          "height": 227
        },
        "outputId": "f05f064d-27ac-4756-fdc3-7245cf8ae96a"
      },
      "source": [
        "sony_df "
      ],
      "execution_count": 32,
      "outputs": [
        {
          "output_type": "execute_result",
          "data": {
            "text/html": [
              "<div>\n",
              "<style scoped>\n",
              "    .dataframe tbody tr th:only-of-type {\n",
              "        vertical-align: middle;\n",
              "    }\n",
              "\n",
              "    .dataframe tbody tr th {\n",
              "        vertical-align: top;\n",
              "    }\n",
              "\n",
              "    .dataframe thead th {\n",
              "        text-align: right;\n",
              "    }\n",
              "</style>\n",
              "<table border=\"1\" class=\"dataframe\">\n",
              "  <thead>\n",
              "    <tr style=\"text-align: right;\">\n",
              "      <th></th>\n",
              "      <th>Model</th>\n",
              "      <th>Accuracy</th>\n",
              "      <th>Precision (Public Class)</th>\n",
              "      <th>Recall (Public Class)</th>\n",
              "      <th>F1 Score (Public Class)</th>\n",
              "      <th>Precision (Private Class)</th>\n",
              "      <th>Recall (Private Class)</th>\n",
              "      <th>F1 Score (Private Class)</th>\n",
              "    </tr>\n",
              "  </thead>\n",
              "  <tbody>\n",
              "    <tr>\n",
              "      <th>0</th>\n",
              "      <td>Multinomial Naive Bayes</td>\n",
              "      <td>1.00</td>\n",
              "      <td>1.00</td>\n",
              "      <td>0.99</td>\n",
              "      <td>0.99</td>\n",
              "      <td>0.99</td>\n",
              "      <td>1.00</td>\n",
              "      <td>0.99</td>\n",
              "    </tr>\n",
              "    <tr>\n",
              "      <th>1</th>\n",
              "      <td>Support Vector Classifier</td>\n",
              "      <td>1.00</td>\n",
              "      <td>1.00</td>\n",
              "      <td>1.00</td>\n",
              "      <td>1.00</td>\n",
              "      <td>1.00</td>\n",
              "      <td>1.00</td>\n",
              "      <td>1.00</td>\n",
              "    </tr>\n",
              "    <tr>\n",
              "      <th>2</th>\n",
              "      <td>Logistic Regression</td>\n",
              "      <td>1.00</td>\n",
              "      <td>1.00</td>\n",
              "      <td>1.00</td>\n",
              "      <td>1.00</td>\n",
              "      <td>1.00</td>\n",
              "      <td>1.00</td>\n",
              "      <td>1.00</td>\n",
              "    </tr>\n",
              "    <tr>\n",
              "      <th>3</th>\n",
              "      <td>Random Forest</td>\n",
              "      <td>0.98</td>\n",
              "      <td>0.95</td>\n",
              "      <td>1.00</td>\n",
              "      <td>0.97</td>\n",
              "      <td>1.00</td>\n",
              "      <td>0.97</td>\n",
              "      <td>0.98</td>\n",
              "    </tr>\n",
              "  </tbody>\n",
              "</table>\n",
              "</div>"
            ],
            "text/plain": [
              "                       Model  ...  F1 Score (Private Class)\n",
              "0    Multinomial Naive Bayes  ...                      0.99\n",
              "1  Support Vector Classifier  ...                      1.00\n",
              "2        Logistic Regression  ...                      1.00\n",
              "3              Random Forest  ...                      0.98\n",
              "\n",
              "[4 rows x 8 columns]"
            ]
          },
          "metadata": {
            "tags": []
          },
          "execution_count": 32
        }
      ]
    },
    {
      "cell_type": "code",
      "metadata": {
        "id": "X6Crh47JcCN4",
        "colab_type": "code",
        "colab": {
          "base_uri": "https://localhost:8080/",
          "height": 1000
        },
        "outputId": "6cf1f17c-42a1-434a-df16-f68022907f65"
      },
      "source": [
        "validationResults(sony_path, df_test, model_loaded)"
      ],
      "execution_count": 33,
      "outputs": [
        {
          "output_type": "stream",
          "text": [
            "Test Data Distribution\n",
            "Private    201\n",
            "Public     137\n",
            "Name: a, dtype: int64\n",
            "MultinomialNB \n",
            " [[199   2]\n",
            " [  0 137]]\n"
          ],
          "name": "stdout"
        },
        {
          "output_type": "display_data",
          "data": {
            "image/png": "[encoded data removed]",
            "text/plain": [
              "<Figure size 360x360 with 2 Axes>"
            ]
          },
          "metadata": {
            "tags": [],
            "needs_background": "light"
          }
        },
        {
          "output_type": "stream",
          "text": [
            "SVC \n",
            " [[201   0]\n",
            " [  0 137]]\n"
          ],
          "name": "stdout"
        },
        {
          "output_type": "display_data",
          "data": {
            "image/png": "[encoded data removed]",
            "text/plain": [
              "<Figure size 360x360 with 2 Axes>"
            ]
          },
          "metadata": {
            "tags": [],
            "needs_background": "light"
          }
        },
        {
          "output_type": "stream",
          "text": [
            "LogisticRegression \n",
            " [[201   0]\n",
            " [  0 137]]\n"
          ],
          "name": "stdout"
        },
        {
          "output_type": "display_data",
          "data": {
            "image/png": "[encoded data removed]",
            "text/plain": [
              "<Figure size 360x360 with 2 Axes>"
            ]
          },
          "metadata": {
            "tags": [],
            "needs_background": "light"
          }
        },
        {
          "output_type": "stream",
          "text": [
            "RandomForestClassifier \n",
            " [[201   0]\n",
            " [  0 137]]\n"
          ],
          "name": "stdout"
        },
        {
          "output_type": "display_data",
          "data": {
            "image/png": "[encoded data removed]",
            "text/plain": [
              "<Figure size 360x360 with 2 Axes>"
            ]
          },
          "metadata": {
            "tags": [],
            "needs_background": "light"
          }
        },
        {
          "output_type": "display_data",
          "data": {
            "image/png": "[encoded data removed]",
            "text/plain": [
              "<Figure size 432x288 with 1 Axes>"
            ]
          },
          "metadata": {
            "tags": [],
            "needs_background": "light"
          }
        }
      ]
    },
    {
      "cell_type": "code",
      "metadata": {
        "id": "iRgsrfI4H03d",
        "colab_type": "code",
        "colab": {
          "base_uri": "https://localhost:8080/",
          "height": 175
        },
        "outputId": "74cf59a1-b9bb-4ea4-f433-8cabbf7ea0f0"
      },
      "source": [
        "df = pd.DataFrame(cong_df['Model'])\n",
        "df['Congress'] = cong_df['Accuracy']\n",
        "df['Iraq'] = iraq_df['Accuracy']\n",
        "df['Sony'] = sony_df['Accuracy']\n",
        "df"
      ],
      "execution_count": 37,
      "outputs": [
        {
          "output_type": "execute_result",
          "data": {
            "text/html": [
              "<div>\n",
              "<style scoped>\n",
              "    .dataframe tbody tr th:only-of-type {\n",
              "        vertical-align: middle;\n",
              "    }\n",
              "\n",
              "    .dataframe tbody tr th {\n",
              "        vertical-align: top;\n",
              "    }\n",
              "\n",
              "    .dataframe thead th {\n",
              "        text-align: right;\n",
              "    }\n",
              "</style>\n",
              "<table border=\"1\" class=\"dataframe\">\n",
              "  <thead>\n",
              "    <tr style=\"text-align: right;\">\n",
              "      <th></th>\n",
              "      <th>Model</th>\n",
              "      <th>Congress</th>\n",
              "      <th>Iraq</th>\n",
              "      <th>Sony</th>\n",
              "    </tr>\n",
              "  </thead>\n",
              "  <tbody>\n",
              "    <tr>\n",
              "      <th>0</th>\n",
              "      <td>Multinomial Naive Bayes</td>\n",
              "      <td>0.98</td>\n",
              "      <td>1.0</td>\n",
              "      <td>1.00</td>\n",
              "    </tr>\n",
              "    <tr>\n",
              "      <th>1</th>\n",
              "      <td>Support Vector Classifier</td>\n",
              "      <td>0.99</td>\n",
              "      <td>1.0</td>\n",
              "      <td>1.00</td>\n",
              "    </tr>\n",
              "    <tr>\n",
              "      <th>2</th>\n",
              "      <td>Logistic Regression</td>\n",
              "      <td>0.98</td>\n",
              "      <td>1.0</td>\n",
              "      <td>1.00</td>\n",
              "    </tr>\n",
              "    <tr>\n",
              "      <th>3</th>\n",
              "      <td>Random Forest</td>\n",
              "      <td>0.89</td>\n",
              "      <td>1.0</td>\n",
              "      <td>0.98</td>\n",
              "    </tr>\n",
              "  </tbody>\n",
              "</table>\n",
              "</div>"
            ],
            "text/plain": [
              "                       Model  Congress  Iraq  Sony\n",
              "0    Multinomial Naive Bayes      0.98   1.0  1.00\n",
              "1  Support Vector Classifier      0.99   1.0  1.00\n",
              "2        Logistic Regression      0.98   1.0  1.00\n",
              "3              Random Forest      0.89   1.0  0.98"
            ]
          },
          "metadata": {
            "tags": []
          },
          "execution_count": 37
        }
      ]
    },
    {
      "cell_type": "code",
      "metadata": {
        "id": "S_AZ_HwFIOKI",
        "colab_type": "code",
        "colab": {}
      },
      "source": [
        ""
      ],
      "execution_count": 0,
      "outputs": []
    }
  ]
}