{
  "nbformat": 4,
  "nbformat_minor": 0,
  "metadata": {
    "colab": {
      "name": "USCongress.ipynb",
      "provenance": [],
      "collapsed_sections": [],
      "authorship_tag": "ABX9TyMNpxUCCAXRa+QPq1t0dnv+",
      "include_colab_link": true
    },
    "kernelspec": {
      "name": "python3",
      "display_name": "Python 3"
    }
  },
  "cells": [
    {
      "cell_type": "markdown",
      "metadata": {
        "id": "view-in-github",
        "colab_type": "text"
      },
      "source": [
        "<a href=\"https://colab.research.google.com/github/rayshu/Data-Classification/blob/master/USCongress.ipynb\" target=\"_parent\"><img src=\"https://colab.research.google.com/assets/colab-badge.svg\" alt=\"Open In Colab\"/></a>"
      ]
    },
    {
      "cell_type": "code",
      "metadata": {
        "id": "H1brz9Rt1qa3",
        "colab_type": "code",
        "outputId": "f5c83f36-faa5-40e8-d998-9bdb484d5b9e",
        "colab": {
          "base_uri": "https://localhost:8080/",
          "height": 122
        }
      },
      "source": [
        "from google.colab import drive\n",
        "drive.mount('/content/drive')"
      ],
      "execution_count": 1,
      "outputs": [
        {
          "output_type": "stream",
          "text": [
            "Go to this URL in a browser: https://accounts.google.com/o/oauth2/auth?client_id=947318989803-6bn6qk8qdgf4n4g3pfee6491hc0brc4i.apps.googleusercontent.com&redirect_uri=urn%3aietf%3awg%3aoauth%3a2.0%3aoob&response_type=code&scope=email%20https%3a%2f%2fwww.googleapis.com%2fauth%2fdocs.test%20https%3a%2f%2fwww.googleapis.com%2fauth%2fdrive%20https%3a%2f%2fwww.googleapis.com%2fauth%2fdrive.photos.readonly%20https%3a%2f%2fwww.googleapis.com%2fauth%2fpeopleapi.readonly\n",
            "\n",
            "Enter your authorization code:\n",
            "··········\n",
            "Mounted at /content/drive\n"
          ],
          "name": "stdout"
        }
      ]
    },
    {
      "cell_type": "markdown",
      "metadata": {
        "id": "2ZN1GnGH2ZvR",
        "colab_type": "text"
      },
      "source": [
        "# import packages"
      ]
    },
    {
      "cell_type": "code",
      "metadata": {
        "id": "DklO98Ae17XS",
        "colab_type": "code",
        "colab": {}
      },
      "source": [
        "import pandas as pd\n",
        "import numpy as np\n",
        "from sklearn.feature_extraction.text import TfidfVectorizer\n",
        "from sklearn import model_selection, svm\n",
        "from sklearn.metrics import accuracy_score\n",
        "import matplotlib.pyplot as plt\n",
        "import seaborn as sns\n",
        "# from sklearn.feature_selection import chi2\n",
        "from sklearn.metrics import confusion_matrix\n",
        "from sklearn.ensemble import RandomForestClassifier\n",
        "from sklearn.linear_model import LogisticRegression\n",
        "from sklearn.naive_bayes import MultinomialNB\n",
        "from sklearn.svm import LinearSVC\n",
        "from sklearn.model_selection import cross_val_score"
      ],
      "execution_count": 0,
      "outputs": []
    },
    {
      "cell_type": "code",
      "metadata": {
        "id": "w5tc-1I32q7u",
        "colab_type": "code",
        "colab": {}
      },
      "source": [
        "df = pd.read_csv(\"/content/drive/My Drive/Data/usCongressClean.csv\")\n",
        "np.random.seed(1000)"
      ],
      "execution_count": 0,
      "outputs": []
    },
    {
      "cell_type": "code",
      "metadata": {
        "id": "c43YYfBd3OjF",
        "colab_type": "code",
        "outputId": "2e17443c-5ea0-4aac-bac7-112cc5b20771",
        "colab": {
          "base_uri": "https://localhost:8080/",
          "height": 419
        }
      },
      "source": [
        "df_ent = df.loc[(df['DocType']==\"Public\") | (df[\"DocType\"]==\"Private\"),:]\n",
        "df_ent.loc[:,'DocType_id'] = df_ent['DocType'].map({\"Public\":0, \"Private\":1})\n",
        "df_ent"
      ],
      "execution_count": 4,
      "outputs": [
        {
          "output_type": "execute_result",
          "data": {
            "text/html": [
              "<div>\n",
              "<style scoped>\n",
              "    .dataframe tbody tr th:only-of-type {\n",
              "        vertical-align: middle;\n",
              "    }\n",
              "\n",
              "    .dataframe tbody tr th {\n",
              "        vertical-align: top;\n",
              "    }\n",
              "\n",
              "    .dataframe thead th {\n",
              "        text-align: right;\n",
              "    }\n",
              "</style>\n",
              "<table border=\"1\" class=\"dataframe\">\n",
              "  <thead>\n",
              "    <tr style=\"text-align: right;\">\n",
              "      <th></th>\n",
              "      <th>Text</th>\n",
              "      <th>DocType</th>\n",
              "      <th>DocType_id</th>\n",
              "    </tr>\n",
              "  </thead>\n",
              "  <tbody>\n",
              "    <tr>\n",
              "      <th>0</th>\n",
              "      <td>amend federal water pollution control act esta...</td>\n",
              "      <td>Public</td>\n",
              "      <td>0</td>\n",
              "    </tr>\n",
              "    <tr>\n",
              "      <th>1</th>\n",
              "      <td>amend public health service act establish gran...</td>\n",
              "      <td>Public</td>\n",
              "      <td>0</td>\n",
              "    </tr>\n",
              "    <tr>\n",
              "      <th>2</th>\n",
              "      <td>authorize secretary education make grant eligi...</td>\n",
              "      <td>Public</td>\n",
              "      <td>0</td>\n",
              "    </tr>\n",
              "    <tr>\n",
              "      <th>3</th>\n",
              "      <td>authorize secretary interior conduct study ass...</td>\n",
              "      <td>Public</td>\n",
              "      <td>0</td>\n",
              "    </tr>\n",
              "    <tr>\n",
              "      <th>4</th>\n",
              "      <td>redesignate weir farm national historic site s...</td>\n",
              "      <td>Public</td>\n",
              "      <td>0</td>\n",
              "    </tr>\n",
              "    <tr>\n",
              "      <th>...</th>\n",
              "      <td>...</td>\n",
              "      <td>...</td>\n",
              "      <td>...</td>\n",
              "    </tr>\n",
              "    <tr>\n",
              "      <th>1365</th>\n",
              "      <td>base upon groundbreaking supreme court decisio...</td>\n",
              "      <td>Private</td>\n",
              "      <td>1</td>\n",
              "    </tr>\n",
              "    <tr>\n",
              "      <th>1366</th>\n",
              "      <td>event cr report number r author k alan kronsta...</td>\n",
              "      <td>Private</td>\n",
              "      <td>1</td>\n",
              "    </tr>\n",
              "    <tr>\n",
              "      <th>1367</th>\n",
              "      <td>homeland security intelligence perception stat...</td>\n",
              "      <td>Private</td>\n",
              "      <td>1</td>\n",
              "    </tr>\n",
              "    <tr>\n",
              "      <th>1368</th>\n",
              "      <td>e amend cr report number author harold c relye...</td>\n",
              "      <td>Private</td>\n",
              "      <td>1</td>\n",
              "    </tr>\n",
              "    <tr>\n",
              "      <th>1369</th>\n",
              "      <td>national special security event cr report numb...</td>\n",
              "      <td>Private</td>\n",
              "      <td>1</td>\n",
              "    </tr>\n",
              "  </tbody>\n",
              "</table>\n",
              "<p>1370 rows × 3 columns</p>\n",
              "</div>"
            ],
            "text/plain": [
              "                                                   Text  DocType  DocType_id\n",
              "0     amend federal water pollution control act esta...   Public           0\n",
              "1     amend public health service act establish gran...   Public           0\n",
              "2     authorize secretary education make grant eligi...   Public           0\n",
              "3     authorize secretary interior conduct study ass...   Public           0\n",
              "4     redesignate weir farm national historic site s...   Public           0\n",
              "...                                                 ...      ...         ...\n",
              "1365  base upon groundbreaking supreme court decisio...  Private           1\n",
              "1366  event cr report number r author k alan kronsta...  Private           1\n",
              "1367  homeland security intelligence perception stat...  Private           1\n",
              "1368  e amend cr report number author harold c relye...  Private           1\n",
              "1369  national special security event cr report numb...  Private           1\n",
              "\n",
              "[1370 rows x 3 columns]"
            ]
          },
          "metadata": {
            "tags": []
          },
          "execution_count": 4
        }
      ]
    },
    {
      "cell_type": "markdown",
      "metadata": {
        "id": "JaVspmwC3kdT",
        "colab_type": "text"
      },
      "source": [
        "## data distribution"
      ]
    },
    {
      "cell_type": "code",
      "metadata": {
        "id": "kpFcSTcf5uDl",
        "colab_type": "code",
        "outputId": "6550b1d3-9540-4ca8-f6c1-9f73419a41b7",
        "colab": {
          "base_uri": "https://localhost:8080/",
          "height": 429
        }
      },
      "source": [
        "import matplotlib.pyplot as plt\n",
        "fig = plt.figure(figsize=(8,6))\n",
        "graph = df.groupby('DocType').Text.count().plot.bar(ylim=0)\n",
        "\n",
        "for p in graph.patches:\n",
        "        graph.annotate('{:.0f}'.format(p.get_height()), (p.get_x()+0.3, p.get_height()))\n",
        "graph.set_title('Data Distribution') \n",
        "plt.show()"
      ],
      "execution_count": 5,
      "outputs": [
        {
          "output_type": "display_data",
          "data": {
            "image/png": "[encoded data removed]",
            "text/plain": [
              "<Figure size 576x432 with 1 Axes>"
            ]
          },
          "metadata": {
            "tags": []
          }
        }
      ]
    },
    {
      "cell_type": "code",
      "metadata": {
        "id": "C6p9jopv-h88",
        "colab_type": "code",
        "colab": {}
      },
      "source": [
        "doctype_id_df = pd.DataFrame({'DocType':[\"Public\", \"Private\"], 'doctype_id': [0, 1]} ) "
      ],
      "execution_count": 0,
      "outputs": []
    },
    {
      "cell_type": "markdown",
      "metadata": {
        "id": "06U_fztn3rmD",
        "colab_type": "text"
      },
      "source": [
        "## Train Test Split"
      ]
    },
    {
      "cell_type": "code",
      "metadata": {
        "id": "jazccJbt3nMP",
        "colab_type": "code",
        "outputId": "b3d409f9-8549-45d2-f420-0149118ccb63",
        "colab": {
          "base_uri": "https://localhost:8080/",
          "height": 51
        }
      },
      "source": [
        "Train_X, Test_X, Train_Y, Test_Y = model_selection.train_test_split(df_ent['Text'],df_ent['DocType'],test_size=0.2)\n",
        "print('Train Size: ', Train_X.shape[0])\n",
        "print('Test Size :  ', Test_X.shape[0])"
      ],
      "execution_count": 8,
      "outputs": [
        {
          "output_type": "stream",
          "text": [
            "Train Size:  1096\n",
            "Test Size :   274\n"
          ],
          "name": "stdout"
        }
      ]
    },
    {
      "cell_type": "code",
      "metadata": {
        "id": "1NebGNHlS2m5",
        "colab_type": "code",
        "outputId": "ff679265-f432-4893-e50f-af033fea9dfc",
        "colab": {
          "base_uri": "https://localhost:8080/",
          "height": 187
        }
      },
      "source": [
        "Train_counts = pd.DataFrame(Train_Y.values, columns = list('a'))\n",
        "print('Train Data Distribution')\n",
        "print(Train_counts['a'].value_counts())\n",
        "\n",
        "Test_counts = pd.DataFrame(Test_Y.values, columns = list('a'))\n",
        "print('\\n\\nTest Data Distribution')\n",
        "print(Test_counts['a'].value_counts())"
      ],
      "execution_count": 9,
      "outputs": [
        {
          "output_type": "stream",
          "text": [
            "Train Data Distribution\n",
            "Public     793\n",
            "Private    303\n",
            "Name: a, dtype: int64\n",
            "\n",
            "\n",
            "Test Data Distribution\n",
            "Public     207\n",
            "Private     67\n",
            "Name: a, dtype: int64\n"
          ],
          "name": "stdout"
        }
      ]
    },
    {
      "cell_type": "markdown",
      "metadata": {
        "id": "8HM38dWJ303s",
        "colab_type": "text"
      },
      "source": [
        "## tf-idf Vectors"
      ]
    },
    {
      "cell_type": "code",
      "metadata": {
        "id": "eu31q-kC3uEN",
        "colab_type": "code",
        "outputId": "2fcab923-6a24-4d91-e704-5584431f2a94",
        "colab": {
          "base_uri": "https://localhost:8080/",
          "height": 34
        }
      },
      "source": [
        "Tfidf_vect = TfidfVectorizer(ngram_range=(1,2))\n",
        "#Learn the vocabulary\n",
        "Tfidf_vect.fit(df_ent['Text'])\n",
        "print(\"No. of Features:\", Train_X_Tfidf.shape[1])\n",
        "Train_X_Tfidf = Tfidf_vect.transform(Train_X)\n",
        "Test_X_Tfidf = Tfidf_vect.transform(Test_X)"
      ],
      "execution_count": 14,
      "outputs": [
        {
          "output_type": "stream",
          "text": [
            "No. of Features: 26863\n"
          ],
          "name": "stdout"
        }
      ]
    },
    {
      "cell_type": "markdown",
      "metadata": {
        "id": "EVzTKhHwpbKA",
        "colab_type": "text"
      },
      "source": [
        "### Top tf-idf features"
      ]
    },
    {
      "cell_type": "code",
      "metadata": {
        "id": "g5yoa5Xjparz",
        "colab_type": "code",
        "outputId": "2003bed5-f291-403f-bb68-04f1e6ab756a",
        "colab": {
          "base_uri": "https://localhost:8080/",
          "height": 51
        }
      },
      "source": [
        "df_public = df_ent.loc[df_ent[\"DocType\"]==\"Public\",:]\n",
        "df_private = df_ent.loc[df_ent[\"DocType\"]==\"Private\"]\n",
        "features_public = Tfidf_vect.fit_transform(df_public.Text)\n",
        "features_private = Tfidf_vect.fit_transform(df_private.Text)\n",
        "labels_public = df_public.DocType_id\n",
        "labels_private = df_private.DocType_id\n",
        "print(\"Features for public train data\", features_public.shape)\n",
        "print(\"Features for private train data\", features_private.shape)"
      ],
      "execution_count": 15,
      "outputs": [
        {
          "output_type": "stream",
          "text": [
            "Features for public train data (1000, 5827)\n",
            "Features for private train data (370, 22226)\n"
          ],
          "name": "stdout"
        }
      ]
    },
    {
      "cell_type": "code",
      "metadata": {
        "id": "y9bO7AjPqzUZ",
        "colab_type": "code",
        "outputId": "d49e54b2-7eaa-4c09-a732-aeacc748103a",
        "colab": {
          "base_uri": "https://localhost:8080/",
          "height": 374
        }
      },
      "source": [
        "N = 20\n",
        "\n",
        "#Public data\n",
        "features_public = Tfidf_vect.fit_transform(df_public.Text)\n",
        "feature_names = np.array(Tfidf_vect.get_feature_names())\n",
        "tfidf_sorting = np.argsort(features_public.toarray()).flatten()[::-1]\n",
        "top_public = feature_names[tfidf_sorting][:N]\n",
        "# print(Tfidf_vect.vocabulary_)\n",
        "print('# Public')\n",
        "print(\". {}\".format('\\n. '.join(top_public)))\n"
      ],
      "execution_count": 16,
      "outputs": [
        {
          "output_type": "stream",
          "text": [
            "# Public\n",
            ". percent act\n",
            ". percent\n",
            ". act\n",
            ". export act\n",
            ". experience act\n",
            ". explanation\n",
            ". explanation benefit\n",
            ". exploit\n",
            ". exploit child\n",
            ". exploitation\n",
            ". exploitation act\n",
            ". export\n",
            ". zvarychuk\n",
            ". expense purpose\n",
            ". export clean\n",
            ". export credit\n",
            ". export finance\n",
            ". exposure\n",
            ". exposure protection\n",
            ". exposure relate\n"
          ],
          "name": "stdout"
        }
      ]
    },
    {
      "cell_type": "code",
      "metadata": {
        "id": "8EQ1QTmw8PGn",
        "colab_type": "code",
        "outputId": "c241221e-6e6f-4175-ee6f-5b762e4e2534",
        "colab": {
          "base_uri": "https://localhost:8080/",
          "height": 391
        }
      },
      "source": [
        "#Private data\n",
        "features_private = Tfidf_vect.fit_transform(df_private.Text)\n",
        "feature_names = np.array(Tfidf_vect.get_feature_names())\n",
        "tfidf_sorting = np.argsort(features_private.toarray()).flatten()[::-1]\n",
        "top_private = feature_names[tfidf_sorting][:N]\n",
        "# print(Tfidf_vect.vocabulary_)\n",
        "# features_private_dict = {'Features':Tfidf_vect.vocabulary_.keys(), 'Values': Tfidf_vect.vocabulary_.values()} \n",
        "print('\\n# Private')\n",
        "print(\". {}\".format('\\n. '.join(top_private)))\n",
        "# features_private_dict"
      ],
      "execution_count": 17,
      "outputs": [
        {
          "output_type": "stream",
          "text": [
            "\n",
            "# Private\n",
            ". event\n",
            ". security event\n",
            ". special security\n",
            ". national special\n",
            ". nsse\n",
            ". designate\n",
            ". special\n",
            ". usss\n",
            ". security\n",
            ". lead\n",
            ". major\n",
            ". national\n",
            ". presidential\n",
            ". funding\n",
            ". president representative\n",
            ". major sport\n",
            ". meeting secret\n",
            ". sport event\n",
            ". designate event\n",
            ". major event\n"
          ],
          "name": "stdout"
        }
      ]
    },
    {
      "cell_type": "markdown",
      "metadata": {
        "id": "r5ZAuEAWpYA-",
        "colab_type": "text"
      },
      "source": [
        "## Top 10 features for SVM classifier"
      ]
    },
    {
      "cell_type": "code",
      "metadata": {
        "id": "RaFVfVek33zz",
        "colab_type": "code",
        "outputId": "a19f6382-2ed6-473a-e0ec-18ff313f9cbe",
        "colab": {
          "base_uri": "https://localhost:8080/",
          "height": 85
        }
      },
      "source": [
        "clf = svm.SVC(C=1.0, kernel='linear', degree=3, gamma='auto',random_state=0)\n",
        "clf.fit(Train_X_Tfidf,Train_Y)"
      ],
      "execution_count": 18,
      "outputs": [
        {
          "output_type": "execute_result",
          "data": {
            "text/plain": [
              "SVC(C=1.0, break_ties=False, cache_size=200, class_weight=None, coef0=0.0,\n",
              "    decision_function_shape='ovr', degree=3, gamma='auto', kernel='linear',\n",
              "    max_iter=-1, probability=False, random_state=0, shrinking=True, tol=0.001,\n",
              "    verbose=False)"
            ]
          },
          "metadata": {
            "tags": []
          },
          "execution_count": 18
        }
      ]
    },
    {
      "cell_type": "code",
      "metadata": {
        "id": "azujbJRO9f6o",
        "colab_type": "code",
        "outputId": "066cb8a2-0f8c-4aaa-fe42-172580a2a017",
        "colab": {
          "base_uri": "https://localhost:8080/",
          "height": 479
        }
      },
      "source": [
        "\n",
        "N = 10\n",
        "Tfidf_vect.fit(df_ent['Text'])\n",
        "def feature_plot(classifier, feature_names, top_features=N):\n",
        " coef = classifier.coef_.toarray()[0]\n",
        " top_positive_coefficients = np.argsort(coef)[-top_features:]\n",
        " top_negative_coefficients = np.argsort(coef)[:top_features]\n",
        " top_coefficients = np.hstack([top_negative_coefficients, top_positive_coefficients])\n",
        " plt.figure(figsize=(7, 7))\n",
        " colors = ['green' if c < 0 else 'blue' for c in coef[top_coefficients]]\n",
        " plt.bar(np.arange(2 * top_features), coef[top_coefficients], color=colors)\n",
        " feature_names = np.array(feature_names)\n",
        " plt.xticks(np.arange(1 + 2 * top_features), feature_names[top_coefficients], rotation=45, ha='right')\n",
        " plt.show()\n",
        "\n",
        "feature_plot(clf, Tfidf_vect.get_feature_names())\n"
      ],
      "execution_count": 19,
      "outputs": [
        {
          "output_type": "display_data",
          "data": {
            "image/png": "[encoded data removed]",
            "text/plain": [
              "<Figure size 504x504 with 1 Axes>"
            ]
          },
          "metadata": {
            "tags": []
          }
        }
      ]
    },
    {
      "cell_type": "markdown",
      "metadata": {
        "id": "OuCUg777D0k0",
        "colab_type": "text"
      },
      "source": [
        "# Model Selection"
      ]
    },
    {
      "cell_type": "code",
      "metadata": {
        "id": "1YTT4X2JC-IE",
        "colab_type": "code",
        "outputId": "f7589e70-1be6-438f-bd07-b8071aaa5e67",
        "colab": {
          "base_uri": "https://localhost:8080/",
          "height": 280
        }
      },
      "source": [
        "models = [\n",
        "    RandomForestClassifier(n_estimators=200, max_depth=3, random_state=0),\n",
        "    # LinearSVC(),\n",
        "    svm.SVC(C=1.0, kernel='linear', degree=3, gamma='auto',random_state=0),\n",
        "    MultinomialNB(),\n",
        "    LogisticRegression(random_state=0),\n",
        "]\n",
        "CV = 5\n",
        "cv_df = pd.DataFrame(index=range(CV * len(models)))\n",
        "entries = []\n",
        "for model in models:\n",
        "    model_name = model.__class__.__name__\n",
        "    accuracies = cross_val_score(model, Train_X_Tfidf, Train_Y, scoring='accuracy', cv=CV)\n",
        "    for fold_idx, accuracy in enumerate(accuracies):\n",
        "        entries.append((model_name, fold_idx, accuracy))\n",
        "cv_df = pd.DataFrame(entries, columns=['model_name', 'fold_idx', 'accuracy'])\n",
        "import seaborn as sns\n",
        "sns.boxplot(x='model_name', y='accuracy', data=cv_df)\n",
        "sns.stripplot(x='model_name', y='accuracy', data=cv_df, \n",
        "              size=8, jitter=True, edgecolor=\"gray\", linewidth=2)\n",
        "plt.show()"
      ],
      "execution_count": 20,
      "outputs": [
        {
          "output_type": "display_data",
          "data": {
            "image/png": "[encoded data removed]",
            "text/plain": [
              "<Figure size 432x288 with 1 Axes>"
            ]
          },
          "metadata": {
            "tags": []
          }
        }
      ]
    },
    {
      "cell_type": "code",
      "metadata": {
        "id": "Yn-c8mNYD30u",
        "colab_type": "code",
        "outputId": "f444f872-cc26-43f1-fd8b-f940cac2fa91",
        "colab": {
          "base_uri": "https://localhost:8080/",
          "height": 119
        }
      },
      "source": [
        "cv_df.groupby('model_name').accuracy.mean()"
      ],
      "execution_count": 21,
      "outputs": [
        {
          "output_type": "execute_result",
          "data": {
            "text/plain": [
              "model_name\n",
              "LogisticRegression        0.988140\n",
              "MultinomialNB             0.998174\n",
              "RandomForestClassifier    0.976281\n",
              "SVC                       0.999087\n",
              "Name: accuracy, dtype: float64"
            ]
          },
          "metadata": {
            "tags": []
          },
          "execution_count": 21
        }
      ]
    },
    {
      "cell_type": "markdown",
      "metadata": {
        "id": "2zuJ5l7rEB9D",
        "colab_type": "text"
      },
      "source": [
        "## Model Evaluation"
      ]
    },
    {
      "cell_type": "code",
      "metadata": {
        "id": "suPNGgYpDcCM",
        "colab_type": "code",
        "outputId": "55f974fd-32d0-48e9-af7d-1fc4330a73ed",
        "colab": {
          "base_uri": "https://localhost:8080/",
          "height": 1000
        }
      },
      "source": [
        "for model in models:   \n",
        "    model_name = model.__class__.__name__\n",
        "    model.fit(Train_X_Tfidf,Train_Y)\n",
        "    predictions = model.predict(Test_X_Tfidf)\n",
        "    conf_mat = confusion_matrix(Test_Y, predictions)\n",
        "    \n",
        "    print(model_name, '\\n', conf_mat)\n",
        "    fig, ax = plt.subplots(figsize=(5,5))\n",
        "    sns.heatmap(conf_mat, annot=True, fmt='d',\n",
        "            xticklabels=doctype_id_df.DocType.values, yticklabels=doctype_id_df.DocType.values)\n",
        "    plt.title(model_name)\n",
        "    plt.ylabel('Actual')\n",
        "    plt.xlabel('Predicted')"
      ],
      "execution_count": 22,
      "outputs": [
        {
          "output_type": "stream",
          "text": [
            "RandomForestClassifier \n",
            " [[ 58   9]\n",
            " [  0 207]]\n",
            "SVC \n",
            " [[ 66   1]\n",
            " [  0 207]]\n",
            "MultinomialNB \n",
            " [[ 67   0]\n",
            " [  0 207]]\n",
            "LogisticRegression \n",
            " [[ 62   5]\n",
            " [  0 207]]\n"
          ],
          "name": "stdout"
        },
        {
          "output_type": "display_data",
          "data": {
            "image/png": "[encoded data removed]",
            "text/plain": [
              "<Figure size 360x360 with 2 Axes>"
            ]
          },
          "metadata": {
            "tags": []
          }
        },
        {
          "output_type": "display_data",
          "data": {
            "image/png": "[encoded data removed]",
            "text/plain": [
              "<Figure size 360x360 with 2 Axes>"
            ]
          },
          "metadata": {
            "tags": []
          }
        },
        {
          "output_type": "display_data",
          "data": {
            "image/png": "[encoded data removed]",
            "text/plain": [
              "<Figure size 360x360 with 2 Axes>"
            ]
          },
          "metadata": {
            "tags": []
          }
        },
        {
          "output_type": "display_data",
          "data": {
            "image/png": "[encoded data removed]",
            "text/plain": [
              "<Figure size 360x360 with 2 Axes>"
            ]
          },
          "metadata": {
            "tags": []
          }
        }
      ]
    },
    {
      "cell_type": "code",
      "metadata": {
        "id": "esrThnfHEhgs",
        "colab_type": "code",
        "outputId": "86413c52-70b4-40fa-f001-1b12daef8640",
        "colab": {
          "base_uri": "https://localhost:8080/",
          "height": 241
        }
      },
      "source": [
        "dict = {'Model':[\"Random Forest\", \"Linear Support Vector Classifier\", \"Multinomial Naive Bayes\", \"Logistic Regression\"], \n",
        "        'Precision (Public Class)': precision_public_list, \n",
        "        'Recall (Public Class)': recall_public_list,\n",
        "        'F1 Score (Public Class)': f1_public_list,\n",
        "        'Precision (Private Class)': precision_private_list,\n",
        "        'Recall (Private Class)': recall_private_list,\n",
        "        'F1 Score (Private Class)': f1_private_list\n",
        "        } \n",
        "    \n",
        "evaluation_df = pd.DataFrame(dict) \n",
        "evaluation_df"
      ],
      "execution_count": 0,
      "outputs": [
        {
          "output_type": "execute_result",
          "data": {
            "text/html": [
              "<div>\n",
              "<style scoped>\n",
              "    .dataframe tbody tr th:only-of-type {\n",
              "        vertical-align: middle;\n",
              "    }\n",
              "\n",
              "    .dataframe tbody tr th {\n",
              "        vertical-align: top;\n",
              "    }\n",
              "\n",
              "    .dataframe thead th {\n",
              "        text-align: right;\n",
              "    }\n",
              "</style>\n",
              "<table border=\"1\" class=\"dataframe\">\n",
              "  <thead>\n",
              "    <tr style=\"text-align: right;\">\n",
              "      <th></th>\n",
              "      <th>Model</th>\n",
              "      <th>Precision (Public Class)</th>\n",
              "      <th>Recall (Public Class)</th>\n",
              "      <th>F1 Score (Public Class)</th>\n",
              "      <th>Precision (Private Class)</th>\n",
              "      <th>Recall (Private Class)</th>\n",
              "      <th>F1 Score (Private Class)</th>\n",
              "    </tr>\n",
              "  </thead>\n",
              "  <tbody>\n",
              "    <tr>\n",
              "      <th>0</th>\n",
              "      <td>Random Forest</td>\n",
              "      <td>0.92</td>\n",
              "      <td>1.0</td>\n",
              "      <td>0.96</td>\n",
              "      <td>1.0</td>\n",
              "      <td>0.97</td>\n",
              "      <td>0.98</td>\n",
              "    </tr>\n",
              "    <tr>\n",
              "      <th>1</th>\n",
              "      <td>Linear Support Vector Classifier</td>\n",
              "      <td>1.00</td>\n",
              "      <td>1.0</td>\n",
              "      <td>1.00</td>\n",
              "      <td>1.0</td>\n",
              "      <td>1.00</td>\n",
              "      <td>1.00</td>\n",
              "    </tr>\n",
              "    <tr>\n",
              "      <th>2</th>\n",
              "      <td>Multinomial Naive Bayes</td>\n",
              "      <td>1.00</td>\n",
              "      <td>1.0</td>\n",
              "      <td>1.00</td>\n",
              "      <td>1.0</td>\n",
              "      <td>1.00</td>\n",
              "      <td>1.00</td>\n",
              "    </tr>\n",
              "    <tr>\n",
              "      <th>3</th>\n",
              "      <td>Logistic Regression</td>\n",
              "      <td>0.96</td>\n",
              "      <td>1.0</td>\n",
              "      <td>0.98</td>\n",
              "      <td>1.0</td>\n",
              "      <td>0.98</td>\n",
              "      <td>0.99</td>\n",
              "    </tr>\n",
              "  </tbody>\n",
              "</table>\n",
              "</div>"
            ],
            "text/plain": [
              "                              Model  ...  F1 Score (Private Class)\n",
              "0                     Random Forest  ...                      0.98\n",
              "1  Linear Support Vector Classifier  ...                      1.00\n",
              "2           Multinomial Naive Bayes  ...                      1.00\n",
              "3               Logistic Regression  ...                      0.99\n",
              "\n",
              "[4 rows x 7 columns]"
            ]
          },
          "metadata": {
            "tags": []
          },
          "execution_count": 20
        }
      ]
    },
    {
      "cell_type": "markdown",
      "metadata": {
        "id": "gfC84F1BrOS4",
        "colab_type": "text"
      },
      "source": [
        "* high precision + high recall = *class pefectly handled by model*\n",
        "* high precision + low recall = *class can't detect the class but highly trustable when it does*\n",
        "* low precision + high recall = *well detected class but it also include points of other class*\n",
        "* low precision + low recall = *class poorly handled by the model* "
      ]
    }
  ]
}