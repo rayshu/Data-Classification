{
  "nbformat": 4,
  "nbformat_minor": 0,
  "metadata": {
    "kernelspec": {
      "display_name": "Python 3",
      "language": "python",
      "name": "python3"
    },
    "language_info": {
      "codemirror_mode": {
        "name": "ipython",
        "version": 3
      },
      "file_extension": ".py",
      "mimetype": "text/x-python",
      "name": "python",
      "nbconvert_exporter": "python",
      "pygments_lexer": "ipython3",
      "version": "3.6.7"
    },
    "colab": {
      "name": "Classifiers_NB_RF_SVM_LR.ipynb",
      "provenance": [],
      "collapsed_sections": [],
      "toc_visible": true
    }
  },
  "cells": [
    {
      "cell_type": "code",
      "metadata": {
        "id": "0jtBUgmsqub0",
        "colab_type": "code",
        "outputId": "ef6328c3-b8fe-442a-9ceb-05dec4a334bc",
        "colab": {
          "base_uri": "https://localhost:8080/",
          "height": 54
        }
      },
      "source": [
        "from google.colab import drive\n",
        "drive.mount('/content/drive')"
      ],
      "execution_count": 17,
      "outputs": [
        {
          "output_type": "stream",
          "text": [
            "Drive already mounted at /content/drive; to attempt to forcibly remount, call drive.mount(\"/content/drive\", force_remount=True).\n"
          ],
          "name": "stdout"
        }
      ]
    },
    {
      "cell_type": "markdown",
      "metadata": {
        "id": "v8SUX0duqM4l",
        "colab_type": "text"
      },
      "source": [
        "# Data Exploration"
      ]
    },
    {
      "cell_type": "code",
      "metadata": {
        "id": "IHaWq_f4qM4s",
        "colab_type": "code",
        "outputId": "90192c1c-26f1-41fd-a183-e0ddc4b26ce8",
        "colab": {
          "base_uri": "https://localhost:8080/",
          "height": 204
        }
      },
      "source": [
        "import pandas as pd\n",
        "df = pd.read_csv('/content/drive/My Drive/Data/cleaneddata.csv')\n",
        "df.head()"
      ],
      "execution_count": 18,
      "outputs": [
        {
          "output_type": "execute_result",
          "data": {
            "text/html": [
              "<div>\n",
              "<style scoped>\n",
              "    .dataframe tbody tr th:only-of-type {\n",
              "        vertical-align: middle;\n",
              "    }\n",
              "\n",
              "    .dataframe tbody tr th {\n",
              "        vertical-align: top;\n",
              "    }\n",
              "\n",
              "    .dataframe thead th {\n",
              "        text-align: right;\n",
              "    }\n",
              "</style>\n",
              "<table border=\"1\" class=\"dataframe\">\n",
              "  <thead>\n",
              "    <tr style=\"text-align: right;\">\n",
              "      <th></th>\n",
              "      <th>Text</th>\n",
              "      <th>DocType</th>\n",
              "    </tr>\n",
              "  </thead>\n",
              "  <tbody>\n",
              "    <tr>\n",
              "      <th>0</th>\n",
              "      <td>confirm usf mnd significant action mnc mnd eve...</td>\n",
              "      <td>Private</td>\n",
              "    </tr>\n",
              "    <tr>\n",
              "      <th>1</th>\n",
              "      <td>joint defense operation center receive report ...</td>\n",
              "      <td>Private</td>\n",
              "    </tr>\n",
              "    <tr>\n",
              "      <th>2</th>\n",
              "      <td>c small arm fire attack contractor set convoy ...</td>\n",
              "      <td>Private</td>\n",
              "    </tr>\n",
              "    <tr>\n",
              "      <th>3</th>\n",
              "      <td>c small arm fire attack contractor set convoy ...</td>\n",
              "      <td>Private</td>\n",
              "    </tr>\n",
              "    <tr>\n",
              "      <th>4</th>\n",
              "      <td>personal security detail travel north along ma...</td>\n",
              "      <td>Private</td>\n",
              "    </tr>\n",
              "  </tbody>\n",
              "</table>\n",
              "</div>"
            ],
            "text/plain": [
              "                                                Text  DocType\n",
              "0  confirm usf mnd significant action mnc mnd eve...  Private\n",
              "1  joint defense operation center receive report ...  Private\n",
              "2  c small arm fire attack contractor set convoy ...  Private\n",
              "3  c small arm fire attack contractor set convoy ...  Private\n",
              "4  personal security detail travel north along ma...  Private"
            ]
          },
          "metadata": {
            "tags": []
          },
          "execution_count": 18
        }
      ]
    },
    {
      "cell_type": "code",
      "metadata": {
        "id": "qKn-nwiSqM45",
        "colab_type": "code",
        "colab": {}
      },
      "source": [
        "df_ent = df.loc[(df['DocType']==\"Public\") | (df[\"DocType\"]==\"Private\"),:]\n",
        "df_nent = df.loc[df[\"DocType\"]==\"NE\",:]"
      ],
      "execution_count": 0,
      "outputs": []
    },
    {
      "cell_type": "code",
      "metadata": {
        "id": "MNKxqH1ft3_W",
        "colab_type": "code",
        "colab": {}
      },
      "source": [
        "doctype_to_id = {'Private': 1, 'Public': 0}"
      ],
      "execution_count": 0,
      "outputs": []
    },
    {
      "cell_type": "code",
      "metadata": {
        "id": "E77WDZb8qM5C",
        "colab_type": "code",
        "outputId": "3184192a-b15f-4cd7-e0b7-015727f1dbe9",
        "colab": {
          "base_uri": "https://localhost:8080/",
          "height": 326
        }
      },
      "source": [
        "df_ent['DocType_id'] = df_ent['DocType'].map(doctype_to_id)\n",
        "df_ent.head()"
      ],
      "execution_count": 21,
      "outputs": [
        {
          "output_type": "stream",
          "text": [
            "/usr/local/lib/python3.6/dist-packages/ipykernel_launcher.py:1: SettingWithCopyWarning: \n",
            "A value is trying to be set on a copy of a slice from a DataFrame.\n",
            "Try using .loc[row_indexer,col_indexer] = value instead\n",
            "\n",
            "See the caveats in the documentation: http://pandas.pydata.org/pandas-docs/stable/user_guide/indexing.html#returning-a-view-versus-a-copy\n",
            "  \"\"\"Entry point for launching an IPython kernel.\n"
          ],
          "name": "stderr"
        },
        {
          "output_type": "execute_result",
          "data": {
            "text/html": [
              "<div>\n",
              "<style scoped>\n",
              "    .dataframe tbody tr th:only-of-type {\n",
              "        vertical-align: middle;\n",
              "    }\n",
              "\n",
              "    .dataframe tbody tr th {\n",
              "        vertical-align: top;\n",
              "    }\n",
              "\n",
              "    .dataframe thead th {\n",
              "        text-align: right;\n",
              "    }\n",
              "</style>\n",
              "<table border=\"1\" class=\"dataframe\">\n",
              "  <thead>\n",
              "    <tr style=\"text-align: right;\">\n",
              "      <th></th>\n",
              "      <th>Text</th>\n",
              "      <th>DocType</th>\n",
              "      <th>DocType_id</th>\n",
              "    </tr>\n",
              "  </thead>\n",
              "  <tbody>\n",
              "    <tr>\n",
              "      <th>0</th>\n",
              "      <td>confirm usf mnd significant action mnc mnd eve...</td>\n",
              "      <td>Private</td>\n",
              "      <td>1</td>\n",
              "    </tr>\n",
              "    <tr>\n",
              "      <th>1</th>\n",
              "      <td>joint defense operation center receive report ...</td>\n",
              "      <td>Private</td>\n",
              "      <td>1</td>\n",
              "    </tr>\n",
              "    <tr>\n",
              "      <th>2</th>\n",
              "      <td>c small arm fire attack contractor set convoy ...</td>\n",
              "      <td>Private</td>\n",
              "      <td>1</td>\n",
              "    </tr>\n",
              "    <tr>\n",
              "      <th>3</th>\n",
              "      <td>c small arm fire attack contractor set convoy ...</td>\n",
              "      <td>Private</td>\n",
              "      <td>1</td>\n",
              "    </tr>\n",
              "    <tr>\n",
              "      <th>4</th>\n",
              "      <td>personal security detail travel north along ma...</td>\n",
              "      <td>Private</td>\n",
              "      <td>1</td>\n",
              "    </tr>\n",
              "  </tbody>\n",
              "</table>\n",
              "</div>"
            ],
            "text/plain": [
              "                                                Text  DocType  DocType_id\n",
              "0  confirm usf mnd significant action mnc mnd eve...  Private           1\n",
              "1  joint defense operation center receive report ...  Private           1\n",
              "2  c small arm fire attack contractor set convoy ...  Private           1\n",
              "3  c small arm fire attack contractor set convoy ...  Private           1\n",
              "4  personal security detail travel north along ma...  Private           1"
            ]
          },
          "metadata": {
            "tags": []
          },
          "execution_count": 21
        }
      ]
    },
    {
      "cell_type": "code",
      "metadata": {
        "id": "-0liJ1zWqM5L",
        "colab_type": "code",
        "outputId": "104b06fb-c985-4e76-ffee-a58c1814a8a0",
        "colab": {
          "base_uri": "https://localhost:8080/",
          "height": 326
        }
      },
      "source": [
        "df_nent['DocType_id'] = df_nent['DocType'].map({'NE' : 0})\n",
        "df_nent.head()"
      ],
      "execution_count": 22,
      "outputs": [
        {
          "output_type": "stream",
          "text": [
            "/usr/local/lib/python3.6/dist-packages/ipykernel_launcher.py:1: SettingWithCopyWarning: \n",
            "A value is trying to be set on a copy of a slice from a DataFrame.\n",
            "Try using .loc[row_indexer,col_indexer] = value instead\n",
            "\n",
            "See the caveats in the documentation: http://pandas.pydata.org/pandas-docs/stable/user_guide/indexing.html#returning-a-view-versus-a-copy\n",
            "  \"\"\"Entry point for launching an IPython kernel.\n"
          ],
          "name": "stderr"
        },
        {
          "output_type": "execute_result",
          "data": {
            "text/html": [
              "<div>\n",
              "<style scoped>\n",
              "    .dataframe tbody tr th:only-of-type {\n",
              "        vertical-align: middle;\n",
              "    }\n",
              "\n",
              "    .dataframe tbody tr th {\n",
              "        vertical-align: top;\n",
              "    }\n",
              "\n",
              "    .dataframe thead th {\n",
              "        text-align: right;\n",
              "    }\n",
              "</style>\n",
              "<table border=\"1\" class=\"dataframe\">\n",
              "  <thead>\n",
              "    <tr style=\"text-align: right;\">\n",
              "      <th></th>\n",
              "      <th>Text</th>\n",
              "      <th>DocType</th>\n",
              "      <th>DocType_id</th>\n",
              "    </tr>\n",
              "  </thead>\n",
              "  <tbody>\n",
              "    <tr>\n",
              "      <th>485</th>\n",
              "      <td>idaho vandal idaho vandal intercollegiate athl...</td>\n",
              "      <td>NE</td>\n",
              "      <td>0</td>\n",
              "    </tr>\n",
              "    <tr>\n",
              "      <th>486</th>\n",
              "      <td>robert l may robert lewis may july august crea...</td>\n",
              "      <td>NE</td>\n",
              "      <td>0</td>\n",
              "    </tr>\n",
              "    <tr>\n",
              "      <th>487</th>\n",
              "      <td>indycar series izod indycar series premier lev...</td>\n",
              "      <td>NE</td>\n",
              "      <td>0</td>\n",
              "    </tr>\n",
              "    <tr>\n",
              "      <th>488</th>\n",
              "      <td>philippine nationality law philippine national...</td>\n",
              "      <td>NE</td>\n",
              "      <td>0</td>\n",
              "    </tr>\n",
              "    <tr>\n",
              "      <th>489</th>\n",
              "      <td>takeichi nishi colonel baron imperial japanese...</td>\n",
              "      <td>NE</td>\n",
              "      <td>0</td>\n",
              "    </tr>\n",
              "  </tbody>\n",
              "</table>\n",
              "</div>"
            ],
            "text/plain": [
              "                                                  Text DocType  DocType_id\n",
              "485  idaho vandal idaho vandal intercollegiate athl...      NE           0\n",
              "486  robert l may robert lewis may july august crea...      NE           0\n",
              "487  indycar series izod indycar series premier lev...      NE           0\n",
              "488  philippine nationality law philippine national...      NE           0\n",
              "489  takeichi nishi colonel baron imperial japanese...      NE           0"
            ]
          },
          "metadata": {
            "tags": []
          },
          "execution_count": 22
        }
      ]
    },
    {
      "cell_type": "markdown",
      "metadata": {
        "id": "DZb5WI53qM5S",
        "colab_type": "text"
      },
      "source": [
        "# Imbalanced Classes"
      ]
    },
    {
      "cell_type": "code",
      "metadata": {
        "id": "hGgteNVXqM5U",
        "colab_type": "code",
        "outputId": "b524ce8e-2e61-45c5-b945-05c36c872364",
        "colab": {
          "base_uri": "https://localhost:8080/",
          "height": 429
        }
      },
      "source": [
        "import matplotlib.pyplot as plt\n",
        "fig = plt.figure(figsize=(8,6))\n",
        "graph = df.groupby('DocType').Text.count().plot.bar(ylim=0)\n",
        "\n",
        "for p in graph.patches:\n",
        "        graph.annotate('{:.0f}'.format(p.get_height()), (p.get_x()+0.3, p.get_height()))\n",
        "graph.set_title('Data Distribution') \n",
        "plt.show()"
      ],
      "execution_count": 23,
      "outputs": [
        {
          "output_type": "display_data",
          "data": {
            "image/png": "[encoded data removed]",
            "text/plain": [
              "<Figure size 576x432 with 1 Axes>"
            ]
          },
          "metadata": {
            "tags": []
          }
        }
      ]
    },
    {
      "cell_type": "code",
      "metadata": {
        "id": "UaTpYOPrqM5a",
        "colab_type": "code",
        "outputId": "77e52bc3-0b73-447d-83a7-3f3a5fb3b868",
        "colab": {
          "base_uri": "https://localhost:8080/",
          "height": 429
        }
      },
      "source": [
        "import matplotlib.pyplot as plt\n",
        "fig = plt.figure(figsize=(8,6))\n",
        "graph = df_ent.groupby('DocType').Text.count().plot.bar(ylim=0)\n",
        "\n",
        "for p in graph.patches:\n",
        "        graph.annotate('{:.0f}'.format(p.get_height()), (p.get_x()+0.3, p.get_height()))\n",
        "graph.set_title('Data distribution after undersampling') \n",
        "plt.show()\n"
      ],
      "execution_count": 24,
      "outputs": [
        {
          "output_type": "display_data",
          "data": {
            "image/png": "[encoded data removed]",
            "text/plain": [
              "<Figure size 576x432 with 1 Axes>"
            ]
          },
          "metadata": {
            "tags": []
          }
        }
      ]
    },
    {
      "cell_type": "markdown",
      "metadata": {
        "id": "YbwY0p3eqM5h",
        "colab_type": "text"
      },
      "source": [
        "# Text Representation"
      ]
    },
    {
      "cell_type": "markdown",
      "metadata": {
        "id": "gWmxi3KjqM5j",
        "colab_type": "text"
      },
      "source": [
        "* The classifiers can't directly process the text documents in their original form, as most of them expect numerical feature vectors with a fixed size.\n",
        "* *sublinear_tf* is set to True to use a logarithmic form for frequency.\n",
        "* *min_df* is the minimum numbers of documents a word must be present in to be kept.\n",
        "* *norm* is set to l2, to ensure all our feature vectors have a euclidian norm of 1.\n",
        "* *ngram_range* is set to (1, 2) to indicate that we want to consider both unigrams and bigrams.\n",
        "* *stop_words* is set to \"english\" to remove all common pronouns (\"a\", \"the\", ...) to reduce the number of noisy features."
      ]
    },
    {
      "cell_type": "markdown",
      "metadata": {
        "id": "3pvXDrbvqM5l",
        "colab_type": "text"
      },
      "source": [
        "### tf-idf vectors for df_ent "
      ]
    },
    {
      "cell_type": "code",
      "metadata": {
        "id": "S2cAJsf4qM5m",
        "colab_type": "code",
        "outputId": "94fd5d9b-1782-4948-de7e-f3bd0ec61296",
        "colab": {
          "base_uri": "https://localhost:8080/",
          "height": 34
        }
      },
      "source": [
        "from sklearn.feature_extraction.text import TfidfVectorizer\n",
        "tfidf = TfidfVectorizer(sublinear_tf=True, min_df=5, norm='l2', encoding='latin-1', ngram_range=(1, 2), stop_words='english')\n",
        "features = tfidf.fit_transform(df_ent.Text).toarray()\n",
        "labels = df_ent.DocType_id\n",
        "print(features.shape[0] , \"'Text' is represented by\", features.shape[1], \"features.\")"
      ],
      "execution_count": 25,
      "outputs": [
        {
          "output_type": "stream",
          "text": [
            "485 'Text' is represented by 3571 features.\n"
          ],
          "name": "stdout"
        }
      ]
    },
    {
      "cell_type": "markdown",
      "metadata": {
        "id": "TgVKxJDXqM53",
        "colab_type": "text"
      },
      "source": [
        "# Most corelated terms in each class"
      ]
    },
    {
      "cell_type": "code",
      "metadata": {
        "id": "ZoO-y73OqM56",
        "colab_type": "code",
        "outputId": "0d4f3975-c0d9-41da-8b2b-89698edf6dca",
        "colab": {
          "base_uri": "https://localhost:8080/",
          "height": 833
        }
      },
      "source": [
        "from sklearn.feature_selection import chi2\n",
        "import numpy as np\n",
        "N = 10\n",
        "file = open('/content/drive/My Drive/Data/corelatedTerms_tfidf.txt', 'w+')\n",
        "for DocType, DocType_id in sorted(doctype_to_id.items()):\n",
        "    features_chi2 = chi2(features, labels == DocType_id)\n",
        "    indices = np.argsort(features_chi2[0])\n",
        "    feature_names = np.array(tfidf.get_feature_names())[indices]\n",
        "    unigrams = [v for v in feature_names if len(v.split(' ')) == 1]\n",
        "    bigrams = [v for v in feature_names if len(v.split(' ')) == 2]\n",
        "    print(\"\\n# \\033[1m {}:\".format(DocType), \"\\033[0m \")\n",
        "    print(\"Most correlated unigrams:\\n. {}\".format('\\n. '.join(unigrams[-N:])))\n",
        "    print(\"Most correlated bigrams:\\n. {}\".format('\\n. '.join(bigrams[-N:])))\n",
        "    \n",
        "    file.write(\"\\n\\n# {}:\".format(DocType))\n",
        "    file.write(\"\\nMost correlated unigrams:\\n. {}\".format('\\n. '.join(unigrams[-N:])))\n",
        "    file.write(\"\\nMost correlated bigrams:\\n. {}\".format('\\n. '.join(bigrams[-N:])))\n",
        "file.close()"
      ],
      "execution_count": 26,
      "outputs": [
        {
          "output_type": "stream",
          "text": [
            "\n",
            "# \u001b[1m Private: \u001b[0m \n",
            "Most correlated unigrams:\n",
            ". report\n",
            ". vehicle\n",
            ". device\n",
            ". improvised\n",
            ". reconstruction\n",
            ". convoy\n",
            ". explosive\n",
            ". afghan\n",
            ". police\n",
            ". provincial\n",
            "Most correlated bigrams:\n",
            ". technical advisory\n",
            ". police technical\n",
            ". advisory team\n",
            ". small arm\n",
            ". improvised explosive\n",
            ". explosive device\n",
            ". national police\n",
            ". provincial reconstruction\n",
            ". reconstruction team\n",
            ". afghan national\n",
            "\n",
            "# \u001b[1m Public: \u001b[0m \n",
            "Most correlated unigrams:\n",
            ". report\n",
            ". vehicle\n",
            ". device\n",
            ". improvised\n",
            ". reconstruction\n",
            ". convoy\n",
            ". explosive\n",
            ". afghan\n",
            ". police\n",
            ". provincial\n",
            "Most correlated bigrams:\n",
            ". technical advisory\n",
            ". police technical\n",
            ". advisory team\n",
            ". small arm\n",
            ". improvised explosive\n",
            ". explosive device\n",
            ". national police\n",
            ". provincial reconstruction\n",
            ". reconstruction team\n",
            ". afghan national\n"
          ],
          "name": "stdout"
        }
      ]
    },
    {
      "cell_type": "markdown",
      "metadata": {
        "id": "nbRwZT5rqM6D",
        "colab_type": "text"
      },
      "source": [
        "## Naive Bayes Classifier"
      ]
    },
    {
      "cell_type": "code",
      "metadata": {
        "id": "lmhd-KobqM6E",
        "colab_type": "code",
        "colab": {}
      },
      "source": [
        "from sklearn.model_selection import train_test_split\n",
        "from sklearn.feature_extraction.text import CountVectorizer\n",
        "from sklearn.feature_extraction.text import TfidfTransformer\n",
        "from sklearn.naive_bayes import MultinomialNB\n",
        "X_train, X_test, y_train, y_test = train_test_split(df_ent['Text'], df_ent['DocType'], random_state = 0)\n",
        "count_vect = CountVectorizer()\n",
        "X_train_counts = count_vect.fit_transform(X_train)\n",
        "tfidf_transformer = TfidfTransformer()\n",
        "X_train_tfidf = tfidf_transformer.fit_transform(X_train_counts)\n",
        "clf = MultinomialNB().fit(X_train_tfidf, y_train)"
      ],
      "execution_count": 0,
      "outputs": []
    },
    {
      "cell_type": "code",
      "metadata": {
        "id": "aRu9Z5iHqM6O",
        "colab_type": "code",
        "outputId": "8eb4d712-12b5-44f3-d846-5b0c0c11adca",
        "colab": {
          "base_uri": "https://localhost:8080/",
          "height": 34
        }
      },
      "source": [
        "print(clf.predict(count_vect.transform([\"rocket attack vicinity adreskan l may one explosion rocket propel grenade hit west wall adreskan forward operating base military grid reference system mt adreskan forward operating base lteton adreskan call sign state tower try get information injury report yet l teton state west wall hit rocket propel grenade fire south camp graveyard dyncorp contractor person account west side wall still stable information source afghan regional security integration command west roc l\"])))"
      ],
      "execution_count": 36,
      "outputs": [
        {
          "output_type": "stream",
          "text": [
            "['Private']\n"
          ],
          "name": "stdout"
        }
      ]
    },
    {
      "cell_type": "code",
      "metadata": {
        "id": "GTlOt--bqM6U",
        "colab_type": "code",
        "outputId": "14053aed-bf87-4c96-9877-a92c4e856675",
        "colab": {
          "base_uri": "https://localhost:8080/",
          "height": 80
        }
      },
      "source": [
        "df_ent[df_ent['Text'] == \"rocket attack vicinity adreskan l may one explosion rocket propel grenade hit west wall adreskan forward operating base military grid reference system mt adreskan forward operating base lteton adreskan call sign state tower try get information injury report yet l teton state west wall hit rocket propel grenade fire south camp graveyard dyncorp contractor person account west side wall still stable information source afghan regional security integration command west roc l\"]"
      ],
      "execution_count": 37,
      "outputs": [
        {
          "output_type": "execute_result",
          "data": {
            "text/html": [
              "<div>\n",
              "<style scoped>\n",
              "    .dataframe tbody tr th:only-of-type {\n",
              "        vertical-align: middle;\n",
              "    }\n",
              "\n",
              "    .dataframe tbody tr th {\n",
              "        vertical-align: top;\n",
              "    }\n",
              "\n",
              "    .dataframe thead th {\n",
              "        text-align: right;\n",
              "    }\n",
              "</style>\n",
              "<table border=\"1\" class=\"dataframe\">\n",
              "  <thead>\n",
              "    <tr style=\"text-align: right;\">\n",
              "      <th></th>\n",
              "      <th>Text</th>\n",
              "      <th>DocType</th>\n",
              "      <th>DocType_id</th>\n",
              "    </tr>\n",
              "  </thead>\n",
              "  <tbody>\n",
              "    <tr>\n",
              "      <th>96</th>\n",
              "      <td>rocket attack vicinity adreskan l may one expl...</td>\n",
              "      <td>Private</td>\n",
              "      <td>1</td>\n",
              "    </tr>\n",
              "  </tbody>\n",
              "</table>\n",
              "</div>"
            ],
            "text/plain": [
              "                                                 Text  DocType  DocType_id\n",
              "96  rocket attack vicinity adreskan l may one expl...  Private           1"
            ]
          },
          "metadata": {
            "tags": []
          },
          "execution_count": 37
        }
      ]
    },
    {
      "cell_type": "markdown",
      "metadata": {
        "id": "7rLO-LaDqM6a",
        "colab_type": "text"
      },
      "source": [
        "# Model Selection"
      ]
    },
    {
      "cell_type": "markdown",
      "metadata": {
        "id": "qheDP0xRqM6e",
        "colab_type": "text"
      },
      "source": [
        "* Logistic Regression\n",
        "* (Multinomial) Naive Bayes\n",
        "* Linear SVM\n",
        "* Random Forest"
      ]
    },
    {
      "cell_type": "code",
      "metadata": {
        "scrolled": true,
        "id": "qZwelOeVqM6g",
        "colab_type": "code",
        "outputId": "b2578fc2-e939-4c4f-81d7-2cbf078bb7f4",
        "colab": {
          "base_uri": "https://localhost:8080/",
          "height": 280
        }
      },
      "source": [
        "from sklearn.linear_model import LogisticRegression\n",
        "from sklearn.ensemble import RandomForestClassifier\n",
        "from sklearn.svm import LinearSVC\n",
        "from sklearn.model_selection import cross_val_score\n",
        "models = [\n",
        "    RandomForestClassifier(n_estimators=200, max_depth=3, random_state=0),\n",
        "    LinearSVC(),\n",
        "    MultinomialNB(),\n",
        "    LogisticRegression(random_state=0),\n",
        "]\n",
        "CV = 5\n",
        "cv_df = pd.DataFrame(index=range(CV * len(models)))\n",
        "entries = []\n",
        "for model in models:\n",
        "    model_name = model.__class__.__name__\n",
        "    accuracies = cross_val_score(model, features, labels, scoring='accuracy', cv=CV)\n",
        "    for fold_idx, accuracy in enumerate(accuracies):\n",
        "        entries.append((model_name, fold_idx, accuracy))\n",
        "cv_df = pd.DataFrame(entries, columns=['model_name', 'fold_idx', 'accuracy'])\n",
        "import seaborn as sns\n",
        "sns.boxplot(x='model_name', y='accuracy', data=cv_df)\n",
        "sns.stripplot(x='model_name', y='accuracy', data=cv_df, \n",
        "              size=8, jitter=True, edgecolor=\"gray\", linewidth=2)\n",
        "plt.show()"
      ],
      "execution_count": 31,
      "outputs": [
        {
          "output_type": "display_data",
          "data": {
            "image/png": "[encoded data removed]",
            "text/plain": [
              "<Figure size 432x288 with 1 Axes>"
            ]
          },
          "metadata": {
            "tags": []
          }
        }
      ]
    },
    {
      "cell_type": "code",
      "metadata": {
        "id": "kRqvc6BXqM6m",
        "colab_type": "code",
        "outputId": "5d47c086-c12e-4594-d196-ee6a2162d10a",
        "colab": {
          "base_uri": "https://localhost:8080/",
          "height": 119
        }
      },
      "source": [
        "cv_df.groupby('model_name').accuracy.mean()"
      ],
      "execution_count": 32,
      "outputs": [
        {
          "output_type": "execute_result",
          "data": {
            "text/plain": [
              "model_name\n",
              "LinearSVC                 0.979381\n",
              "LogisticRegression        0.952577\n",
              "MultinomialNB             0.991753\n",
              "RandomForestClassifier    0.921649\n",
              "Name: accuracy, dtype: float64"
            ]
          },
          "metadata": {
            "tags": []
          },
          "execution_count": 32
        }
      ]
    },
    {
      "cell_type": "markdown",
      "metadata": {
        "id": "iyv8mWG5qM6t",
        "colab_type": "text"
      },
      "source": [
        "# Model evaluation"
      ]
    },
    {
      "cell_type": "code",
      "metadata": {
        "id": "xFbA-ajt1C-V",
        "colab_type": "code",
        "colab": {
          "base_uri": "https://localhost:8080/",
          "height": 111
        },
        "outputId": "bf291c32-c792-477a-b4c8-f19f2d9ff072"
      },
      "source": [
        "data = {'DocType': ['Public', 'Private'], 'doctype_id': [0, 1]}\n",
        "doctype_id_df = pd.DataFrame.from_dict(data)\n",
        "doctype_id_df.head()"
      ],
      "execution_count": 47,
      "outputs": [
        {
          "output_type": "execute_result",
          "data": {
            "text/html": [
              "<div>\n",
              "<style scoped>\n",
              "    .dataframe tbody tr th:only-of-type {\n",
              "        vertical-align: middle;\n",
              "    }\n",
              "\n",
              "    .dataframe tbody tr th {\n",
              "        vertical-align: top;\n",
              "    }\n",
              "\n",
              "    .dataframe thead th {\n",
              "        text-align: right;\n",
              "    }\n",
              "</style>\n",
              "<table border=\"1\" class=\"dataframe\">\n",
              "  <thead>\n",
              "    <tr style=\"text-align: right;\">\n",
              "      <th></th>\n",
              "      <th>DocType</th>\n",
              "      <th>doctype_id</th>\n",
              "    </tr>\n",
              "  </thead>\n",
              "  <tbody>\n",
              "    <tr>\n",
              "      <th>0</th>\n",
              "      <td>Public</td>\n",
              "      <td>0</td>\n",
              "    </tr>\n",
              "    <tr>\n",
              "      <th>1</th>\n",
              "      <td>Private</td>\n",
              "      <td>1</td>\n",
              "    </tr>\n",
              "  </tbody>\n",
              "</table>\n",
              "</div>"
            ],
            "text/plain": [
              "   DocType  doctype_id\n",
              "0   Public           0\n",
              "1  Private           1"
            ]
          },
          "metadata": {
            "tags": []
          },
          "execution_count": 47
        }
      ]
    },
    {
      "cell_type": "code",
      "metadata": {
        "id": "2Fux1ndhqM6v",
        "colab_type": "code",
        "outputId": "8760e715-37ef-4bfd-8f48-b8d3878ea3df",
        "colab": {
          "base_uri": "https://localhost:8080/",
          "height": 1000
        }
      },
      "source": [
        "from sklearn.metrics import confusion_matrix\n",
        "X_train, X_test, y_train, y_test, indices_train, indices_test = train_test_split(features, labels, df_ent.index, test_size=0.2, random_state=0)\n",
        "\n",
        "precision_public_list = []\n",
        "precision_private_list = []\n",
        "recall_public_list = []\n",
        "recall_private_list = []\n",
        "f1_public_list = []\n",
        "f1_private_list = []\n",
        "\n",
        "for model in models:\n",
        "    \n",
        "    model_name = model.__class__.__name__\n",
        "    model.fit(X_train, y_train)\n",
        "    y_pred = model.predict(X_test)\n",
        "    conf_mat = confusion_matrix(y_test, y_pred)\n",
        "    \n",
        "    print(model_name, '\\n', conf_mat)\n",
        "    fig, ax = plt.subplots(figsize=(10,10))\n",
        "    sns.heatmap(conf_mat, annot=True, fmt='d',\n",
        "            xticklabels=doctype_id_df.DocType.values, yticklabels=doctype_id_df.DocType.values)\n",
        "    plt.title(model_name)\n",
        "    plt.ylabel('Actual')\n",
        "    plt.xlabel('Predicted')\n",
        "    fig.savefig('/content/drive/My Drive/Data/' + model_name + '.png')\n",
        "    \n",
        "    True_private = conf_mat[0,0]\n",
        "    False_private = conf_mat[0,1]\n",
        "    False_public = conf_mat[1,0]\n",
        "    True_public = conf_mat[1,1]\n",
        "\n",
        "    precision_private = round((True_private) / (True_private + False_private), 2)\n",
        "    recall_private = round((True_private) / (True_private + False_public), 2)\n",
        "    f1_private = round((2 * precision_private * recall_private) / (precision_private + recall_private), 2)\n",
        "\n",
        "    precision_public = round((True_public) / (True_public + False_public), 2)\n",
        "    recall_public = round((True_public) / (True_public + False_private), 2)\n",
        "    f1_public = round((2 * precision_public * recall_public)/(precision_public + recall_public), 2)\n",
        "\n",
        "\n",
        "    #writing to list\n",
        "    precision_private_list.append(precision_private)\n",
        "    recall_private_list.append(recall_private)\n",
        "    f1_private_list.append(f1_private)\n",
        "\n",
        "    precision_public_list.append(precision_public)\n",
        "    recall_public_list.append(recall_public)\n",
        "    f1_public_list.append(f1_public)\n"
      ],
      "execution_count": 85,
      "outputs": [
        {
          "output_type": "stream",
          "text": [
            "RandomForestClassifier \n",
            " [[78  0]\n",
            " [ 5 14]]\n",
            "LinearSVC \n",
            " [[78  0]\n",
            " [ 0 19]]\n",
            "MultinomialNB \n",
            " [[78  0]\n",
            " [ 0 19]]\n",
            "LogisticRegression \n",
            " [[78  0]\n",
            " [ 2 17]]\n"
          ],
          "name": "stdout"
        },
        {
          "output_type": "display_data",
          "data": {
            "image/png": "[encoded data removed]",
            "text/plain": [
              "<Figure size 720x720 with 2 Axes>"
            ]
          },
          "metadata": {
            "tags": []
          }
        },
        {
          "output_type": "display_data",
          "data": {
            "image/png": "[encoded data removed]",
            "text/plain": [
              "<Figure size 720x720 with 2 Axes>"
            ]
          },
          "metadata": {
            "tags": []
          }
        },
        {
          "output_type": "display_data",
          "data": {
            "image/png": "[encoded data removed]",
            "text/plain": [
              "<Figure size 720x720 with 2 Axes>"
            ]
          },
          "metadata": {
            "tags": []
          }
        },
        {
          "output_type": "display_data",
          "data": {
            "image/png": "[encoded data removed]",
            "text/plain": [
              "<Figure size 720x720 with 2 Axes>"
            ]
          },
          "metadata": {
            "tags": []
          }
        }
      ]
    },
    {
      "cell_type": "code",
      "metadata": {
        "id": "QdysvUfHqM60",
        "colab_type": "code",
        "colab": {
          "base_uri": "https://localhost:8080/",
          "height": 241
        },
        "outputId": "718fc9b9-bfdc-4895-f14a-a1e139b61179"
      },
      "source": [
        "dict = {'Model':[\"Random Forest\", \"Linear Support Vector Classifier\", \"Multinomial Naive Bayes\", \"Logistic Regression\"], \n",
        "        'Precision (Public Class)': precision_public_list, \n",
        "        'Recall (Public Class)': recall_public_list,\n",
        "        'F1 Score (Public Class)': f1_public_list,\n",
        "        'Precision (Private Class)': precision_private_list,\n",
        "        'Recall (Private Class)': recall_private_list,\n",
        "        'F1 Score (Private Class)': f1_private_list\n",
        "        } \n",
        "    \n",
        "evaluation_df = pd.DataFrame(dict) \n",
        "evaluation_df\n",
        "  "
      ],
      "execution_count": 86,
      "outputs": [
        {
          "output_type": "execute_result",
          "data": {
            "text/html": [
              "<div>\n",
              "<style scoped>\n",
              "    .dataframe tbody tr th:only-of-type {\n",
              "        vertical-align: middle;\n",
              "    }\n",
              "\n",
              "    .dataframe tbody tr th {\n",
              "        vertical-align: top;\n",
              "    }\n",
              "\n",
              "    .dataframe thead th {\n",
              "        text-align: right;\n",
              "    }\n",
              "</style>\n",
              "<table border=\"1\" class=\"dataframe\">\n",
              "  <thead>\n",
              "    <tr style=\"text-align: right;\">\n",
              "      <th></th>\n",
              "      <th>Model</th>\n",
              "      <th>Precision (Public Class)</th>\n",
              "      <th>Recall (Public Class)</th>\n",
              "      <th>F1 Score (Public Class)</th>\n",
              "      <th>Precision (Private Class)</th>\n",
              "      <th>Recall (Private Class)</th>\n",
              "      <th>F1 Score (Private Class)</th>\n",
              "    </tr>\n",
              "  </thead>\n",
              "  <tbody>\n",
              "    <tr>\n",
              "      <th>0</th>\n",
              "      <td>Random Forest</td>\n",
              "      <td>0.74</td>\n",
              "      <td>1.0</td>\n",
              "      <td>0.85</td>\n",
              "      <td>1.0</td>\n",
              "      <td>0.94</td>\n",
              "      <td>0.97</td>\n",
              "    </tr>\n",
              "    <tr>\n",
              "      <th>1</th>\n",
              "      <td>Linear Support Vector Classifier</td>\n",
              "      <td>1.00</td>\n",
              "      <td>1.0</td>\n",
              "      <td>1.00</td>\n",
              "      <td>1.0</td>\n",
              "      <td>1.00</td>\n",
              "      <td>1.00</td>\n",
              "    </tr>\n",
              "    <tr>\n",
              "      <th>2</th>\n",
              "      <td>Multinomial Naive Bayes</td>\n",
              "      <td>1.00</td>\n",
              "      <td>1.0</td>\n",
              "      <td>1.00</td>\n",
              "      <td>1.0</td>\n",
              "      <td>1.00</td>\n",
              "      <td>1.00</td>\n",
              "    </tr>\n",
              "    <tr>\n",
              "      <th>3</th>\n",
              "      <td>Logistic Regression</td>\n",
              "      <td>0.89</td>\n",
              "      <td>1.0</td>\n",
              "      <td>0.94</td>\n",
              "      <td>1.0</td>\n",
              "      <td>0.98</td>\n",
              "      <td>0.99</td>\n",
              "    </tr>\n",
              "  </tbody>\n",
              "</table>\n",
              "</div>"
            ],
            "text/plain": [
              "                              Model  ...  F1 Score (Private Class)\n",
              "0                     Random Forest  ...                      0.97\n",
              "1  Linear Support Vector Classifier  ...                      1.00\n",
              "2           Multinomial Naive Bayes  ...                      1.00\n",
              "3               Logistic Regression  ...                      0.99\n",
              "\n",
              "[4 rows x 7 columns]"
            ]
          },
          "metadata": {
            "tags": []
          },
          "execution_count": 86
        }
      ]
    },
    {
      "cell_type": "code",
      "metadata": {
        "id": "-WtZ-_Ec_Wg5",
        "colab_type": "code",
        "colab": {}
      },
      "source": [
        ""
      ],
      "execution_count": 0,
      "outputs": []
    }
  ]
}